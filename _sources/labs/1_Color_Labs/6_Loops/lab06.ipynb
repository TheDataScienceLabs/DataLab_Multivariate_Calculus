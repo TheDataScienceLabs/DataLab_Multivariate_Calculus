{
 "cells": [
  {
   "cell_type": "markdown",
   "id": "4866635e-21ae-4964-b8a3-45fab5451a3f",
   "metadata": {},
   "source": [
    "# Week 7: Different Types of Loops\n",
    "\n",
    "<font size=\"6\"> Laboratory 6 </font> <br>\n",
    "<font size=\"3\"> Last updated July 22, 2022 </font>"
   ]
  },
  {
   "cell_type": "markdown",
   "id": "b616fa4d-28da-4088-8fcd-4994d7d74e85",
   "metadata": {},
   "source": [
    "## <span style=\"color:orange;\"> 00. Content </span>\n",
    "\n",
    "<font size=\"5\"> Mathematics </font>\n",
    "- Type here\n",
    "    \n",
    "<font size=\"5\"> Programming Skills </font>\n",
    "- Type here\n",
    "    \n",
    "<font size=\"5\"> Embedded Systems </font>\n",
    "- Type here\n",
    "\n",
    "## <span style=\"color:orange;\"> 0. Required Hardware </span>\n",
    "- Type here"
   ]
  },
  {
   "cell_type": "markdown",
   "id": "c9d01644-3325-475c-9653-e058d82811cf",
   "metadata": {},
   "source": [
    "<h3 style=\"background-color:lightblue\"> Write your name and email below: </h3>\n",
    "\n",
    "**Name:** me \n",
    "\n",
    "**Email:** me @purdue.edu"
   ]
  },
  {
   "cell_type": "code",
   "execution_count": null,
   "id": "f8ed35c4-f32d-4843-acdc-e45fe35d579f",
   "metadata": {},
   "outputs": [],
   "source": [
    "import numpy as np\n",
    "import matplotlib.pyplot as plt\n",
    "import cv2"
   ]
  },
  {
   "cell_type": "markdown",
   "id": "c53e2780-887e-42cd-b2f1-be7d9f30bff5",
   "metadata": {},
   "source": []
  }
 ],
 "metadata": {
  "kernelspec": {
   "display_name": "Python 3 (ipykernel)",
   "language": "python",
   "name": "python3"
  },
  "language_info": {
   "codemirror_mode": {
    "name": "ipython",
    "version": 3
   },
   "file_extension": ".py",
   "mimetype": "text/x-python",
   "name": "python",
   "nbconvert_exporter": "python",
   "pygments_lexer": "ipython3",
   "version": "3.10.4"
  }
 },
 "nbformat": 4,
 "nbformat_minor": 5
}
