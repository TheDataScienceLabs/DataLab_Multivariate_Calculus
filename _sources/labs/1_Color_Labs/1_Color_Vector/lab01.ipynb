{
 "cells": [
  {
   "cell_type": "markdown",
   "id": "21825428",
   "metadata": {},
   "source": [
    "# Week 2: Color as a Vector \n",
    "\n",
    "<font size=\"6\"> Laboratory 1 </font> <br>\n",
    "<font size=\"3\"> Last updated August 17, 2022 </font>"
   ]
  },
  {
   "cell_type": "markdown",
   "id": "18810f48",
   "metadata": {},
   "source": [
    "## <span style=\"color:orange;\"> 00. Content </span>\n",
    "\n",
    "<font size=\"5\"> Mathematics </font>\n",
    "- 3 dimensional vectors\n",
    "- dot product\n",
    "- cross product\n",
    "- matrix multiplication\n",
    "\n",
    "<font size=\"5\"> Programming Skills </font>\n",
    "- Array indexing\n",
    "- Multi-dimensional array manipulation\n",
    "- Loops\n",
    "- Functions\n",
    "- Vectorized functions\n",
    "\n",
    "<font size=\"5\"> Embedded Systems </font>\n",
    "- N/A\n",
    "\n",
    "## <span style=\"color:orange;\"> 0. Required Hardware </span>\n",
    "- N/A"
   ]
  },
  {
   "cell_type": "markdown",
   "id": "729da6bd",
   "metadata": {},
   "source": [
    "<h3 style=\"background-color:lightblue\"> Write your name and email below: </h3>\n",
    "\n",
    "**Name:** me \n",
    "\n",
    "**Email:** me @purdue.edu"
   ]
  },
  {
   "cell_type": "code",
   "execution_count": null,
   "id": "6275558e",
   "metadata": {},
   "outputs": [],
   "source": [
    "import numpy as np\n",
    "import matplotlib.pyplot as plt\n",
    "%matplotlib inline"
   ]
  },
  {
   "cell_type": "markdown",
   "id": "9dc1ac15",
   "metadata": {},
   "source": [
    "## <span style=\"color:orange;\"> 1. RGB Values </span>\n",
    "\n",
    "Colors in Python can be specified by a red, green, and blue channel value. Each number is an integer (usually between 0-255) that represents the intensity of red, blue, and green light that is mixed together to produce the resulting color. To display the color, we can use Matplotlib's `imshow()` function. The input to this function is a multi-dimensional array that contains information about the size of the image and the color of each pixel. Let's print just one red pixel. That means our image is size $1 \\times 1$ and the color we've chosen is the vector $[255,0,0]$. In the following code cell, the variable `img` has shape $(1,1,3)$; the first two dimensions give the number of rows and the number of columns of pixels. The third dimension is 3, which tells us that `img` is a $1 \\times 1$ array where each entry is a length 3 array."
   ]
  },
  {
   "cell_type": "code",
   "execution_count": null,
   "id": "6b9e55f9",
   "metadata": {},
   "outputs": [],
   "source": [
    "red = 255\n",
    "green = 0\n",
    "blue = 0\n",
    "color = np.array([red,green,blue])\n",
    "\n",
    "img = color.reshape((1,1,3))  # change array from shape (3,) to (1,1,3) which the right dimension required by plt.show()\n",
    "print(img.shape)\n",
    "\n",
    "plt.imshow(img)\n",
    "plt.axis('off')\n",
    "plt.show()"
   ]
  },
  {
   "cell_type": "markdown",
   "id": "4d86bf87",
   "metadata": {},
   "source": [
    "The input of 'imshow' is a three dimensional $ M * N * 3 $ array. M is the number of rows and N decides how many pixels are in one row. For each pixel, we need to specify its color according to its RGB value, so we need to specify 3 numbers for each pixel. This is why the last number is a 3. "
   ]
  },
  {
   "cell_type": "markdown",
   "id": "4cb62855",
   "metadata": {},
   "source": [
    "So, for example, in order to create an image consisting of two side-by-side squares, a red one on the left and a green one on the right, we can use the following code."
   ]
  },
  {
   "cell_type": "code",
   "execution_count": null,
   "id": "a42f5f8d",
   "metadata": {},
   "outputs": [],
   "source": [
    "# create a picture with two pixels on one row\n",
    "red = [255,0,0]    # RGB value for red\n",
    "green = [0,255,0]  # RGB value for green\n",
    "img = [[red,green]]   \n",
    "\n",
    "plt.imshow(img)\n",
    "plt.axis('off')\n",
    "plt.show()"
   ]
  },
  {
   "cell_type": "markdown",
   "id": "4fe0282c",
   "metadata": {},
   "source": [
    "Similarly when we use a  $2 \\times 2 \\times 3$ array as the the input of `imshow()`, we can get 4 pixels of the colors we want."
   ]
  },
  {
   "cell_type": "code",
   "execution_count": null,
   "id": "d957db7e",
   "metadata": {},
   "outputs": [],
   "source": [
    "# create a picture with four pixels spread evenly among two row\n",
    "red     =    [255,0,0]      # RGB value for red\n",
    "green   =    [0,255,0]      # RGB value for green\n",
    "blue    =    [0,0,255]      # RGB value for blue\n",
    "white   =    [255,255,255]  # RGB value for white\n",
    "img = [[red,green],[blue,white]]\n",
    "#      [first row],[second row] \n",
    "\n",
    "plt.imshow(img)\n",
    "plt.axis('off')\n",
    "plt.show()"
   ]
  },
  {
   "cell_type": "markdown",
   "id": "9b4eb28e",
   "metadata": {},
   "source": [
    "We can use `np.random.randin` to help us generate a $M \\times N \\times 3$ matrix with a random value for each element."
   ]
  },
  {
   "cell_type": "code",
   "execution_count": null,
   "id": "b1b4cf2c",
   "metadata": {},
   "outputs": [],
   "source": [
    "# generate a random 2 * 2 * 3 array with each value being between 0 and 256\n",
    "img_2_2 = np.random.randint(low = 0, high = 256, size = (2, 2, 3))\n",
    "print(\"Shape of the array: \",img_2_2.shape,\"\\n\")\n",
    "print(\"The array looks like: \",img_2_2)\n",
    "\n",
    "# use a 2 * 2 * 3 array to create a 2 * 2  image\n",
    "plt.imshow(img_2_2)\n",
    "plt.axis('off')\n",
    "plt.show()"
   ]
  },
  {
   "cell_type": "markdown",
   "id": "5e6d0f44",
   "metadata": {},
   "source": [
    "### <span style=\"color:red\"> Exercise 1 </span>\n",
    "\n",
    "What are the RGB values of the color in the lower left square of the random $2\\times 2$ image?\n",
    "\n",
    "<h3 style=\"background-color:lightblue\"> Write Answers for Exercise 1 Below </h3>"
   ]
  },
  {
   "cell_type": "markdown",
   "id": "4ca8a36e",
   "metadata": {},
   "source": []
  },
  {
   "cell_type": "markdown",
   "id": "e473ce13",
   "metadata": {},
   "source": [
    "### <span style=\"color:red\"> Exercise 2 </span>\n",
    "\n",
    "Display the following shapes:\n",
    "1. green square\n",
    "2. blue square\n",
    "3. yellow square\n",
    "4. Purdue Old Gold square (RGB = (206, 184, 136))\n",
    "5. square that is half red and half yellow\n",
    "\n",
    "<h3 style=\"background-color:lightblue\"> Write Answers for Exercise 2 Below </h3>"
   ]
  },
  {
   "cell_type": "code",
   "execution_count": null,
   "id": "e52fba5f",
   "metadata": {},
   "outputs": [],
   "source": []
  },
  {
   "cell_type": "markdown",
   "id": "3fc0da37",
   "metadata": {},
   "source": [
    "Let's display a larger image. We can create a $M \\times N \\times 3$ array where each pixel is a random color. Let's set M and N equal to 100."
   ]
  },
  {
   "cell_type": "code",
   "execution_count": null,
   "id": "940d8d95",
   "metadata": {},
   "outputs": [],
   "source": [
    "larger_img = np.random.randint(low = 0, high = 256, size = (100, 100, 3))\n",
    "\n",
    "plt.imshow(larger_img)\n",
    "plt.axis('off')\n",
    "plt.show()"
   ]
  },
  {
   "cell_type": "markdown",
   "id": "958b8819-e5be-45a4-bb8b-277e6f6ce2c4",
   "metadata": {},
   "source": [
    "## <span style=\"color:orange;\"> 2. Loops vs. Vector Operations </span>\n",
    "\n",
    "Loops have been a staple in our programming so far, but they have their drawbacks. \n",
    "As we work with large images (which are just large arrays) in the coming sections, loops may slow down your code significantly.\n",
    "Numpy's functions are vectorized, meaning they are optimized to do computations strictly on numerical inputs and are much faster compared to using for loops in Python to compute, for example, the sum of values in a specific row.\n",
    "Python has a module `timeit` that allows us to compare CPU (central processing unit) times for different pieces of code to run. For example, let's see how long it takes to add two numbers."
   ]
  },
  {
   "cell_type": "code",
   "execution_count": null,
   "id": "865a947c",
   "metadata": {},
   "outputs": [],
   "source": [
    "def myfunc():\n",
    "    1 + 2\n",
    "    return\n",
    "\n",
    "%timeit myfunc()"
   ]
  },
  {
   "cell_type": "markdown",
   "id": "543e3464",
   "metadata": {},
   "source": [
    "**Warning:** Make sure there are no print statements or plotting functions called within the function you want to time. Since `timeit` calls your function over a million times, you do not want to be printing over a million lines!"
   ]
  },
  {
   "cell_type": "markdown",
   "id": "947aa103",
   "metadata": {},
   "source": [
    "### <span style=\"color:red\"> Exercise 3 </span>\n",
    "\n",
    "Write a function to manually compute the dot product between two vectors. Compare the CPU time for your function vs numpy's dot function.\n",
    "\n",
    "<h3 style=\"background-color:lightblue\"> Write Answers for Exercise 3 Below </h3>"
   ]
  },
  {
   "cell_type": "code",
   "execution_count": null,
   "id": "04c685e7",
   "metadata": {},
   "outputs": [],
   "source": []
  },
  {
   "cell_type": "markdown",
   "id": "28505ac9",
   "metadata": {},
   "source": [
    "### <span style=\"color:red\"> Exercise 4 </span>\n",
    "\n",
    "Write a function to manually compute the cross product between two vectors. Compare the CPU time for your function vs numpy's cross function.\n",
    "\n",
    "<h3 style=\"background-color:lightblue\"> Write Answers for Exercise 4 Below </h3>"
   ]
  },
  {
   "cell_type": "code",
   "execution_count": null,
   "id": "c5e8ffcc",
   "metadata": {},
   "outputs": [],
   "source": []
  },
  {
   "cell_type": "markdown",
   "id": "c42d8754",
   "metadata": {},
   "source": [
    "### <span style=\"color:red\"> Exercise 5 </span>\n",
    "\n",
    "Write a function with a parameter $n$ to manually compute a randomly generated $n\\times n$ matrix multiplied by a randomly-generated $n\\times 1$ vector. Compare the CPU time for your function vs the `@` operator. How do the times differ when $n$ is large?\n",
    "\n",
    "<h3 style=\"background-color:lightblue\"> Write Answers for Exercise 5 Below </h3>"
   ]
  },
  {
   "cell_type": "code",
   "execution_count": 33,
   "id": "9783726d",
   "metadata": {},
   "outputs": [
    {
     "data": {
      "text/plain": [
       "array([ 5, 11])"
      ]
     },
     "execution_count": 33,
     "metadata": {},
     "output_type": "execute_result"
    }
   ],
   "source": [
    "# here's an example of matrix vector multiplication\n",
    "A = np.array([[1,2],\n",
    "              [3,4]])\n",
    "b = np.array([1,2])\n",
    "A @ b"
   ]
  },
  {
   "cell_type": "markdown",
   "id": "8cf80c8d-6f60-4a0e-8bd7-4d6ba17759d4",
   "metadata": {},
   "source": [
    "### <span style=\"color:red\"> Exercise 6 </span>\n",
    "\n",
    "__Part 1:__ Display the outputs of functions `f1` and `f2` defined in the cell below. \n",
    "\n",
    "__Part 2:__ In a few sentences, describe the similarities and differences between the two functions and report which function is faster (with evidence).\n",
    "\n",
    "<h3 style=\"background-color:lightblue\"> Write Answers for Exercise 6 Below </h3>"
   ]
  },
  {
   "cell_type": "code",
   "execution_count": null,
   "id": "c563e90b-5f66-41dc-9285-1a3d5b20bd1f",
   "metadata": {},
   "outputs": [],
   "source": [
    "def f1():\n",
    "    img = np.ones((9,9,3))\n",
    "    for i in range(9):\n",
    "        for j in range(9):\n",
    "            if i == 0 or i == 8 or j == 0 or j == 8:\n",
    "                img[i,j] = [0,255,255]\n",
    "            else:\n",
    "                img[i,j] = [255,255,0]\n",
    "    return img\n",
    "\n",
    "def f2():\n",
    "    img = [0,255,255] * np.ones((9,9,1))\n",
    "    img[1:-1,1:-1] = [255,255,0] * np.ones((7,7,1))\n",
    "    return img"
   ]
  },
  {
   "cell_type": "markdown",
   "id": "0f1501c9-5c86-45e7-a45a-89720b08cb61",
   "metadata": {},
   "source": [
    "### <span style=\"color:red\"> Exercise 7 </span>\n",
    "\n",
    "Look up the work of artist Piet Mondrian. In your own style, recreate a Mondrian-esqe painting using vectorized operations instead of mainly for loops. \n",
    "\n",
    "<h3 style=\"background-color:lightblue\"> Write Answers for Exercise 7 Below </h3>"
   ]
  },
  {
   "cell_type": "code",
   "execution_count": null,
   "id": "0284f83a-2c22-422f-8771-83a39ec3fc44",
   "metadata": {},
   "outputs": [],
   "source": []
  },
  {
   "cell_type": "markdown",
   "id": "ee514e05",
   "metadata": {},
   "source": [
    "### Dithering\n",
    "\n",
    "So far, when we choose a color to display we have 256 choices for the red channel value, 256 choices for the green channel and another 256 choices for blue.\n",
    "In total, that is $256 \\times 256 \\times 256 = 16,777,216$ colors available to us, but clearly there is an infinite number of colors. \n",
    "Dithering is the process of adding patterns in an image to create the visual effect of colors outside of a fixed color palette.\n",
    "\n",
    "Suppose that we can only use the colors red and yellow. We can create the illusion of orange by displaying red and yellow pixels in a large checkerboard pattern."
   ]
  },
  {
   "cell_type": "code",
   "execution_count": null,
   "id": "c302b17c",
   "metadata": {},
   "outputs": [],
   "source": [
    "import numpy as np\n",
    "import matplotlib.pyplot as plt\n",
    "\n",
    "palette = np.array([[255,   0,   0], # index 0: red\n",
    "                    [  0, 255,   0], # index 1: green\n",
    "                    [  0,   0, 255], # index 2: blue\n",
    "                    [255, 255, 255], # index 3: white\n",
    "                    [  0,   0,   0], # index 4: black\n",
    "                    [255, 255,   0]  # index 5: yellow\n",
    "                    ])\n",
    "\n",
    "pattern = np.array([     # make the pattern using the index of the color           \n",
    "    [0,5],               # 0=red, 5=yellow\n",
    "    [5,0]   ])\n",
    "\n",
    "fig, ax = plt.subplots(nrows=1, ncols=3, figsize=(12, 4))\n",
    "ax[0].imshow(palette[pattern])\n",
    "ax[0].axis('off')            \n",
    "ax[1].imshow(palette[np.tile(pattern, (2,2))])\n",
    "ax[1].axis('off')\n",
    "ax[2].imshow(palette[np.tile(pattern, (50,50))])\n",
    "ax[2].axis('off')\n",
    "plt.show()"
   ]
  },
  {
   "cell_type": "markdown",
   "id": "d73573b2",
   "metadata": {},
   "source": [
    "### <span style=\"color:red\"> Exercise 8 </span>\n",
    "\n",
    "Recreate the three images above without using the `np.tile` function. You can use any other methods you've seen previously.\n",
    "Compare the CPU times to generate the set of images with your own function and the tile method given above.\n",
    "\n",
    "<h3 style=\"background-color:lightblue\"> Write Answers for Exercise 8 Below </h3>"
   ]
  },
  {
   "cell_type": "code",
   "execution_count": null,
   "id": "df021599",
   "metadata": {},
   "outputs": [],
   "source": []
  },
  {
   "cell_type": "markdown",
   "id": "bd6f2ca0",
   "metadata": {},
   "source": [
    "Next week we will be using small programmable LED lights called NeoPixels to create color patterns and light shows. Dithering is applied within the hardware of the NeoPixels to display a wide range of colors, but the color palette is much larger than simply bright red and yellow. We have red, green, and blue in varying intensities."
   ]
  },
  {
   "cell_type": "markdown",
   "id": "fc872be5",
   "metadata": {},
   "source": [
    "<h3 style=\"color:green;\"><left> Sandbox </left></h3>\n",
    "Sandboxes are a place for you to experiment with the code you've seen so far. Any code you write in a sandbox will not be graded.\n",
    "\n",
    "<span style=\"color:green;\"><left> Try out some other patterns with different colors.  </left></span>"
   ]
  },
  {
   "cell_type": "code",
   "execution_count": null,
   "id": "58be8546",
   "metadata": {},
   "outputs": [],
   "source": [
    "palette = np.array([[150,   0,   0], # index 0: dimmer red\n",
    "                    [  0, 100,   0], # index 1: dimmer green\n",
    "                    [  0,   0, 255]  # index 2: blue\n",
    "                    ])\n",
    "\n",
    "pattern = np.array([     # make the pattern using the index of the color       \n",
    "    [0,1,2],              \n",
    "    [1,2,0],\n",
    "    [2,0,1]   ])\n",
    "\n",
    "fig, ax = plt.subplots(nrows=1, ncols=3, figsize=(12, 4))\n",
    "ax[0].imshow(palette[pattern])\n",
    "ax[0].axis('off')            \n",
    "ax[1].imshow(palette[np.tile(pattern, (2,2))])\n",
    "ax[1].axis('off')\n",
    "ax[2].imshow(palette[np.tile(pattern, (50,50))])\n",
    "ax[2].axis('off')\n",
    "plt.show()"
   ]
  },
  {
   "cell_type": "markdown",
   "id": "c2722cd9",
   "metadata": {},
   "source": [
    "## <span style=\"color:green;\"> Reflection </span>\n",
    "\n",
    "Do not skip this section! It will be graded but only on completion.\n",
    "\n",
    "__1. What parts of the lab, if any, do you feel you did well? <br>\n",
    "2. What are some things you learned today? <br>\n",
    "3. Are there any topics that could use more clarification? <br>\n",
    "4. Do you have any suggestions on parts of the lab to improve?__\n",
    "\n",
    "<h3 style=\"background-color:lightblue\"> Write Answers for the Reflection Below </h3>"
   ]
  },
  {
   "cell_type": "markdown",
   "id": "0ed9db0d",
   "metadata": {},
   "source": []
  }
 ],
 "metadata": {
  "interpreter": {
   "hash": "5733b5ebf5ecec2b002a59c36710d44decb4334b28aff8074b4cca610e6649ad"
  },
  "kernelspec": {
   "display_name": "Python 3",
   "language": "python",
   "name": "python3"
  },
  "language_info": {
   "codemirror_mode": {
    "name": "ipython",
    "version": 3
   },
   "file_extension": ".py",
   "mimetype": "text/x-python",
   "name": "python",
   "nbconvert_exporter": "python",
   "pygments_lexer": "ipython3",
   "version": "3.8.8"
  }
 },
 "nbformat": 4,
 "nbformat_minor": 5
}
