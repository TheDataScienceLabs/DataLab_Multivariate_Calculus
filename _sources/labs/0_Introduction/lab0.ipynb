{
 "cells": [
  {
   "cell_type": "markdown",
   "id": "a86c853b-b82f-4883-bf03-15a2c05b87db",
   "metadata": {},
   "source": [
    "# Week 1: Introduction\n",
    "\n",
    "<font size=\"6\"> Laboratory 0 </font> <br>\n",
    "<font size=\"3\"> Last updated July 07, 2022 </font>"
   ]
  },
  {
   "cell_type": "markdown",
   "id": "e90879f5-f730-44da-ad7a-be77ee8b2eaa",
   "metadata": {},
   "source": [
    "## <span style=\"color:orange;\"> 00. Content </span>"
   ]
  },
  {
   "cell_type": "markdown",
   "id": "ba827722-0c2f-493b-a2d2-d7f0bda08882",
   "metadata": {},
   "source": [
    "<font size=\"5\"> Mathematics </font>\n",
    "- N/A\n",
    "     \n",
    "<font size=\"5\"> Programming Skills </font>\n",
    "- REPL system\n",
    "- Editing code/Markdown boxes\n",
    "- Markdown\n",
    "- Latex    \n",
    "    \n",
    "<font size=\"5\"> Embedded Systems </font>\n",
    "- N/A"
   ]
  },
  {
   "cell_type": "markdown",
   "id": "40ef17dd-1c68-43ed-9406-c2b55840c4b5",
   "metadata": {},
   "source": [
    "## <span style=\"color:orange;\"> 0. Required Hardware </span>"
   ]
  },
  {
   "cell_type": "markdown",
   "id": "ec4e4a28-936f-4676-8286-c69f06d2ac08",
   "metadata": {},
   "source": [
    "- N/A"
   ]
  },
  {
   "cell_type": "markdown",
   "id": "a9b4a375-00e6-40d3-bea2-dcc8a1492083",
   "metadata": {},
   "source": [
    "## <span style=\"color:orange;\"> 1. Before Starting </span>"
   ]
  },
  {
   "cell_type": "markdown",
   "id": "38663706-99db-4699-9cf3-4d78ae5131bc",
   "metadata": {},
   "source": [
    "Before really getting started with this course, navigate to the Brightspace and read through the Syllabus.\n",
    "\n",
    "After this is completed, we will be setting up a file for organizational purposes that will be used to store all files throughout this course. To do this, navigate to the *Home* directory and add a new folder by right-clicking. Name the folder something that will be easy to find, such as \"DSLab_Calc3.\" If you'd like to put it at the top of the list of folders and make it even easier to find, add a tilde (~) at the beginning of the name you chose.\n",
    "\n",
    "Save this and all other files going forward to this folder. It'll make everything much easier to find and will especially come in handy when submitting the labs at the end of each class. This includes files that are downloaded through links during labs. When you click on a file link, it'll send you to the GitHub page for that file. To download and save it to your folder, click on the button that says \"Raw\" on the top right of the file preview (unless it's a PDF, then just click \"Download\"). This will take you to a white page with the information in black text. To see the file in the proper environment, right-click the screen and click \"Save as...\" and once you open it after this, it should appear in the correct environment!\n",
    "\n",
    "## Laboratory ethics\n",
    "\n",
    "\"I pledge to behave ethically and with honesty in this course. I may discuss approaches for a solution with others, but my submitted lab report will be my own work, including all code. I will not make my finished reports available to other students, even after the semester is over. In particular, I will not post my labs on the Internet or make my files available to other people. I will not be a cheater.\""
   ]
  },
  {
   "cell_type": "markdown",
   "id": "f3a9dff0-74d1-4d7e-af6b-033eaae31c0c",
   "metadata": {},
   "source": [
    "## <span style=\"color:orange;\"> 4. Submitting Labs </span>"
   ]
  },
  {
   "cell_type": "markdown",
   "id": "6425a5b8-6ef6-4ce4-872e-e1bba659e1ae",
   "metadata": {},
   "source": [
    "Now that you've finished the first lab, you're probably wondering how to submit it. This was briefly explained in the Introduction, but here it'll be explained a bit better.\n",
    "\n",
    "First, make sure that everything is completely filled out and saved (either by typing Ctrl+S or by clicking the floppy disk icon in the top left of this application). Once you've done this, navigate to *File* in the top left of the screen and find *Save and Export Notebook As...\"*. Once the drop down comes up, click on PDF and save a file to the folder you made at the beginning of this lab. Once this has been done you can turn it in the same way as all of your other classes in Brightspace under the submission link.\n",
    "\n",
    "Once you've done this, you've completed your first lab for this class!"
   ]
  }
 ],
 "metadata": {
  "kernelspec": {
   "display_name": "Python 3 (ipykernel)",
   "language": "python",
   "name": "python3"
  },
  "language_info": {
   "codemirror_mode": {
    "name": "ipython",
    "version": 3
   },
   "file_extension": ".py",
   "mimetype": "text/x-python",
   "name": "python",
   "nbconvert_exporter": "python",
   "pygments_lexer": "ipython3",
   "version": "3.10.4"
  }
 },
 "nbformat": 4,
 "nbformat_minor": 5
}
