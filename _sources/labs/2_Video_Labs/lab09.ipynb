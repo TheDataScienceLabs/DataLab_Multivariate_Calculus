{
 "cells": [
  {
   "cell_type": "markdown",
   "id": "5ecec8d2-e21b-40a3-bce9-2b66c4e24607",
   "metadata": {},
   "source": [
    "# Week 10: Motion Detection \n",
    "\n",
    "<font size=\"6\"> Laboratory 9 </font> <br>\n",
    "<font size=\"3\"> Last updated July 22, 2022 </font>"
   ]
  },
  {
   "cell_type": "markdown",
   "id": "9b293a39-9a98-4404-8051-e59690268ed6",
   "metadata": {},
   "source": [
    "## <span style=\"color:orange;\"> 00. Content </span>\n",
    "\n",
    "<font size=\"5\"> Mathematics </font>\n",
    "- Type here\n",
    "    \n",
    "<font size=\"5\"> Programming Skills </font>\n",
    "- Type here\n",
    "    \n",
    "<font size=\"5\"> Embedded Systems </font>\n",
    "- Thonny and Micropython\n",
    "\n",
    "## <span style=\"color:orange;\"> 0. Required Hardware </span>\n",
    "- Microcontroller: Raspberry Pi Pico\n",
    "- Breadboard\n",
    "- USB connector\n",
    "- Camera\n",
    "- RGB color sensor (TCS3472)"
   ]
  },
  {
   "cell_type": "markdown",
   "id": "bd571a02-2ade-444d-a6e9-23202ba5bb3f",
   "metadata": {},
   "source": [
    "<h3 style=\"background-color:lightblue\"> Write your name and email below: </h3>\n",
    "\n",
    "**Name:** me \n",
    "\n",
    "**Email:** me @purdue.edu"
   ]
  },
  {
   "cell_type": "markdown",
   "id": "b286b02d-a985-4cef-8097-e1617a2df04a",
   "metadata": {},
   "source": [
    "## <span style=\"color:orange;\"> 1. Detecting Motion </span>\n",
    "\n",
    "During the previous lab, you learned how to display the optical flow between the frames of a video and how to set up a camera using the Raspberry Pi Pico. For this lab, we will be focusing on using the camera and analyzing the video that it provides. \n",
    "\n",
    "Set up your camera using the instructions from last week's lab. After it is set up, try Exercise 1 using what you learned last week. As a reminder, OpenCV is used for images and videos in Python, so remember to make use of this. You may want to look up commands to help during this lab.\n",
    "\n",
    "Rerun the following cells as you did in the previous lab:"
   ]
  },
  {
   "cell_type": "code",
   "execution_count": null,
   "id": "02da0859-6b7a-48fe-b579-f1c1fb4bf8f8",
   "metadata": {},
   "outputs": [],
   "source": [
    "import time\n",
    "import serial\n",
    "from serial.tools import list_ports\n",
    "\n",
    "PICO_HWID = \"2E8A\"\n",
    "\n",
    "\n",
    "def get_pico_port():\n",
    "    pico_ports = list(list_ports.grep(PICO_HWID))\n",
    "    if len(pico_ports) == 0:\n",
    "        raise Exception(\n",
    "            \"No Raspberry Pi Pico was detected. Check to make sure it is plugged in, and that no other programs are accessing it\"\n",
    "        )\n",
    "    return pico_ports[0].device\n",
    "\n",
    "\n",
    "print(\"Here are all the serial devices detected:\")\n",
    "for port in list_ports.comports():\n",
    "    print(port.device, port.hwid)\n",
    "\n",
    "port = get_pico_port()\n",
    "print(f\"\\nselected port {port} as most likely to have a raspberry pi pico\")"
   ]
  },
  {
   "cell_type": "code",
   "execution_count": null,
   "id": "4eac432a-bb27-47fc-b53a-5b7d7526788b",
   "metadata": {},
   "outputs": [],
   "source": [
    "buffer = bytearray(96 * 96)\n",
    "img = np.zeros(shape=(96, 96), dtype=\"uint8\")\n",
    "\n",
    "with serial.Serial(port, timeout=1) as s:\n",
    "    s.read_until(b\"\\x55\\xAA\")\n",
    "    s.readinto(buffer)\n",
    "    img.flat[::-1] = buffer\n",
    "\n",
    "plt.imshow(img, cmap=\"gray\")\n",
    "plt.show()"
   ]
  },
  {
   "cell_type": "code",
   "execution_count": null,
   "id": "b1f4dcd2-bfef-46c5-ba10-102f9debfbdc",
   "metadata": {},
   "outputs": [],
   "source": [
    "%matplotlib widget\n",
    "\n",
    "fig, ax = plt.subplots()\n",
    "render = ax.imshow(img, cmap='gray')\n",
    "plt.show(block=False)"
   ]
  },
  {
   "cell_type": "code",
   "execution_count": null,
   "id": "0188c4df-782c-4bf0-9237-b6e2b4012013",
   "metadata": {},
   "outputs": [],
   "source": [
    "try:\n",
    "    with serial.Serial(port, timeout=1) as s:\n",
    "        while True:\n",
    "            s.read_until(b\"\\x55\\xAA\")\n",
    "            s.readinto(buffer)\n",
    "            img.flat[::-1] = buffer\n",
    "            render.set_data(img)\n",
    "            fig.canvas.draw()\n",
    "except KeyboardInterrupt:\n",
    "    pass"
   ]
  },
  {
   "cell_type": "markdown",
   "id": "6e5aed4f-17da-4092-a372-4ac1b7a1a270",
   "metadata": {},
   "source": [
    "When you are done, you will have to hit the `Interrupt Kernel` button, which can found at the top of the screen (the stop symbol) or under Kernel."
   ]
  },
  {
   "cell_type": "markdown",
   "id": "c4967fa5-6cb8-469d-80f9-e425d75c0ece",
   "metadata": {},
   "source": [
    "### <span style=\"color:red\"> Exercise 1 </span>\n",
    "\n",
    "**Part 1**\n",
    "\n",
    "With your camera set up, record a video of objects moving whether it be you, your neighbor, your hand, a pen, etc. Use Farneback's algorithm and our visualization method to display the optical flow.\n",
    "\n",
    "**Part 2**\n",
    "\n",
    "Can you think of a (mathematical) rule to tell when an object enters the camera's view? (*Hint: thresholding*)\n",
    "\n",
    "<h3 style=\"background-color:lightblue\"> Write Answers for Exercise 1 Part 1 Below </h3>"
   ]
  },
  {
   "cell_type": "code",
   "execution_count": null,
   "id": "5d89a812-68ea-4439-8528-a89722335eed",
   "metadata": {},
   "outputs": [],
   "source": []
  },
  {
   "cell_type": "markdown",
   "id": "f6cc3ce5-81a1-4440-be9c-1a24a3b95db7",
   "metadata": {},
   "source": [
    "<h3 style=\"background-color:lightblue\"> Write Answers for Exercise 1 Part 2 Below </h3>"
   ]
  },
  {
   "cell_type": "markdown",
   "id": "c6fbdf57-e573-4c2c-8801-50622d6f7197",
   "metadata": {},
   "source": []
  },
  {
   "cell_type": "markdown",
   "id": "fea0ef12-d680-4ae7-9fb2-fc15745ff0e0",
   "metadata": {},
   "source": [
    "Now that you have analyzed a video obtained from using the camera, you will be analyzing the video in real time to detect motion. You can use any method to do this, whether it be Farneback's algorithm to determine the differences between frames, your answer to Exercise 1 Part 2, or anything else you can think of. \n",
    "\n",
    "### <span style=\"color:red\"> Exercise 2 </span>\n",
    "\n",
    "Using your camera, detect motion in real time. You can decide how to display that movement has been detected on the camera, such as having Python print a statement or having the Pico's onboard LED light up briefly. \n",
    "\n",
    "<h3 style=\"background-color:lightblue\"> Write Answers for Exercise 2 Below </h3>"
   ]
  },
  {
   "cell_type": "code",
   "execution_count": null,
   "id": "a9640709-cd13-440c-8654-30c2ad1ba6fa",
   "metadata": {},
   "outputs": [],
   "source": []
  },
  {
   "cell_type": "markdown",
   "id": "1f18d3d5-d518-4df0-9f1e-5516987ec87a",
   "metadata": {},
   "source": [
    "Since you can detect motion, next you will be analyzing the motion to try and determine which direction the movement is occurring in (i.e. towards/away from the camera, to the right/left).\n",
    "\n",
    "### <span style=\"color:red\"> Exercise 3 </span>\n",
    "\n",
    "Analyze the motion in real time and display which direction the movement is occurring in. This can be limited to forward, back, right, left.\n",
    "\n",
    "*Hint*: Compare the frames and determine where there are differences between them.\n",
    "\n",
    "<h3 style=\"background-color:lightblue\"> Write Answers for Exercise 3 Below </h3>"
   ]
  },
  {
   "cell_type": "code",
   "execution_count": null,
   "id": "fee9e200-b462-4145-85d3-8cef04441079",
   "metadata": {},
   "outputs": [],
   "source": []
  }
 ],
 "metadata": {
  "kernelspec": {
   "display_name": "Python 3 (ipykernel)",
   "language": "python",
   "name": "python3"
  },
  "language_info": {
   "codemirror_mode": {
    "name": "ipython",
    "version": 3
   },
   "file_extension": ".py",
   "mimetype": "text/x-python",
   "name": "python",
   "nbconvert_exporter": "python",
   "pygments_lexer": "ipython3",
   "version": "3.10.4"
  }
 },
 "nbformat": 4,
 "nbformat_minor": 5
}
