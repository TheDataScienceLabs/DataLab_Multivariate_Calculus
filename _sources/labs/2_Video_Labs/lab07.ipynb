{
 "cells": [
  {
   "cell_type": "markdown",
   "metadata": {},
   "source": [
    "# Week 8: Acquiring and Manipulating Videos\n",
    "\n",
    "<font size=\"6\"> Laboratory 7 </font> <br>\n",
    "<font size=\"3\"> Last updated July 07, 2022 </font>"
   ]
  },
  {
   "cell_type": "markdown",
   "metadata": {
    "tags": []
   },
   "source": [
    "## <span style=\"color:orange;\"> 00. Content </span>\n",
    "\n",
    "<font size=\"5\"> Mathematics </font>\n",
    "- Taylor series\n",
    "- Vector fields\n",
    "- Polar coordinates\n",
    "    \n",
    "<font size=\"5\"> Programming Skills </font>\n",
    "- Using Software Documentation (cv2)\n",
    "- Array functions \n",
    "- File I/O \n",
    "    \n",
    "<font size=\"5\"> Embedded Systems </font>\n",
    "- Thonny and MicroPython\n",
    "\n",
    "## <span style=\"color:orange;\"> 0. Required Hardware </span>\n",
    "- Microcontroller: Raspberry Pi Pico\n",
    "- Breadboard\n",
    "- USB connector\n",
    "- Camera (Arducam HM01B0)"
   ]
  },
  {
   "cell_type": "markdown",
   "metadata": {},
   "source": [
    "<h3 style=\"background-color:lightblue\"> Write your name and email below: </h3>\n",
    "\n",
    "**Name:** me \n",
    "\n",
    "**Email:** me @purdue.edu"
   ]
  },
  {
   "cell_type": "code",
   "execution_count": 1,
   "metadata": {},
   "outputs": [],
   "source": [
    "import numpy as np\n",
    "import matplotlib.pyplot as plt\n",
    "import cv2"
   ]
  },
  {
   "cell_type": "markdown",
   "metadata": {},
   "source": [
    "## <span style=\"color:orange;\"> 1. Reading Videos with OpenCV </span>\n",
    "\n",
    "In this lab, we will be using a Python library called OpenCV (cv2). From the [official documentation](https://docs.opencv.org/4.x/d1/dfb/intro.html), \"OpenCV is an open-source library that includes several hundreds of computer vision algorithms.\" Today, we will mostly be using it to read and display modified video frames, and we will be doing the \"vision\" in computer vision manually with our own functions.\n",
    "\n",
    "Run the following cell to read in the video file. Using `vid.read()`, returns two values: the Boolean varible `success`, which is `True` if the frame was read without any errors, and `frame` which is as it sounds the image that is captured from the video. The camera hardware you will connect to your Pico can only return grayscale images, so we are converting each frame to grayscale using the function `cv2.cvtColor(frame, cv2.COLOR_BGR2GRAY)`. For speed in later computations, it is helpful to reduce the frame size. Here, we've scaled down each frame by a factor of 4.\n",
    "\n",
    "Running the cell will cause a separate window to pop up, displaying the smaller, grayscale video. After reading in the whole video, the separate window will close automatically; you can override this by pressing the \"Q\" key on your keyboard.\n",
    "\n",
    "Download the video file we'll be using for this lab: [test_vid.mov](https://github.com/TheDataScienceLabs/DataLab_Multivariate_Calculus/blob/main/book/labs/5_Motion_Tracking_Labs/test_vid.mov). This is a video from Youtube showing bouncing ball. COPYRIGHTS???? It would be best to make our own."
   ]
  },
  {
   "cell_type": "code",
   "execution_count": null,
   "metadata": {},
   "outputs": [],
   "source": [
    "vid = cv2.VideoCapture('test_vid.mov') \n",
    "height = vid.get(cv2.CAP_PROP_FRAME_HEIGHT)\n",
    "width  = vid.get(cv2.CAP_PROP_FRAME_WIDTH) \n",
    "scale = 0.25\n",
    "new_size = (int(width*scale),int(height*scale))\n",
    "\n",
    "while vid.isOpened():\n",
    "    success, frame = vid.read()\n",
    "    if not success:\n",
    "        print(\"Unable to read frame. Exiting ...\")\n",
    "        break\n",
    "    frame = cv2.cvtColor(frame, cv2.COLOR_BGR2GRAY)\n",
    "    frame = cv2.resize(frame,dsize=new_size)\n",
    "    cv2.imshow('frame', frame)\n",
    "    if cv2.waitKey(1) == ord('q'): # press Q on keyboard to stop\n",
    "        break\n",
    "vid.release()\n",
    "cv2.destroyAllWindows()"
   ]
  },
  {
   "cell_type": "markdown",
   "metadata": {},
   "source": [
    "### <span style=\"color:red\"> Exercise 1 </span>\n",
    "\n",
    "Open and watch the above video again, this time scaled down each frame by a factor of 8. How much less CPU time does it take to play the video, compared to when you only scaled it down by a factor 4?\n",
    "\n",
    "\n",
    "<h3 style=\"background-color:lightblue\"> Write Answers for Exercise 1 Below </h3>"
   ]
  },
  {
   "cell_type": "code",
   "execution_count": null,
   "metadata": {},
   "outputs": [],
   "source": []
  },
  {
   "cell_type": "markdown",
   "metadata": {},
   "source": [
    "## <span style=\"color:orange;\"> 2. Modifying Videos </span>\n",
    "\n",
    "Using editing apps, you can make many changes to a video. Next we will be making some of these common changes to the video you read in the previous section through coding. Using the OpenCV official documentation link that was provided at the beginning of this lab, look through the available modules and classes to determine how to complete the following labs."
   ]
  },
  {
   "cell_type": "markdown",
   "metadata": {},
   "source": [
    "### <span style=\"color:red\"> Exercise 2 </span>\n",
    "\n",
    "**Part 1**\n",
    "\n",
    "Play the video slower than its original playback speed.\n",
    "\n",
    "**Part 2** \n",
    "\n",
    "Play the video faster than its original playback speed.\n",
    "\n",
    "<h3 style=\"background-color:lightblue\"> Write Answers for Exercise 1 Part 1 Below </h3>"
   ]
  },
  {
   "cell_type": "code",
   "execution_count": null,
   "metadata": {},
   "outputs": [],
   "source": []
  },
  {
   "cell_type": "markdown",
   "metadata": {},
   "source": [
    "<h3 style=\"background-color:lightblue\"> Write Answers for Exercise 1 Part 2 Below </h3>"
   ]
  },
  {
   "cell_type": "code",
   "execution_count": null,
   "metadata": {},
   "outputs": [],
   "source": []
  },
  {
   "cell_type": "markdown",
   "metadata": {},
   "source": [
    "### <span style=\"color:red\"> Exercise 3 </span>\n",
    "\n",
    "Play the video backward.\n",
    "\n",
    "<h3 style=\"background-color:lightblue\"> Write Answers for Exercise 2 Below </h3>"
   ]
  },
  {
   "cell_type": "code",
   "execution_count": null,
   "metadata": {},
   "outputs": [],
   "source": []
  },
  {
   "cell_type": "markdown",
   "metadata": {},
   "source": [
    "### <span style=\"color:red\"> Exercise 4 </span>\n",
    "\n",
    "**Part 1**\n",
    "\n",
    "Flip the video's visuals over the y-axis.\n",
    "\n",
    "**Part 2**\n",
    "\n",
    "Flip the video's visuals over the x-axis.\n",
    "\n",
    "<h3 style=\"background-color:lightblue\"> Write Answers for Exercise 3 Part 1 Below </h3>"
   ]
  },
  {
   "cell_type": "code",
   "execution_count": null,
   "metadata": {},
   "outputs": [],
   "source": []
  },
  {
   "cell_type": "markdown",
   "metadata": {},
   "source": [
    "<h3 style=\"background-color:lightblue\"> Write Answers for Exercise 3 Part 2 Below </h3>"
   ]
  },
  {
   "cell_type": "code",
   "execution_count": null,
   "metadata": {},
   "outputs": [],
   "source": []
  },
  {
   "cell_type": "markdown",
   "metadata": {},
   "source": [
    "Being able to extract specific frames from a video is a useful skill. It can be used, for example, to trim the ends of the video or to remove a section in the middle."
   ]
  },
  {
   "cell_type": "markdown",
   "metadata": {},
   "source": [
    "### <span style=\"color:red\"> Exercise 5 </span>\n",
    "\n",
    "Extract a few 200 frames of the video. \n",
    "\n",
    "<h3 style=\"background-color:lightblue\"> Write Answers for Exercise 4 Below </h3>"
   ]
  },
  {
   "cell_type": "code",
   "execution_count": null,
   "metadata": {},
   "outputs": [],
   "source": []
  },
  {
   "cell_type": "markdown",
   "metadata": {},
   "source": [
    "### <span style=\"color:red\"> Exercise 6 </span>\n",
    "\n",
    "Use your phone to record a second video. Once this is done, splice the videos together.\n",
    "\n",
    "<h3 style=\"background-color:lightblue\"> Write Answers for Exercise 5 Below </h3>"
   ]
  },
  {
   "cell_type": "code",
   "execution_count": null,
   "metadata": {},
   "outputs": [],
   "source": []
  },
  {
   "cell_type": "markdown",
   "metadata": {},
   "source": [
    "## <span style=\"color:orange;\"> 3. Connecting the Camera </span>\n",
    "\n",
    "This time, we will be recording our own videos using the Arducam HM01B0, which is a small camera that can be hooked up to the Pico. \n",
    "\n",
    "### Wiring Instructions\n",
    "\n",
    "Please make sure your microcontroller is not plugged to the computer while you are wiring things together. Ask the instructor if you are unsure about your wiring. \n",
    "\n",
    "| HM01B0 | Pico |\n",
    "|--------|------|\n",
    "| VCC    | 3V3  |\n",
    "| SCL    | GP5  |\n",
    "| SDA    | GP4  |\n",
    "| VSYNC  | GP16 |\n",
    "| HREF   | GP15 |\n",
    "| PCLK   | GP14 |\n",
    "| DO     | GP6  |\n",
    "| GND    | GND  |\n",
    "\n",
    "![img](camera.jpg)\n",
    "*Wiring the Arducam HM01B0 camera* \n",
    "\n",
    "![img](camerawiring.jpg)\n",
    "*Connections to the PICO on breadboard*\n"
   ]
  },
  {
   "cell_type": "markdown",
   "metadata": {},
   "source": [
    "After ensuring that the wiring is correct, hold down the BOOTSEL button on the Pico and plug it in. Download [arducam.uf2](https://github.com/TheDataScienceLabs/DataLab_Multivariate_Calculus/blob/main/book/labs/5_Motion_Tracking_Labs/arducam.uf2) and copy it onto the Pico's drive, which should have popped up in your folders as an option. The Pico should automatically disconnect once the file has transferred, then its LED will start blinking rapidly. \n",
    "\n",
    "Once the Pico has been successfully connected, run the following cell to make sure we have detected the Pico successfully."
   ]
  },
  {
   "cell_type": "code",
   "execution_count": 2,
   "metadata": {},
   "outputs": [
    {
     "name": "stdout",
     "output_type": "stream",
     "text": [
      "Here are all the serial devices detected:\n",
      "/dev/ttyS1 n/a\n",
      "/dev/ttyS0 PNP0501\n",
      "/dev/ttyACM0 USB VID:PID=2E8A:0005 SER=e66118604b816d27 LOCATION=3-1:1.0\n",
      "\n",
      "selected port /dev/ttyACM0 as most likely to have a raspberry pi pico\n"
     ]
    }
   ],
   "source": [
    "import time\n",
    "import serial\n",
    "from serial.tools import list_ports\n",
    "\n",
    "PICO_HWID = \"2E8A\"\n",
    "\n",
    "\n",
    "def get_pico_port():\n",
    "    pico_ports = list(list_ports.grep(PICO_HWID))\n",
    "    if len(pico_ports) == 0:\n",
    "        raise Exception(\n",
    "            \"No Raspberry Pi Pico was detected. Check to make sure it is plugged in, and that no other programs are accessing it\"\n",
    "        )\n",
    "    return pico_ports[0].device\n",
    "\n",
    "\n",
    "print(\"Here are all the serial devices detected:\")\n",
    "for port in list_ports.comports():\n",
    "    print(port.device, port.hwid)\n",
    "\n",
    "port = get_pico_port()\n",
    "print(f\"\\nselected port {port} as most likely to have a raspberry pi pico\")"
   ]
  },
  {
   "cell_type": "markdown",
   "metadata": {},
   "source": [
    "### Capturing a still image\n",
    "\n",
    "Now that the Pico and camera have been connected, run the following cell to get a still image."
   ]
  },
  {
   "cell_type": "code",
   "execution_count": 1,
   "metadata": {},
   "outputs": [
    {
     "ename": "NameError",
     "evalue": "name 'np' is not defined",
     "output_type": "error",
     "traceback": [
      "\u001b[0;31m---------------------------------------------------------------------------\u001b[0m",
      "\u001b[0;31mNameError\u001b[0m                                 Traceback (most recent call last)",
      "\u001b[0;32m<ipython-input-1-1a9d549ca648>\u001b[0m in \u001b[0;36m<module>\u001b[0;34m\u001b[0m\n\u001b[1;32m      1\u001b[0m \u001b[0mbuffer\u001b[0m \u001b[0;34m=\u001b[0m \u001b[0mbytearray\u001b[0m\u001b[0;34m(\u001b[0m\u001b[0;36m96\u001b[0m \u001b[0;34m*\u001b[0m \u001b[0;36m96\u001b[0m\u001b[0;34m)\u001b[0m\u001b[0;34m\u001b[0m\u001b[0;34m\u001b[0m\u001b[0m\n\u001b[0;32m----> 2\u001b[0;31m \u001b[0mimg\u001b[0m \u001b[0;34m=\u001b[0m \u001b[0mnp\u001b[0m\u001b[0;34m.\u001b[0m\u001b[0mzeros\u001b[0m\u001b[0;34m(\u001b[0m\u001b[0mshape\u001b[0m\u001b[0;34m=\u001b[0m\u001b[0;34m(\u001b[0m\u001b[0;36m96\u001b[0m\u001b[0;34m,\u001b[0m \u001b[0;36m96\u001b[0m\u001b[0;34m)\u001b[0m\u001b[0;34m,\u001b[0m \u001b[0mdtype\u001b[0m\u001b[0;34m=\u001b[0m\u001b[0;34m\"uint8\"\u001b[0m\u001b[0;34m)\u001b[0m\u001b[0;34m\u001b[0m\u001b[0;34m\u001b[0m\u001b[0m\n\u001b[0m\u001b[1;32m      3\u001b[0m \u001b[0;34m\u001b[0m\u001b[0m\n\u001b[1;32m      4\u001b[0m \u001b[0;32mwith\u001b[0m \u001b[0mserial\u001b[0m\u001b[0;34m.\u001b[0m\u001b[0mSerial\u001b[0m\u001b[0;34m(\u001b[0m\u001b[0mport\u001b[0m\u001b[0;34m,\u001b[0m \u001b[0mtimeout\u001b[0m\u001b[0;34m=\u001b[0m\u001b[0;36m1\u001b[0m\u001b[0;34m)\u001b[0m \u001b[0;32mas\u001b[0m \u001b[0ms\u001b[0m\u001b[0;34m:\u001b[0m\u001b[0;34m\u001b[0m\u001b[0;34m\u001b[0m\u001b[0m\n\u001b[1;32m      5\u001b[0m     \u001b[0ms\u001b[0m\u001b[0;34m.\u001b[0m\u001b[0mread_until\u001b[0m\u001b[0;34m(\u001b[0m\u001b[0;34mb\"\\x55\\xAA\"\u001b[0m\u001b[0;34m)\u001b[0m\u001b[0;34m\u001b[0m\u001b[0;34m\u001b[0m\u001b[0m\n",
      "\u001b[0;31mNameError\u001b[0m: name 'np' is not defined"
     ]
    }
   ],
   "source": [
    "buffer = bytearray(96 * 96)\n",
    "img = np.zeros(shape=(96, 96), dtype=\"uint8\")\n",
    "\n",
    "with serial.Serial(port, timeout=1) as s:\n",
    "    s.read_until(b\"\\x55\\xAA\")\n",
    "    s.readinto(buffer)\n",
    "    img.flat[::-1] = buffer\n",
    "\n",
    "plt.imshow(img, cmap=\"gray\")\n",
    "plt.show()"
   ]
  },
  {
   "cell_type": "markdown",
   "metadata": {},
   "source": [
    "### <span style=\"color:red\"> Exercise 7 </span>\n",
    "\n",
    "Capture and save a video using the camera.\n",
    "\n",
    "<h3 style=\"background-color:lightblue\"> Write Answers for Exercise 7 Below </h3>"
   ]
  },
  {
   "cell_type": "code",
   "execution_count": null,
   "metadata": {},
   "outputs": [],
   "source": []
  },
  {
   "cell_type": "markdown",
   "metadata": {},
   "source": [
    "### <span style=\"color:red\"> Exercise 8 </span>\n",
    "\n",
    "Use the camera to acquire an image of yourself with your hand up, and an image of yourself with your hands down. Use these two frames to create a video of yourself moving your hands up and down.\n",
    "\n",
    "<h3 style=\"background-color:lightblue\"> Write Answers to Exercise 8 Below </h3>"
   ]
  },
  {
   "cell_type": "code",
   "execution_count": null,
   "metadata": {},
   "outputs": [],
   "source": []
  },
  {
   "cell_type": "markdown",
   "metadata": {},
   "source": [
    "### Streaming video\n",
    "\n",
    "Now that we can capture a still image, the next goal is to stream a video. Both cells will have to be run before the video is streamed to your screen. After running the first one, a still image should pop up but once you run the second cell it should start streaming what your camera is seeing in real-time."
   ]
  },
  {
   "cell_type": "code",
   "execution_count": 5,
   "metadata": {},
   "outputs": [
    {
     "data": {
      "application/vnd.jupyter.widget-view+json": {
       "model_id": "4fd3692801564ef1a6e8c8fc1b720de5",
       "version_major": 2,
       "version_minor": 0
      },
      "image/png": "[encoded data removed]",
      "text/html": [
       "\n",
       "            <div style=\"display: inline-block;\">\n",
       "                <div class=\"jupyter-widgets widget-label\" style=\"text-align: center;\">\n",
       "                    Figure\n",
       "                </div>\n",
       "                <img src='data:image/png;base64,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' width=640.0/>\n",
       "            </div>\n",
       "        "
      ],
      "text/plain": [
       "Canvas(toolbar=Toolbar(toolitems=[('Home', 'Reset original view', 'home', 'home'), ('Back', 'Back to previous …"
      ]
     },
     "metadata": {},
     "output_type": "display_data"
    }
   ],
   "source": [
    "%matplotlib widget\n",
    "\n",
    "fig, ax = plt.subplots()\n",
    "render = ax.imshow(img, cmap='gray')\n",
    "plt.show(block=False)"
   ]
  },
  {
   "cell_type": "code",
   "execution_count": 4,
   "metadata": {},
   "outputs": [
    {
     "ename": "NameError",
     "evalue": "name 'render' is not defined",
     "output_type": "error",
     "traceback": [
      "\u001b[0;31m---------------------------------------------------------------------------\u001b[0m",
      "\u001b[0;31mNameError\u001b[0m                                 Traceback (most recent call last)",
      "Input \u001b[0;32mIn [4]\u001b[0m, in \u001b[0;36m<cell line: 1>\u001b[0;34m()\u001b[0m\n\u001b[1;32m      5\u001b[0m             s\u001b[38;5;241m.\u001b[39mreadinto(buffer)\n\u001b[1;32m      6\u001b[0m             img\u001b[38;5;241m.\u001b[39mflat[::\u001b[38;5;241m-\u001b[39m\u001b[38;5;241m1\u001b[39m] \u001b[38;5;241m=\u001b[39m buffer\n\u001b[0;32m----> 7\u001b[0m             \u001b[43mrender\u001b[49m\u001b[38;5;241m.\u001b[39mset_data(img)\n\u001b[1;32m      8\u001b[0m             fig\u001b[38;5;241m.\u001b[39mcanvas\u001b[38;5;241m.\u001b[39mdraw()\n\u001b[1;32m      9\u001b[0m \u001b[38;5;28;01mexcept\u001b[39;00m \u001b[38;5;167;01mKeyboardInterrupt\u001b[39;00m:\n",
      "\u001b[0;31mNameError\u001b[0m: name 'render' is not defined"
     ]
    }
   ],
   "source": [
    "try:\n",
    "    with serial.Serial(port, timeout=1) as s:\n",
    "        while True:\n",
    "            s.read_until(b\"\\x55\\xAA\")\n",
    "            s.readinto(buffer)\n",
    "            img.flat[::-1] = buffer\n",
    "            render.set_data(img)\n",
    "            fig.canvas.draw()\n",
    "except KeyboardInterrupt:\n",
    "    pass"
   ]
  },
  {
   "cell_type": "markdown",
   "metadata": {},
   "source": [
    "When you are done, you will have to hit the `Interrupt Kernel` button, which can found at the top of the screen (the stop symbol) or under Kernel."
   ]
  },
  {
   "cell_type": "markdown",
   "metadata": {},
   "source": [
    "## <span style=\"color:orange;\"> 4. Modifying Your Own Video </span>\n",
    "\n",
    "Now that you are able to capture your own video, you will try the same modifications you made on the prerecorded videos on the one you recorded. You may copy and paste, but also try to include some new methods or functions in some of the exercises."
   ]
  },
  {
   "cell_type": "markdown",
   "metadata": {},
   "source": [
    "### <span style=\"color:red\"> Exercise 9 </span>\n",
    "\n",
    "Capture and save a video using the camera.\n",
    "\n",
    "<h3 style=\"background-color:lightblue\"> Write Answers for Exercise 9 Below </h3>"
   ]
  },
  {
   "cell_type": "code",
   "execution_count": null,
   "metadata": {},
   "outputs": [],
   "source": []
  },
  {
   "cell_type": "markdown",
   "metadata": {},
   "source": [
    "### <span style=\"color:red\"> Exercise 10 </span>\n",
    "\n",
    "**Part 1**\n",
    "\n",
    "Play the video slower than its original playback speed.\n",
    "\n",
    "**Part 2** \n",
    "\n",
    "Play the video faster than its original playback speed.\n",
    "\n",
    "<h3 style=\"background-color:lightblue\"> Write Answers for Exercise 10 Part 1 Below </h3>"
   ]
  },
  {
   "cell_type": "code",
   "execution_count": null,
   "metadata": {},
   "outputs": [],
   "source": []
  },
  {
   "cell_type": "markdown",
   "metadata": {},
   "source": [
    "<h3 style=\"background-color:lightblue\"> Write Answers for Exercise 10 Part 2 Below </h3>"
   ]
  },
  {
   "cell_type": "code",
   "execution_count": null,
   "metadata": {},
   "outputs": [],
   "source": []
  },
  {
   "cell_type": "markdown",
   "metadata": {},
   "source": [
    "### <span style=\"color:red\"> Exercise 11 </span>\n",
    "\n",
    "Play the video backward.\n",
    "\n",
    "<h3 style=\"background-color:lightblue\"> Write Answers for Exercise 11 Below </h3>"
   ]
  },
  {
   "cell_type": "code",
   "execution_count": null,
   "metadata": {},
   "outputs": [],
   "source": []
  },
  {
   "cell_type": "markdown",
   "metadata": {},
   "source": [
    "### <span style=\"color:red\"> Exercise 12 </span>\n",
    "\n",
    "**Part 1**\n",
    "\n",
    "Flip the video's visuals over the y-axis.\n",
    "\n",
    "**Part 2**\n",
    "\n",
    "Flip the video's visuals over the x-axis.\n",
    "\n",
    "<h3 style=\"background-color:lightblue\"> Write Answers for Exercise 12 Part 1 Below </h3>"
   ]
  },
  {
   "cell_type": "code",
   "execution_count": null,
   "metadata": {},
   "outputs": [],
   "source": []
  },
  {
   "cell_type": "markdown",
   "metadata": {},
   "source": [
    "<h3 style=\"background-color:lightblue\"> Write Answers for Exercise 12 Part 2 Below </h3>"
   ]
  },
  {
   "cell_type": "code",
   "execution_count": null,
   "metadata": {},
   "outputs": [],
   "source": []
  },
  {
   "cell_type": "markdown",
   "metadata": {},
   "source": [
    "### <span style=\"color:red\"> Exercise 13 </span>\n",
    "\n",
    "Extract a few frames from the video. This can be done anywhere, whether you use it to trim the ends of the video or to remove a section in the middle.\n",
    "\n",
    "<h3 style=\"background-color:lightblue\"> Write Answers for Exercise 13 Below </h3>"
   ]
  },
  {
   "cell_type": "code",
   "execution_count": null,
   "metadata": {},
   "outputs": [],
   "source": []
  },
  {
   "cell_type": "markdown",
   "metadata": {},
   "source": [
    "### <span style=\"color:red\"> Exercise 11 </span>\n",
    "\n",
    "Record a second video. Once this is done, splice the videos together.\n",
    "\n",
    "<h3 style=\"background-color:lightblue\"> Write Answers for Exercise 11 Below </h3>"
   ]
  },
  {
   "cell_type": "code",
   "execution_count": null,
   "metadata": {},
   "outputs": [],
   "source": []
  },
  {
   "cell_type": "markdown",
   "metadata": {},
   "source": [
    "### <span style=\"color:red\"> Exercise 12 </span>\n",
    "\n",
    "Now that you've tried a few different techniques, look through the list for a function you haven't used yet and try it out on either the prerecorded video or the one you recorded using the camera.\n",
    "\n",
    "<h3 style=\"background-color:lightblue\"> Write Answers for Exercise 12 Below </h3>"
   ]
  },
  {
   "cell_type": "code",
   "execution_count": null,
   "metadata": {},
   "outputs": [],
   "source": []
  },
  {
   "cell_type": "markdown",
   "metadata": {},
   "source": [
    "## <span style=\"color:green\"> Reflection </span>\n",
    "\n",
    "__1. What parts of the lab, if any, do you feel you did well? <br>\n",
    "2. What are some things you learned today? <br>\n",
    "3. Are there any topics that could use more clarification? <br>\n",
    "4. Do you have any suggestions on parts of the lab to improve?__\n",
    "\n",
    "<h3 style=\"background-color:lightblue\"> Write Answers for the Reflection Below </h3>"
   ]
  },
  {
   "cell_type": "markdown",
   "metadata": {},
   "source": []
  }
 ],
 "metadata": {
  "interpreter": {
   "hash": "27dde21eeb9023b13d210a8bca55e17ac3ebd17095dd1e12ee8d25fa440eb59b"
  },
  "kernelspec": {
   "display_name": "Python 3",
   "language": "python",
   "name": "python3"
  },
  "language_info": {
   "codemirror_mode": {
    "name": "ipython",
    "version": 3
   },
   "file_extension": ".py",
   "mimetype": "text/x-python",
   "name": "python",
   "nbconvert_exporter": "python",
   "pygments_lexer": "ipython3",
   "version": "3.8.8"
  }
 },
 "nbformat": 4,
 "nbformat_minor": 4
}
