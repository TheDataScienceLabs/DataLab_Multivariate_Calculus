{
 "cells": [
  {
   "cell_type": "markdown",
   "id": "54aae887-dd06-4b82-8a6b-8c211bf14023",
   "metadata": {},
   "source": [
    "# Week 9: Using the Camera\n",
    "\n",
    "<font size=\"6\"> Laboratory 8 </font> <br>\n",
    "<font size=\"3\"> Last updated July 20, 2022 </font>"
   ]
  },
  {
   "cell_type": "markdown",
   "id": "8119d849-3a32-40a5-839b-4304b5aba778",
   "metadata": {},
   "source": [
    "## <span style=\"color:orange;\"> 00. Content </span>\n",
    "\n",
    "<font size=\"5\"> Mathematics </font>\n",
    "- Type here\n",
    "    \n",
    "<font size=\"5\"> Programming Skills </font>\n",
    "- Type here\n",
    "    \n",
    "<font size=\"5\"> Embedded Systems </font>\n",
    "- Thonny and MicroPython\n",
    "\n",
    "## <span style=\"color:orange;\"> 0. Required Hardware </span>\n",
    "- Microcontroller: Raspberry Pi Pico\n",
    "- Breadboard\n",
    "- USB connector\n",
    "- Camera"
   ]
  },
  {
   "cell_type": "markdown",
   "id": "34429ab7-879c-4ac7-86c3-045030111ca7",
   "metadata": {},
   "source": [
    "## <span style=\"color:orange;\"> 1. Detecting Motion </span>\n",
    "\n",
    "During the previous lab, you learned how to display the optical flow between the frames of a video and how to set up a camera using the Raspberry Pi Pico. For this lab, we will be focusing on using the camera and analyzing the video that it provides. \n",
    "\n",
    "Set up your camera using the instructions from last week's lab. After it is set up, try Exercise 1 using what you learned last week. As a reminder, OpenCV is used for images and videos in Python, so remember to make use of this. You may want to look up commands to help during this lab.\n",
    "\n",
    "### <span style=\"color:red\"> Exercise 1 </span>\n",
    "\n",
    "**Part 1**\n",
    "\n",
    "With your camera set up, record a video of objects moving whether it be you, your neighbor, your hand, a pen, etc. Use Farneback's algorithm and our visualization method to display the optical flow.\n",
    "\n",
    "**Part 2**\n",
    "\n",
    "Can you think of a (mathematical) rule to tell when an object enters the camera's view? (*Hint: thresholding*)\n",
    "\n",
    "<h3 style=\"background-color:lightblue\"> Write Answers for Exercise 1 Part 1 Below </h3>"
   ]
  },
  {
   "cell_type": "code",
   "execution_count": null,
   "id": "99eba2be-56da-4beb-a971-f820826a58db",
   "metadata": {},
   "outputs": [],
   "source": []
  },
  {
   "cell_type": "markdown",
   "id": "f20939b9-40c7-4a03-9493-32a06ee0cc40",
   "metadata": {},
   "source": [
    "<h3 style=\"background-color:lightblue\"> Write Answers for Exercise 1 Part 2 Below </h3>"
   ]
  },
  {
   "cell_type": "markdown",
   "id": "db41b9cb-09a8-4f36-b134-fe389daa052b",
   "metadata": {},
   "source": []
  },
  {
   "cell_type": "markdown",
   "id": "90fd9f18-674c-4a82-82a2-63778ed8f6f1",
   "metadata": {},
   "source": [
    "Now that you have analyzed a video obtained from using the camera, you will be analyzing the video in real time to detect motion. You can use any method to do this, whether it be Farneback's algorithm to determine the differences between frames, your answer to Exercise 1 Part 2, or anything else you can think of. \n",
    "\n",
    "### <span style=\"color:red\"> Exercise 2 </span>\n",
    "\n",
    "Using your camera, detect motion in real time. You can decide how to display that movement has been detected on the camera, such as having Python print a statement or having the Pico's onboard LED light up briefly. \n",
    "\n",
    "<h3 style=\"background-color:lightblue\"> Write Answers for Exercise 2 Below </h3>"
   ]
  },
  {
   "cell_type": "code",
   "execution_count": null,
   "id": "0a50a703-2567-486b-b8d2-a1375050b6e6",
   "metadata": {},
   "outputs": [],
   "source": []
  },
  {
   "cell_type": "markdown",
   "id": "42c5af8d-a243-4c5e-8c41-47594da9c695",
   "metadata": {},
   "source": [
    "Since you can detect motion, next you will be analyzing the motion to try and determine which direction the movement is occurring in (i.e. towards/away from the camera, to the right/left).\n",
    "\n",
    "### <span style=\"color:red\"> Exercise 3 </span>\n",
    "\n",
    "Analyze the motion in real time and display which direction the movement is occurring in. This can be limited to forward, back, right, left.\n",
    "\n",
    "*Hint*: Compare the frames and determine where there are differences between them.\n",
    "\n",
    "<h3 style=\"background-color:lightblue\"> Write Answers for Exercise 3 Below </h3>"
   ]
  },
  {
   "cell_type": "code",
   "execution_count": null,
   "id": "eef2f7d0-6a13-4af7-9575-af9afa01a68f",
   "metadata": {},
   "outputs": [],
   "source": []
  },
  {
   "cell_type": "markdown",
   "id": "f3a2a91b-3c70-4e85-b26d-d6d0a9dd696f",
   "metadata": {},
   "source": [
    "## <span style=\"color:orange;\"> 2. Modifying Videos </span>\n",
    "\n",
    "Using editing apps, you can make many changes to a video. Next we will be making some of these common changes through coding.\n",
    "\n",
    "Take a video using the camera sensor and save it to use for the labs in this section."
   ]
  },
  {
   "cell_type": "markdown",
   "id": "27be689d-4730-4a76-8615-b0c0e47b5d85",
   "metadata": {},
   "source": [
    "### <span style=\"color:red\"> Exercise 4 </span>\n",
    "\n",
    "**Part 1**\n",
    "\n",
    "Play the video slower than its original playback speed.\n",
    "\n",
    "**Part 2** \n",
    "\n",
    "Play the video faster than its original playback speed.\n",
    "\n",
    "<h3 style=\"background-color:lightblue\"> Write Answers for Exercise 4 Part 1 Below </h3>"
   ]
  },
  {
   "cell_type": "code",
   "execution_count": null,
   "id": "4c16bcca-ca8a-475e-8008-1765d46b5b72",
   "metadata": {},
   "outputs": [],
   "source": []
  },
  {
   "cell_type": "markdown",
   "id": "e16e8f0b-bd95-49b0-9606-c8082bae8607",
   "metadata": {},
   "source": [
    "<h3 style=\"background-color:lightblue\"> Write Answers for Exercise 4 Part 2 Below </h3>"
   ]
  },
  {
   "cell_type": "code",
   "execution_count": null,
   "id": "7a1410ef-7110-47f7-b83f-8b8e987c1ac0",
   "metadata": {},
   "outputs": [],
   "source": []
  },
  {
   "cell_type": "markdown",
   "id": "344c1e9c-09e4-4e08-9a90-ef0719dd496f",
   "metadata": {},
   "source": [
    "### <span style=\"color:red\"> Exercise 5 </span>\n",
    "\n",
    "Play the video backward.\n",
    "\n",
    "<h3 style=\"background-color:lightblue\"> Write Answers for Exercise 5 Below </h3>"
   ]
  },
  {
   "cell_type": "code",
   "execution_count": null,
   "id": "4b56c5b3-c7f3-47c8-a7e3-a5f690c1cbbc",
   "metadata": {},
   "outputs": [],
   "source": []
  },
  {
   "cell_type": "markdown",
   "id": "5de7ed06-60da-40dc-b9b5-fd897d90609c",
   "metadata": {},
   "source": [
    "### <span style=\"color:red\"> Exercise 6 </span>\n",
    "\n",
    "**Part 1**\n",
    "\n",
    "Flip the video's visuals over the y-axis.\n",
    "\n",
    "**Part 2**\n",
    "\n",
    "Flip the video's visuals over the x-axis.\n",
    "\n",
    "<h3 style=\"background-color:lightblue\"> Write Answers for Exercise 6 Part 1 Below </h3>"
   ]
  },
  {
   "cell_type": "code",
   "execution_count": null,
   "id": "d9105f22-72e7-4190-8364-a5bc28385998",
   "metadata": {},
   "outputs": [],
   "source": []
  },
  {
   "cell_type": "markdown",
   "id": "3b18d5ae-a5a6-4915-bfff-454f8e006c16",
   "metadata": {},
   "source": [
    "<h3 style=\"background-color:lightblue\"> Write Answers for Exercise 6 Part 2 Below </h3>"
   ]
  },
  {
   "cell_type": "code",
   "execution_count": null,
   "id": "bce909b5-e5ce-4daf-a094-cf833b580a1e",
   "metadata": {},
   "outputs": [],
   "source": []
  },
  {
   "cell_type": "markdown",
   "id": "50d27512-0646-496d-ae4b-508eb3cd4cb4",
   "metadata": {},
   "source": [
    "### <span style=\"color:red\"> Exercise 7 </span>\n",
    "\n",
    "Extract a few frames from the video. This can be done anywhere, whether you use it to trim the ends of the video or to remove a section in the middle.\n",
    "\n",
    "<h3 style=\"background-color:lightblue\"> Write Answers for Exercise 7 Below </h3>"
   ]
  },
  {
   "cell_type": "code",
   "execution_count": null,
   "id": "c4ce592a-ff93-462b-b359-a19196a5ce8d",
   "metadata": {},
   "outputs": [],
   "source": []
  },
  {
   "cell_type": "markdown",
   "id": "e536db06-9816-40d5-8cb5-23f970b54307",
   "metadata": {},
   "source": [
    "### <span style=\"color:red\"> Exercise 8 </span>\n",
    "\n",
    "Record a second video. Once this is done, splice the videos together.\n",
    "\n",
    "<h3 style=\"background-color:lightblue\"> Write Answers for Exercise 8 Below </h3>"
   ]
  },
  {
   "cell_type": "code",
   "execution_count": null,
   "id": "43e67ef6-39b3-405c-b11a-fabace91b791",
   "metadata": {},
   "outputs": [],
   "source": []
  },
  {
   "cell_type": "markdown",
   "id": "eaae4986-7799-4353-b7d7-d4466224f8e5",
   "metadata": {},
   "source": [
    "### <span style=\"color:red\"> Exercise 9 </span>\n",
    "\n",
    "Now that you've tried a few different techniques, look through [this list](https://docs.opencv.org/3.4/modules.html) of OpenCV commands and use one that you haven't used prior. The `Video Analysis` module will most likely be the most helpful, but feel free to look through the other modules as well.\n",
    "\n",
    "<h3 style=\"background-color:lightblue\"> Write Answers for Exercise 9 Below </h3>"
   ]
  },
  {
   "cell_type": "code",
   "execution_count": null,
   "id": "d9796251-c672-4aa0-844f-f441bc117281",
   "metadata": {},
   "outputs": [],
   "source": []
  },
  {
   "cell_type": "markdown",
   "id": "20db75fa-c06a-4247-9511-ec1e48ff2969",
   "metadata": {},
   "source": [
    "## <span style=\"color:green\"> Reflection </span>\n",
    "\n",
    "__1. What parts of the lab, if any, do you feel you did well? <br>\n",
    "2. What are some things you learned today? <br>\n",
    "3. Are there any topics that could use more clarification? <br>\n",
    "4. Do you have any suggestions on parts of the lab to improve?__\n",
    "\n",
    "<h3 style=\"background-color:lightblue\"> Write Answers for the Reflection Below </h3>"
   ]
  },
  {
   "cell_type": "markdown",
   "id": "8859ccbb-7da1-4ac3-9a51-f092290e48f1",
   "metadata": {},
   "source": []
  }
 ],
 "metadata": {
  "kernelspec": {
   "display_name": "Python 3 (ipykernel)",
   "language": "python",
   "name": "python3"
  },
  "language_info": {
   "codemirror_mode": {
    "name": "ipython",
    "version": 3
   },
   "file_extension": ".py",
   "mimetype": "text/x-python",
   "name": "python",
   "nbconvert_exporter": "python",
   "pygments_lexer": "ipython3",
   "version": "3.10.4"
  }
 },
 "nbformat": 4,
 "nbformat_minor": 5
}
