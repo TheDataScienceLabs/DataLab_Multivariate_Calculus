{
 "cells": [
  {
   "cell_type": "markdown",
   "id": "5ecec8d2-e21b-40a3-bce9-2b66c4e24607",
   "metadata": {},
   "source": [
    "# Week 10: Combining Camera and Color Sensor\n",
    "\n",
    "<font size=\"6\"> Laboratory 9 </font> <br>\n",
    "<font size=\"3\"> Last updated July 22, 2022 </font>"
   ]
  },
  {
   "cell_type": "markdown",
   "id": "9b293a39-9a98-4404-8051-e59690268ed6",
   "metadata": {},
   "source": [
    "## <span style=\"color:orange;\"> 00. Content </span>\n",
    "\n",
    "<font size=\"5\"> Mathematics </font>\n",
    "- Type here\n",
    "    \n",
    "<font size=\"5\"> Programming Skills </font>\n",
    "- Type here\n",
    "    \n",
    "<font size=\"5\"> Embedded Systems </font>\n",
    "- Thonny and Micropython\n",
    "\n",
    "## <span style=\"color:orange;\"> 0. Required Hardware </span>\n",
    "- Microcontroller: Raspberry Pi Pico\n",
    "- Breadboard\n",
    "- USB connector\n",
    "- Camera\n",
    "- RGB color sensor (TCS3472)"
   ]
  },
  {
   "cell_type": "markdown",
   "id": "bd571a02-2ade-444d-a6e9-23202ba5bb3f",
   "metadata": {},
   "source": [
    "<h3 style=\"background-color:lightblue\"> Write your name and email below: </h3>\n",
    "\n",
    "**Name:** me \n",
    "\n",
    "**Email:** me @purdue.edu"
   ]
  },
  {
   "cell_type": "markdown",
   "id": "9f0e360a-5106-42b6-91f6-fb0fc4613670",
   "metadata": {},
   "source": [
    "## <span style=\"color:orange;\"> 1. Camera and Color Sensor </span>\n",
    "\n",
    "In the Color Labs, you made use of a color sensor to detect the color of M&Ms and in the previous labs from the Video Labs you have learned how to record, analyze, and modify a video. In this lab, you will be combining the capabilities of both sensors. As the Arducam HM01B0 doesn't pick up color, only shades of gray, you cannot detect color with it, that is, unless, you know what colors the grayscale values line up with. Use the wiring instructions from Lab 04 to connect the TCS34725 color sensor to the same breadboard you are using for the camera. "
   ]
  },
  {
   "cell_type": "code",
   "execution_count": null,
   "id": "516011c5-00b0-45f4-98fe-2eb143fbf1a5",
   "metadata": {},
   "outputs": [],
   "source": []
  }
 ],
 "metadata": {
  "kernelspec": {
   "display_name": "Python 3 (ipykernel)",
   "language": "python",
   "name": "python3"
  },
  "language_info": {
   "codemirror_mode": {
    "name": "ipython",
    "version": 3
   },
   "file_extension": ".py",
   "mimetype": "text/x-python",
   "name": "python",
   "nbconvert_exporter": "python",
   "pygments_lexer": "ipython3",
   "version": "3.10.4"
  }
 },
 "nbformat": 4,
 "nbformat_minor": 5
}
