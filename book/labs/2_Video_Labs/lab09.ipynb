{
 "cells": [
  {
   "cell_type": "markdown",
   "id": "5ecec8d2-e21b-40a3-bce9-2b66c4e24607",
   "metadata": {},
   "source": [
    "# Week 10: Detecting Red M&Ms\n",
    "\n",
    "<font size=\"6\"> Laboratory 9 </font> <br>\n",
    "<font size=\"3\"> Last updated July 22, 2022 </font>"
   ]
  },
  {
   "cell_type": "markdown",
   "id": "9b293a39-9a98-4404-8051-e59690268ed6",
   "metadata": {},
   "source": [
    "## <span style=\"color:orange;\"> 00. Content </span>\n",
    "\n",
    "<font size=\"5\"> Mathematics </font>\n",
    "- Type here\n",
    "    \n",
    "<font size=\"5\"> Programming Skills </font>\n",
    "- Type here\n",
    "    \n",
    "<font size=\"5\"> Embedded Systems </font>\n",
    "- Thonny and Micropython\n",
    "\n",
    "## <span style=\"color:orange;\"> 0. Required Hardware </span>\n",
    "- Microcontroller: Raspberry Pi Pico\n",
    "- Breadboard\n",
    "- USB connector\n",
    "- Camera\n",
    "- RGB color sensor (TCS3472)"
   ]
  },
  {
   "cell_type": "markdown",
   "id": "bd571a02-2ade-444d-a6e9-23202ba5bb3f",
   "metadata": {},
   "source": [
    "<h3 style=\"background-color:lightblue\"> Write your name and email below: </h3>\n",
    "\n",
    "**Name:** me \n",
    "\n",
    "**Email:** me @purdue.edu"
   ]
  },
  {
   "cell_type": "markdown",
   "id": "9f0e360a-5106-42b6-91f6-fb0fc4613670",
   "metadata": {},
   "source": [
    "## <span style=\"color:orange;\"> 1. Camera and Color Sensor </span>\n",
    "\n",
    "In the Color Labs, you made use of a color sensor to detect the color of M&Ms and in the previous labs from the Video Labs you have learned how to record, analyze, and modify a video. In this lab, you will be combining the capabilities of both sensors. As the Arducam HM01B0 doesn't pick up color, only shades of gray, you cannot detect color with it, that is, unless, you know what colors the grayscale values line up with. \n",
    "\n",
    "### <span style=\"color:red\"> Exercise 1 </span>\n",
    "\n",
    "Use the wiring instructions from Lab 04 to connect the TCS34725 color sensor to the same breadboard you are using for the camera. Once the color sensor is connected, find the color vector associated with each of the individual M&M colors. Using the techniques you learned in Lab 03, apply the grayscaling function to each of these colors to determine what the M&M colors line up with in shades of gray.\n",
    "\n",
    "<h3 style=\"background-color:lightblue\"> Write Answers for Exercise 1 Below </h3>"
   ]
  },
  {
   "cell_type": "code",
   "execution_count": null,
   "id": "516011c5-00b0-45f4-98fe-2eb143fbf1a5",
   "metadata": {},
   "outputs": [],
   "source": []
  },
  {
   "cell_type": "markdown",
   "id": "c2bfc4b1-4fd0-4b28-a2f8-b33fec1897cb",
   "metadata": {},
   "source": [
    "### <span style=\"color:red\"> Exercise 2 </span>\n",
    "\n",
    "Now that you have the M&M value colors as the camera would pick them up, try detecting the colors in real time as you did in Lab 04, but this time using the camera instead.\n",
    "\n",
    "<h3 style=\"background-color:lightblue\"> Write Answers for Exercise 2 Below </h3>"
   ]
  },
  {
   "cell_type": "code",
   "execution_count": null,
   "id": "599dde89-418b-4c57-905d-343dbcc3acf7",
   "metadata": {},
   "outputs": [],
   "source": []
  },
  {
   "cell_type": "markdown",
   "id": "11a01ba7-0a36-4d24-9a8a-bc4c200efe90",
   "metadata": {},
   "source": [
    "## <span style=\"color:orange;\"> 2. Detecting Specific Colors </span>\n",
    "\n",
    "During the M&M color detection lab, you were able to display the color of the individual M&M being held in front of the color sensor. However, this method would be inefficient in the case of having a pile of M&Ms, as you would need to individually hold each one up and sort them one-by-one. But with the camera, you can detect multiple instances at the same time as it's picking up a field of vision rather than just one point. Using this functionality will help in picking out specific colors in a pile.\n",
    "\n",
    "One of the things you can do with the camera is have it \"highlight\" certain regions based on defined factors. For example, you can have it display a red box around the moving object by analyzing the differences between frames.\n",
    "\n",
    "**Include example**"
   ]
  },
  {
   "cell_type": "markdown",
   "id": "93dec8fc-d51f-4fc4-a51c-c42c0f61181e",
   "metadata": {},
   "source": [
    "### <span style=\"color:red\"> Exercise 3 </span>\n",
    "\n",
    "Using the previous example and exercises, write a function that picks out the red M&Ms in a pile.\n",
    "\n",
    "<h3 style=\"background-color:lightblue\"> Write Answers for Exercise 3 Below </h3>"
   ]
  },
  {
   "cell_type": "code",
   "execution_count": null,
   "id": "c7f18bbe-481c-4b8e-8cb9-336ce39bd9b5",
   "metadata": {},
   "outputs": [],
   "source": []
  },
  {
   "cell_type": "markdown",
   "id": "52f9a1c2-2c54-4014-9cb6-2f2ed21be89b",
   "metadata": {},
   "source": [
    "## <span style=\"color:green\"> Reflection </span>\n",
    "\n",
    "__1. What parts of the lab, if any, do you feel you did well? <br>\n",
    "2. What are some things you learned today? <br>\n",
    "3. Are there any topics that could use more clarification? <br>\n",
    "4. Do you have any suggestions on parts of the lab to improve?__\n",
    "\n",
    "<h3 style=\"background-color:lightblue\"> Write Answers for the Reflection Below </h3>"
   ]
  },
  {
   "cell_type": "markdown",
   "id": "08f999e0-056d-4420-92cf-8c5a489a7c97",
   "metadata": {},
   "source": []
  }
 ],
 "metadata": {
  "kernelspec": {
   "display_name": "Python 3 (ipykernel)",
   "language": "python",
   "name": "python3"
  },
  "language_info": {
   "codemirror_mode": {
    "name": "ipython",
    "version": 3
   },
   "file_extension": ".py",
   "mimetype": "text/x-python",
   "name": "python",
   "nbconvert_exporter": "python",
   "pygments_lexer": "ipython3",
   "version": "3.10.4"
  }
 },
 "nbformat": 4,
 "nbformat_minor": 5
}
