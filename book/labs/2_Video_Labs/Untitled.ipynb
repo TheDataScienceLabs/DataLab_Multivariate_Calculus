{
 "cells": [
  {
   "cell_type": "markdown",
   "id": "54aae887-dd06-4b82-8a6b-8c211bf14023",
   "metadata": {},
   "source": [
    "# Week 9: Using the Camera\n",
    "\n",
    "<font size=\"6\"> Laboratory 8 </font> <br>\n",
    "<font size=\"3\"> Last updated July 20, 2022 </font>"
   ]
  },
  {
   "cell_type": "markdown",
   "id": "8119d849-3a32-40a5-839b-4304b5aba778",
   "metadata": {},
   "source": [
    "## <span style=\"color:orange;\"> 00. Content </span>\n",
    "\n",
    "<font size=\"5\"> Mathematics </font>\n",
    "- Type here\n",
    "    \n",
    "<font size=\"5\"> Programming Skills </font>\n",
    "- Type here\n",
    "    \n",
    "<font size=\"5\"> Embedded Systems </font>\n",
    "- Thonny and MicroPython\n",
    "\n",
    "## <span style=\"color:orange;\"> 0. Required Hardware </span>\n",
    "- Microcontroller: Raspberry Pi Pico\n",
    "- Breadboard\n",
    "- USB connector\n",
    "- Camera"
   ]
  },
  {
   "cell_type": "markdown",
   "id": "34429ab7-879c-4ac7-86c3-045030111ca7",
   "metadata": {},
   "source": [
    "## <span style=\"color:orange;\"> 1. Detecting Motion </span>\n",
    "\n",
    "During the previous lab, you learned how to display the optical flow between the frames of a video and how to set up a camera using the Raspberry Pi Pico. For this lab, we will be focusing on using the camera and analyzing the video that it provides. \n",
    "\n",
    "Set up your camera using the instructions from last week's lab.\n",
    "\n",
    "### <span style=\"color:red\"> Exercise 1 </span>\n",
    "\n",
    "**Part 1**\n",
    "\n",
    "With your camera set up, record a video of objects moving whether it be you, your neighbor, your hand, a pen, etc. Use Farneback's algorithm and our visualization method to display the optical flow.\n",
    "\n",
    "**Part 2**\n",
    "\n",
    "Can you think of a (mathematical) rule to tell when an object enters the camera's view? (*Hint: thresholding*)\n",
    "\n",
    "<h3 style=\"background-color:lightblue\"> Write Answers for Exercise 1 Part 1 Below </h3>"
   ]
  },
  {
   "cell_type": "code",
   "execution_count": null,
   "id": "99eba2be-56da-4beb-a971-f820826a58db",
   "metadata": {},
   "outputs": [],
   "source": []
  },
  {
   "cell_type": "markdown",
   "id": "f20939b9-40c7-4a03-9493-32a06ee0cc40",
   "metadata": {},
   "source": [
    "<h3 style=\"background-color:lightblue\"> Write Answers for Exercise 1 Part 2 Below </h3>"
   ]
  },
  {
   "cell_type": "markdown",
   "id": "db41b9cb-09a8-4f36-b134-fe389daa052b",
   "metadata": {},
   "source": []
  },
  {
   "cell_type": "markdown",
   "id": "90fd9f18-674c-4a82-82a2-63778ed8f6f1",
   "metadata": {},
   "source": [
    "Now that you have analyzed a video obtained from using the camera, you will be analyzing the video in real time to detect motion. You can use any method to do this, whether it be Farneback's algorithm to determine the differences between frames, your answer to Exercise 1 Part 2, or anything else you can think of. \n",
    "\n",
    "### <span style=\"color:red\"> Exercise 2 </span>\n",
    "\n",
    "Using your camera, detect motion in real time. You can decide how to display that movement has been detected on the camera, such as having Python print a statement or having the Pico's onboard LED light up briefly. \n",
    "\n",
    "<h3 style=\"background-color:lightblue\"> Write Answers for Exercise 2 Below </h3>"
   ]
  },
  {
   "cell_type": "code",
   "execution_count": null,
   "id": "0a50a703-2567-486b-b8d2-a1375050b6e6",
   "metadata": {},
   "outputs": [],
   "source": []
  }
 ],
 "metadata": {
  "kernelspec": {
   "display_name": "Python 3 (ipykernel)",
   "language": "python",
   "name": "python3"
  },
  "language_info": {
   "codemirror_mode": {
    "name": "ipython",
    "version": 3
   },
   "file_extension": ".py",
   "mimetype": "text/x-python",
   "name": "python",
   "nbconvert_exporter": "python",
   "pygments_lexer": "ipython3",
   "version": "3.10.4"
  }
 },
 "nbformat": 4,
 "nbformat_minor": 5
}
