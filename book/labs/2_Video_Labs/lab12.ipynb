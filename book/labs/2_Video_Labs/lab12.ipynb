{
 "cells": [
  {
   "cell_type": "markdown",
   "id": "dde3d820-7553-459a-9dc9-e7de633ff25f",
   "metadata": {},
   "source": [
    "# Week 13: Moving Red M&M Detection\n",
    "\n",
    "<font size=\"6\"> Laboratory 12 </font> <br>\n",
    "<font size=\"3\"> Last updated July 25, 2022 </font>"
   ]
  },
  {
   "cell_type": "markdown",
   "id": "11f0bdad-5366-463b-825e-1a322db900a0",
   "metadata": {},
   "source": [
    "## <span style=\"color:orange;\"> 00. Content </span>\n",
    "\n",
    "<font size=\"5\"> Mathematics </font>\n",
    "- Type here\n",
    "    \n",
    "<font size=\"5\"> Programming Skills </font>\n",
    "- Type here\n",
    "    \n",
    "<font size=\"5\"> Embedded Systems </font>\n",
    "- Type here\n",
    "\n",
    "## <span style=\"color:orange;\"> 0. Required Hardware </span>\n",
    "- Type here"
   ]
  },
  {
   "cell_type": "markdown",
   "id": "c7234dce-9cf1-4bdd-af69-8ba9078d1a47",
   "metadata": {},
   "source": [
    "<h3 style=\"background-color:lightblue\"> Write your name and email below: </h3>\n",
    "\n",
    "**Name:** me \n",
    "\n",
    "**Email:** me @purdue.edu"
   ]
  },
  {
   "cell_type": "code",
   "execution_count": null,
   "id": "00aa240b-7fea-4933-9449-77660bb00f6e",
   "metadata": {},
   "outputs": [],
   "source": [
    "import numpy as np\n",
    "import matplotlib.pyplot as plt\n",
    "import cv2"
   ]
  },
  {
   "cell_type": "markdown",
   "id": "7296c7f8-060a-44e2-9ae1-694a4b5cc349",
   "metadata": {},
   "source": []
  }
 ],
 "metadata": {
  "kernelspec": {
   "display_name": "Python 3 (ipykernel)",
   "language": "python",
   "name": "python3"
  },
  "language_info": {
   "codemirror_mode": {
    "name": "ipython",
    "version": 3
   },
   "file_extension": ".py",
   "mimetype": "text/x-python",
   "name": "python",
   "nbconvert_exporter": "python",
   "pygments_lexer": "ipython3",
   "version": "3.10.4"
  }
 },
 "nbformat": 4,
 "nbformat_minor": 5
}
