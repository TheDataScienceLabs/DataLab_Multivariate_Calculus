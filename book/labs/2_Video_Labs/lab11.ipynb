{
 "cells": [
  {
   "cell_type": "markdown",
   "id": "081829c9-25bd-44af-93a0-54a6a0a266b0",
   "metadata": {},
   "source": [
    "# Week 12: Red M&M Detection\n",
    "\n",
    "<font size=\"6\"> Laboratory 11 </font> <br>\n",
    "<font size=\"3\"> Last updated July 25, 2022 </font>"
   ]
  },
  {
   "cell_type": "markdown",
   "id": "1edd8b71-a922-465c-a040-4007328de93a",
   "metadata": {},
   "source": [
    "## <span style=\"color:orange;\"> 00. Content </span>\n",
    "\n",
    "<font size=\"5\"> Mathematics </font>\n",
    "- Type here\n",
    "    \n",
    "<font size=\"5\"> Programming Skills </font>\n",
    "- Type here\n",
    "    \n",
    "<font size=\"5\"> Embedded Systems </font>\n",
    "- Type here\n",
    "\n",
    "## <span style=\"color:orange;\"> 0. Required Hardware </span>\n",
    "- Type here"
   ]
  },
  {
   "cell_type": "markdown",
   "id": "a60c308e-a2b8-40d0-a32c-cedd0b32f96d",
   "metadata": {},
   "source": [
    "<h3 style=\"background-color:lightblue\"> Write your name and email below: </h3>\n",
    "\n",
    "**Name:** me \n",
    "\n",
    "**Email:** me @purdue.edu"
   ]
  },
  {
   "cell_type": "code",
   "execution_count": null,
   "id": "4cffca0b-44c8-42f1-a7a1-a57e16a94d6a",
   "metadata": {},
   "outputs": [],
   "source": [
    "import numpy as np\n",
    "import matplotlib.pyplot as plt\n",
    "import cv2"
   ]
  },
  {
   "cell_type": "markdown",
   "id": "b9b6e1fe-252f-44a2-abbd-4b55882d0e01",
   "metadata": {},
   "source": [
    "## <span style=\"color:orange;\"> 1. Camera and Color Sensor </span>\n",
    "\n",
    "In the Color Labs, you made use of a color sensor to detect the color of M&Ms and in the previous labs from the Video Labs you have learned how to record, analyze, and modify a video. In this lab, you will be combining the capabilities of both sensors. As the Arducam HM01B0 doesn't pick up color, only shades of gray, you cannot detect color with it, that is, unless, you know what colors the grayscale values line up with. \n",
    "\n",
    "### <span style=\"color:red\"> Exercise 1 </span>\n",
    "\n",
    "Use the wiring instructions from Lab 04 to connect the TCS34725 color sensor to the same breadboard you are using for the camera. Once the color sensor is connected, find the color vector associated with each of the individual M&M colors. Using the techniques you learned in Lab 03, apply the grayscaling function to each of these colors to determine what the M&M colors line up with in shades of gray.\n",
    "\n",
    "<h3 style=\"background-color:lightblue\"> Write Answers for Exercise 1 Below </h3>"
   ]
  },
  {
   "cell_type": "code",
   "execution_count": null,
   "id": "f232058b-3397-4a07-947c-c4e3cf22eff9",
   "metadata": {},
   "outputs": [],
   "source": []
  },
  {
   "cell_type": "markdown",
   "id": "77ba47fe-902c-4394-8a57-865b6ca6e53d",
   "metadata": {},
   "source": [
    "### <span style=\"color:red\"> Exercise 2 </span>\n",
    "\n",
    "Now that you have the M&M value colors as the camera would pick them up, try detecting the colors in real time as you did in Lab 04, but this time using the camera instead.\n",
    "\n",
    "<h3 style=\"background-color:lightblue\"> Write Answers for Exercise 2 Below </h3>"
   ]
  },
  {
   "cell_type": "code",
   "execution_count": null,
   "id": "147214f0-ab04-46fc-90fb-c70cf9b48e53",
   "metadata": {},
   "outputs": [],
   "source": []
  },
  {
   "cell_type": "markdown",
   "id": "76463ff9-a7ac-4887-93d2-b17374e5aa85",
   "metadata": {},
   "source": [
    "## <span style=\"color:orange;\"> 2. Detecting Specific Colors </span>\n",
    "\n",
    "During the M&M color detection lab, you were able to display the color of the individual M&M being held in front of the color sensor. However, this method would be inefficient in the case of having a pile of M&Ms, as you would need to individually hold each one up and sort them one-by-one. But with the camera, you can detect multiple instances at the same time as it's picking up a field of vision rather than just one point. Using this functionality will help in picking out specific colors in a pile.\n",
    "\n",
    "One of the things you can do with the camera is have it \"highlight\" certain regions based on defined factors. For example, you can have it display a red box around the moving object by analyzing the differences between frames.\n",
    "\n",
    "**Include example**"
   ]
  },
  {
   "cell_type": "markdown",
   "id": "c6856161-2552-406b-9777-b2aca5395b9b",
   "metadata": {},
   "source": [
    "### <span style=\"color:red\"> Exercise 3 </span>\n",
    "\n",
    "Using the previous example and exercises, write a function that picks out the red M&Ms in a pile.\n",
    "\n",
    "<h3 style=\"background-color:lightblue\"> Write Answers for Exercise 3 Below </h3>"
   ]
  },
  {
   "cell_type": "code",
   "execution_count": null,
   "id": "df956b67-e8eb-4226-a983-799fd800cc66",
   "metadata": {},
   "outputs": [],
   "source": []
  },
  {
   "cell_type": "markdown",
   "id": "e6ec8a12-6026-442b-8716-f8eb49edb0c3",
   "metadata": {},
   "source": [
    "## <span style=\"color:green\"> Reflection </span>\n",
    "\n",
    "__1. What parts of the lab, if any, do you feel you did well? <br>\n",
    "2. What are some things you learned today? <br>\n",
    "3. Are there any topics that could use more clarification? <br>\n",
    "4. Do you have any suggestions on parts of the lab to improve?__\n",
    "\n",
    "<h3 style=\"background-color:lightblue\"> Write Answers for the Reflection Below </h3>"
   ]
  },
  {
   "cell_type": "markdown",
   "id": "bd60c161-7c13-4f02-87f1-73a058b6b48c",
   "metadata": {},
   "source": []
  }
 ],
 "metadata": {
  "kernelspec": {
   "display_name": "Python 3 (ipykernel)",
   "language": "python",
   "name": "python3"
  },
  "language_info": {
   "codemirror_mode": {
    "name": "ipython",
    "version": 3
   },
   "file_extension": ".py",
   "mimetype": "text/x-python",
   "name": "python",
   "nbconvert_exporter": "python",
   "pygments_lexer": "ipython3",
   "version": "3.10.4"
  }
 },
 "nbformat": 4,
 "nbformat_minor": 5
}
