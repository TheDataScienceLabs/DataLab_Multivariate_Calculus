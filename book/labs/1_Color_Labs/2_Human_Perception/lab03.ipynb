{
 "cells": [
  {
   "cell_type": "markdown",
   "metadata": {},
   "source": [
    "# Week 4: Human Perception of Color\n",
    "\n",
    "<font size=\"6\"> Laboratory 3 </font> <br>\n",
    "<font size=\"3\"> Last updated August 17, 2022 </font>"
   ]
  },
  {
   "cell_type": "markdown",
   "metadata": {},
   "source": [
    "## <span style=\"color:orange;\"> 00. Content </span>\n",
    "\n",
    "<font size=\"5\"> Mathematics </font>\n",
    "- 3 dimensional vectors\n",
    "- Numerical and symbolic integration\n",
    "- Polynomial interpolation\n",
    "- Integral properties\n",
    "- Dirac delta function\n",
    "- Gradient descent optimization\n",
    "- Matrix operations\n",
    "- Injectivity and surjectivity of maps\n",
    "\n",
    "<font size=\"5\"> Programming Skills </font>\n",
    "- Data visualization\n",
    "- Functions\n",
    "\n",
    "<font size=\"5\"> Embedded Systems </font>\n",
    "- N/A\n",
    "\n",
    "## <span style=\"color:orange;\"> 0. Required Hardware </span>\n",
    "- N/A"
   ]
  },
  {
   "cell_type": "markdown",
   "metadata": {},
   "source": [
    "<h3 style=\"background-color:lightblue\"> Write your name and email below: </h3>\n",
    "\n",
    "**Name:** me \n",
    "\n",
    "**Email:** me @purdue.edu"
   ]
  },
  {
   "cell_type": "code",
   "execution_count": null,
   "metadata": {},
   "outputs": [],
   "source": [
    "import numpy as np\n",
    "import matplotlib.pyplot as plt"
   ]
  },
  {
   "cell_type": "markdown",
   "metadata": {},
   "source": [
    "## <span style=\"color:orange;\"> 1. What is Color? </span>\n",
    "\n",
    "You may be wondering why we have been describing color with only 3 values. Why not 2 or 4? The reason is rooted in the anatomy of our eyes. There are three different types of receptors in the human eye called cones or cone cells. One cone type is more sensitive to longer wavelengths (560 nm), another to medium wavelengths (530 nm), and the other to short wavelengths (420 nm). This biological stucture of the eye is the basis of the trichromatic theory of color and allows us to describe color in terms of vector spaces. \n",
    "\n",
    "In a trichromatic model, the sensor, such as your eye or a camera, is charactrized by three spectral response functions. The experiments by Wright and Guild indirectly measured these response functions for the human visual system. Eventually, in the 2000's, Stockman, Sharpe and Fach [[ref1]](https://www.sciencedirect.com/science/article/pii/S0042698900000213)[[ref2]](https://www.sciencedirect.com/science/article/pii/S0042698998002259) measured the actual cone spectral sensitivity. Their experiemental values are in the file *cone_responses.csv*. The file extension csv stands for comma-separated values. If you open the csv file, you will see commas separating 4 values in each row. The first column is wavelength $\\lambda$ in nanometers. The second column is the spectral sensitivity $Q_L(\\lambda)$ of the L-cones. The third column is the spectral sensitivity $Q_M(\\lambda)$ of M-cones. The second column is the spectral sensitivity $Q_S(\\lambda)$ of S-cones.\n",
    "\n",
    "In the following exercise you will fill in code to plot the three functions. Note that there are no values of $Q_S(\\lambda)$ available after $\\lambda=$ 615 nm from the experimental data, but we can effectively set those missing values to zero.  "
   ]
  },
  {
   "cell_type": "markdown",
   "metadata": {},
   "source": [
    "### <span style=\"color:red\"> Exercise 1 </span>\n",
    "\n",
    "Plot $Q_L(\\lambda),Q_M(\\lambda)$, and $Q_S(\\lambda)$ all on one graph. See [matplotlib's documentation](https://matplotlib.org/3.5.0/tutorials/introductory/usage.html#sphx-glr-tutorials-introductory-usage-py) on how to add a legend to your plot. The $x$-axis label should be wavelength in nanometers. The $y$-axis label should be spectral sensitivity. Download [cone_responses.csv](https://github.com/TheDataScienceLabs/DataLab_Multivariate_Calculus/blob/main/book/labs/1_Color_Labs/2_Human_Perception/cone_responses.csv) for the data.\n",
    "\n",
    "<h3 style=\"background-color:lightblue\"> Write Answers for Exercise 1 Below </h3>"
   ]
  },
  {
   "cell_type": "code",
   "execution_count": null,
   "metadata": {},
   "outputs": [],
   "source": [
    "data = np.genfromtxt('cone_responses.csv',   # name of the file\n",
    "                      delimiter=',',         # numbers in the file are separated by commas\n",
    "                      filling_values=0)      # set missing values to zero\n",
    "\n",
    "# fill in\n"
   ]
  },
  {
   "cell_type": "markdown",
   "metadata": {},
   "source": [
    "### <span style=\"color:red\"> Exercise 2 </span>\n",
    "\n",
    "For each of the three curves $Q_L(\\lambda),Q_M(\\lambda)$, and $Q_S(\\lambda)$, fit the points of the graph with a polynomial so that the mean squared error is less than $0.002$. The polynomial is called the *interpolant*. Plot the original data as a scatter plot and the interpolant as a line on the same graph. Given data points $(x_1,y_1),(x_2,y_2), \\dots, (x_n,y_n)$ and interpolant $f$, the mean squared error is $\\frac{1}{n}\\sum_{i=1}^n (f(x_i)-y_i)^2$.\n",
    "\n",
    "*Hint: Define a function that calculates the mean squared error for an interpolant and use a loop to find the degree of interpolant with low enough error.*\n",
    "\n",
    "\n",
    "<h3 style=\"background-color:lightblue\"> Write Answers for Exercise 2 Below </h3>"
   ]
  },
  {
   "cell_type": "code",
   "execution_count": null,
   "metadata": {},
   "outputs": [],
   "source": [
    "# example on how to fit a quadratic polynomial to the test data x and y\n",
    "from numpy.polynomial import Polynomial\n",
    "\n",
    "x = np.array([1.0,2.0,3.0])\n",
    "y = np.array([-1.3,3.2,11.0])\n",
    "example_interpolant = Polynomial.fit(x,y, deg=2)\n",
    "plt.plot(x,example_interpolant(x))\n",
    "plt.show()"
   ]
  },
  {
   "cell_type": "code",
   "execution_count": null,
   "metadata": {},
   "outputs": [],
   "source": [
    "# fill in \n"
   ]
  },
  {
   "cell_type": "markdown",
   "metadata": {},
   "source": [
    "## <span style=\"color:orange;\"> 2. Trichromatic Sensor Model </span>\n",
    "\n",
    "The polynomials you obtained approximate the sensitivity of each type of cone to a different wavelength. A given type of cone cell reacts to a large spectrum of wavelengths, but in different amounts for different frequencies. For example, the L-cones react a lot more at 430 nm (the peak of their corresponding curve on the graph) than to 400 nm. So if the human eye is seeing the color blue at a wavelength of, say, 453 nm, then the L-cones have a high response, while the M and S cells have a small response.\n",
    "This specific shade of blue, or more precisely, the way we perceive this shade of blue, can thus be recorded using three numbers, namely the responses of the three types of cells. \n",
    "\n",
    "When referring to the human visual system, the standard terminology is Red (R) for Long (L), Green (G) for Medium (M), and Blue (B) for Short (S).\n",
    "Hence, we write the sensor responses as a vector $(R_S,G_S,B_S)$ in $\\mathbb{R}^3$, where R,G, and B stand for the three cone types and the subscript S is for stimulus.\n",
    "We call $(R_S,G_S,B_S)$ the *tristimulus vector* with respect to stimulus S.\n",
    "\n",
    "For a stimulus $S(\\lambda)$, the tristimulus vector values are given by\n",
    "\\begin{align*}\n",
    "    R_S &= \\int_{390}^{700} S(\\lambda)Q_R(\\lambda)d\\lambda \\\\\n",
    "    G_S &= \\int_{390}^{700} S(\\lambda)Q_G(\\lambda)d\\lambda \\\\\n",
    "    B_S &= \\int_{390}^{700} S(\\lambda)Q_B(\\lambda)d\\lambda \\\\\n",
    "\\end{align*}"
   ]
  },
  {
   "cell_type": "markdown",
   "metadata": {},
   "source": [
    "### <span style=\"color:red\"> Exercise 3 </span>\n",
    "\n",
    "Not all values of $(R_S,G_S,B_S)$ are possible. Give two such examples and explain your choices. \n",
    "\n",
    "<h3 style=\"background-color:lightblue\"> Write Answers for Exercise 3 Below </h3>"
   ]
  },
  {
   "cell_type": "markdown",
   "metadata": {},
   "source": []
  },
  {
   "cell_type": "markdown",
   "metadata": {},
   "source": [
    "### Linearity of Sensor Responses\n",
    "\n",
    "Suppose two stimuli $S_1(\\lambda)$ and $S_2(\\lambda)$ yield sensor responses $(R_1,G_1,B_1)$ and $(R_2,G_2,B_2)$, respectively. Then R sensor response to the stimulus $a S_1(\\lambda) + b S_2(\\lambda)$ is\n",
    "\\begin{align*}\n",
    "    R_S &= \\int_{390}^{700} [a S_1(\\lambda) + b S_2(\\lambda)] Q_R(\\lambda)d\\lambda \\\\ \n",
    "    &= \\int_{390}^{700} [a S_1(\\lambda)Q_R(\\lambda) + b S_2(\\lambda)Q_R(\\lambda)] d\\lambda \\\\ \n",
    "    &= \\int_{390}^{700} a S_1(\\lambda)d\\lambda  + \\int_{390}^{700} b S_2(\\lambda) Q_R(\\lambda)d\\lambda \\\\ \n",
    "    &= a \\int_{390}^{700} S_1(\\lambda)d\\lambda  + b \\int_{390}^{700} S_2(\\lambda) Q_R(\\lambda)d\\lambda \\\\ \n",
    "    &= a R_1 + b R_2.\n",
    "\\end{align*}"
   ]
  },
  {
   "cell_type": "markdown",
   "metadata": {},
   "source": [
    "### <span style=\"color:red\"> Exercise 4 </span>\n",
    "\n",
    "Calculate the tristimulus vector with respect to the stimulus $\n",
    "    S(\\lambda) = \\begin{cases}\n",
    "        1, 450 \\leq \\lambda \\leq 650 \\\\ \n",
    "        0, \\text{ otherwise} \n",
    "    \\end{cases}$\n",
    "in two ways:\n",
    "1. Using the trapezoidal rule to estimate $R_S,G_S,B_S$\n",
    "2. Using your polynomial interpolants of $Q_R,Q_G,$ and $Q_B$ to integrate symbolically\n",
    "\n",
    "For the symbolic integration, see NumPy's `polyint` function [here](https://numpy.org/doc/stable/reference/generated/numpy.polyint.html)\n",
    "\n",
    "<h3 style=\"background-color:lightblue\"> Write Answers for Exercise 4 Below </h3>"
   ]
  },
  {
   "cell_type": "code",
   "execution_count": null,
   "metadata": {},
   "outputs": [],
   "source": []
  },
  {
   "cell_type": "markdown",
   "metadata": {},
   "source": [
    "### <span style=\"color:red\"> Exercise 5 </span>\n",
    "\n",
    "In real life, many types of light contain a continuous range of frequencies in different amounts. For example, a red light will emit a range of frequencies in the red area of the frequency spectrum, as well as potentially small amounts of other frequencies as well. The International Commission on Illumination (CIE) provides standardization of light, illuminants, and color. \n",
    "The [CIE D65 illuminant](https://haralick.org/DV/cie_2004_colorimetry.pdf) describes average midday light. \n",
    "\n",
    "Calculate the tristimulus vector of the D65 illuminant in two ways:\n",
    "1. Using the trapezoidal rule to estimate the three integrals\n",
    "1. Approximating the spectral power distribution of the illuminant with a high enough degree polynomial and using your polynomial interpolants of $Q_R,Q_G,$ and $Q_B$ to integrate symbolically. Justify your choice of a \"high enough degree polynomial\" for the D65 illuminant.\n",
    "\n",
    "<h3 style=\"background-color:lightblue\"> Write Answers for Exercise 5 Below </h3>"
   ]
  },
  {
   "cell_type": "code",
   "execution_count": null,
   "metadata": {},
   "outputs": [],
   "source": []
  },
  {
   "cell_type": "markdown",
   "metadata": {},
   "source": [
    "### <span style=\"color:red\"> Exercise 6 </span>\n",
    "\n",
    "Write a function depending on $n$ that calculates the tristimulus vector with respect to the stimulus $\n",
    "    S(\\lambda) = \\begin{cases}\n",
    "        1, \\quad 500-n \\leq \\lambda \\leq 500+n \\\\ \n",
    "        0, \\quad \\text{ otherwise} \n",
    "    \\end{cases}.$\n",
    "What is the result when $n=20$? $n=2$? $n=0.2$? Does is look like the resulting vector is approaching any specific values?\n",
    "\n",
    "<h3 style=\"background-color:lightblue\"> Write Answers for Exercise 6 Below </h3>"
   ]
  },
  {
   "cell_type": "code",
   "execution_count": null,
   "metadata": {},
   "outputs": [],
   "source": []
  },
  {
   "cell_type": "markdown",
   "metadata": {},
   "source": [
    "### The Dirac Delta Function\n",
    "\n",
    "### <span style=\"color:red\"> Exercise 7 </span>\n",
    "\n",
    "On a single graph, plot the function\n",
    "$f(x) = \\begin{cases}\n",
    "    \\frac{1}{\\Delta}, \\quad -\\Delta \\leq x \\leq \\Delta \\\\ \n",
    "    0, \\quad \\text{ otherwise} \n",
    "\\end{cases}$\n",
    "for different values of $\\Delta$. What happens when $\\Delta$ is very small?\n",
    "\n",
    "<h3 style=\"background-color:lightblue\"> Write Answers for Exercise 7 Below </h3>"
   ]
  },
  {
   "cell_type": "code",
   "execution_count": null,
   "metadata": {},
   "outputs": [],
   "source": []
  },
  {
   "cell_type": "markdown",
   "metadata": {},
   "source": [
    "The Dirac delta function is $\n",
    "    \\delta(x) = \\lim_{\\Delta \\to 0} f(x)$\n",
    "and has the property $\n",
    "    \\int_{-\\infty}^\\infty \\delta(x)dx = 1.$\n",
    "\n",
    "Why is the delta function useful? Consider again the example of observing a pure blue wavelength of 453 nm. \n",
    "We can write the monochromatic stimulus as $S(\\lambda)=\\delta(\\lambda - 453)$, \n",
    "so the tristimus vector is simply $(Q_R(453), Q_G(453), Q_B(453))$."
   ]
  },
  {
   "cell_type": "markdown",
   "metadata": {},
   "source": [
    "### Metamerism\n",
    "\n",
    "Two stimuli $S_1(\\lambda)$ and $S_2(\\lambda)$ are said to be *metameric* if $(R_1,G_1,B_1) = (R_2,G_2,B_2)$, i.e., the responses of two different stimuli are identical.\n",
    "\n",
    "Let's simplify our model by approximating the integral values $R_S,G_S,B_S$ by their left Riemann sums on the domain $390 \\leq \\lambda \\leq 700$ using a step length of $5$, so\n",
    "\\begin{align*}\n",
    "    R_S = \\int_{390}^{700} S(\\lambda)Q_R(\\lambda)d\\lambda & \\approx 5[S(390)Q_R(390) + S(395)Q_R(395) + \\cdots + S(695)Q_R(695) ] \\\\ \n",
    "    G_S = \\int_{390}^{700} S(\\lambda)Q_G(\\lambda)d\\lambda & \\approx 5[S(390)Q_G(390) + S(395)Q_G(395) + \\cdots + S(695)Q_G(695) ] \\\\ \n",
    "    B_S = \\int_{390}^{700} S(\\lambda)Q_B(\\lambda)d\\lambda & \\approx 5[S(390)Q_B(390) + S(395)Q_B(395) + \\cdots + S(695)Q_B(695) ] \\\\ \n",
    "\\end{align*}.\n",
    "\n",
    "We can rewrite these equations using matrix notation.\n",
    "$ \\begin{bmatrix}\n",
    "        R_S \\\\ G_S \\\\ B_S\n",
    "    \\end{bmatrix} \\approx 5\\begin{bmatrix}\n",
    "        Q_R(390) & Q_R(395) & \\cdots & Q_R(695) \\\\ \n",
    "        Q_G(390) & Q_G(395) & \\cdots & Q_G(695) \\\\ \n",
    "        Q_B(390) & Q_B(395) & \\cdots & Q_B(695) \\\\ \n",
    "    \\end{bmatrix}\n",
    "    \\begin{bmatrix}\n",
    "        S(390) \\\\ S(395) \\\\ \\vdots \\\\ S(695)\n",
    "    \\end{bmatrix}.$\n",
    "    \n",
    "Define the matrix $A := 5\\begin{bmatrix}\n",
    "        Q_R(390) & Q_R(395) & \\cdots & Q_R(695) \\\\ \n",
    "        Q_G(390) & Q_G(395) & \\cdots & Q_G(695) \\\\ \n",
    "        Q_B(390) & Q_B(395) & \\cdots & Q_B(695) \\\\ \n",
    "    \\end{bmatrix}$\n",
    "and call the vector of stimulus spectrum values\n",
    "$\\vec{s} = \\begin{bmatrix}\n",
    "        S(390) \\\\ S(395) \\\\ \\vdots \\\\ S(695)\n",
    "    \\end{bmatrix}.$\n",
    "Then, \n",
    " $ \\begin{bmatrix}\n",
    "        R_S \\\\ G_S \\\\ B_S\n",
    "    \\end{bmatrix} = A\\vec{s}.$"
   ]
  },
  {
   "cell_type": "markdown",
   "metadata": {},
   "source": [
    "\n",
    "To find a metamer for stimulus $S_1(\\lambda)$, we want to find a vector $\\vec{x}$ that minimizes the function \n",
    "$\n",
    "f(\\vec{x}) = || A\\vec{x}-\\vec{b} ||^2,\n",
    "$\n",
    "where $\\vec{b}$ is the tristimulus vector with respect to $S_1(\\lambda)$. \n",
    "The function $||\\cdot||^2 $ is the distance squared between the two vectors $A\\vec{x}$ and $\\vec{b}$.\n",
    "If $f(\\vec{x})=0$, then that means the stimulus described by $\\vec{x}$ has the same tristimulus vector as $S_1(\\lambda)$.\n",
    "Since $f(\\vec{x})$ is never negative, we will find a way the minimize $f(\\vec{x})$.\n",
    "The algorithm we will use to minimize $f(\\vec{x})$ is called gradient descent. The gradient of $f(\\vec{x})$ is \n",
    "$\n",
    "\\nabla f(\\vec{x}) = 2 A^T (A\\vec{x}-\\vec{b}).\n",
    "$\n",
    "The gradient tells us the direction of steepest descent of the function when we are at $\\vec{x}$.\n",
    "The idea is \n",
    "- pick a starting vector $\\vec{x}_0$\n",
    "- calculate the gradient at $\\nabla f(\\vec{x}_0)$ \n",
    "- move $\\vec{x}_0$ in the negative direction of the gradient\n",
    "- repeat with the updated vector until $|| \\nabla f(\\vec{x}_0)||^2$ is small.\n",
    "\n",
    "At each iteration of the algorithm, we will calculate the gradient at the current point and then take a small step in the negative direction of the gradient and continue until the norm of the gradient is very small. \n",
    "\n",
    "There are a few parameters we need to choose beforehand like how much to move in the direction of the negative gradient and how small the norm of the gradient needs to be in order for the algorithm to stop. These are already included in the pseudocode.\n"
   ]
  },
  {
   "cell_type": "markdown",
   "metadata": {},
   "source": [
    "### <span style=\"color:red\"> Exercise 8 </span>\n",
    "\n",
    "Fill in the code below to implement gradient descent for $f(\\vec{x})$ to find a metamer for the D65 illuminant. Plot the spectrum of the D65 illuminant and the metamer you've found. What is the value of $f(\\vec{x})$ when the gradient descent algorithm terminates?\n",
    "\n",
    "<h3 style=\"background-color:lightblue\"> Write Answers for Exercise 8 Below </h3>"
   ]
  },
  {
   "cell_type": "code",
   "execution_count": null,
   "metadata": {},
   "outputs": [],
   "source": [
    "def gradient(x):\n",
    "    # fill in\n",
    "    \n",
    "\n",
    "def gradient_descent(eta):\n",
    "    x = np.zeros((len(d65)-1)) # our starting place is a vector of all zeros\n",
    "    while np.linalg.norm(gradient(x)) > 1e-8:\n",
    "        x -= eta*gradient(x)\n",
    "    return x\n",
    "\n",
    "metamer = gradient_descent(eta=.001)\n",
    "\n",
    "# plot\n"
   ]
  },
  {
   "cell_type": "markdown",
   "metadata": {
    "tags": []
   },
   "source": [
    "### <span style=\"color:red\"> Exercise 9 </span>\n",
    "\n",
    "Let $f$ be the function that takes as input a visual stimulus $S(\\lambda)$ and returns the tristimulus vector of $S(\\lambda)$ in $\\mathbb{R}^3$.\n",
    "\n",
    "Determine if the follow statements are true or false and justify your answer.\n",
    "1. $f$ is injective.\n",
    "1. $f$ is surjective.\n",
    "\n",
    "<h3 style=\"background-color:lightblue\"> Write Answers for Exercise 9 Below </h3>"
   ]
  },
  {
   "cell_type": "markdown",
   "metadata": {},
   "source": []
  },
  {
   "cell_type": "markdown",
   "metadata": {},
   "source": [
    "## <span style=\"color:green;\"> Reflection </span>\n",
    "\n",
    "__1. What parts of the lab, if any, do you feel you did well? <br>\n",
    "2. What are some things you learned today? <br>\n",
    "3. Are there any topics that could use more clarification? <br>\n",
    "4. Do you have any suggestions on parts of the lab to improve?__\n",
    "\n",
    "<h3 style=\"background-color:lightblue\"> Write Answers for the Reflection Below </h3>"
   ]
  },
  {
   "cell_type": "markdown",
   "metadata": {},
   "source": []
  }
 ],
 "metadata": {
  "kernelspec": {
   "display_name": "Python 3.8.5 ('base')",
   "language": "python",
   "name": "python3"
  },
  "language_info": {
   "codemirror_mode": {
    "name": "ipython",
    "version": 3
   },
   "file_extension": ".py",
   "mimetype": "text/x-python",
   "name": "python",
   "nbconvert_exporter": "python",
   "pygments_lexer": "ipython3",
   "version": "3.8.5"
  },
  "vscode": {
   "interpreter": {
    "hash": "5733b5ebf5ecec2b002a59c36710d44decb4334b28aff8074b4cca610e6649ad"
   }
  }
 },
 "nbformat": 4,
 "nbformat_minor": 4
}
