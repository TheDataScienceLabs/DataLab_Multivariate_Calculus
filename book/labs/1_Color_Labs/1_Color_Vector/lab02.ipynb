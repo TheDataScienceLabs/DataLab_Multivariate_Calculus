{
 "cells": [
  {
   "cell_type": "markdown",
   "metadata": {},
   "source": [
    "# Week 3: Creating Color with LEDs\n",
    "\n",
    "<font size=\"6\"> Laboratory 2 </font> <br>\n",
    "<font size=\"3\"> Last updated August 17, 2022 </font>"
   ]
  },
  {
   "cell_type": "markdown",
   "metadata": {},
   "source": [
    "## <span style=\"color:orange;\"> 00. Content </span>\n",
    "\n",
    "<font size=\"5\"> Mathematics </font>\n",
    "- 3 dimensional vectors\n",
    "- Curve parameterization\n",
    "\n",
    "<font size=\"5\"> Programming Skills </font>\n",
    "- Array indexing\n",
    "- Multi-dimensional array manipulation\n",
    "- While loops\n",
    "- Functions\n",
    "\n",
    "<font size=\"5\"> Embedded Systems </font>\n",
    "- Thonny and MicroPython\n",
    "\n",
    "## <span style=\"color:orange;\"> 0. Required Hardware </span>\n",
    "- Microcontroller: Raspberry Pi Pico\n",
    "- Breadboard\n",
    "- USB connector\n",
    "- NeoPixels (WS2812)\n",
    "- Level shifter"
   ]
  },
  {
   "cell_type": "markdown",
   "metadata": {},
   "source": [
    "<h3 style=\"background-color:lightblue\"> Write your name and email below: </h3>\n",
    "\n",
    "**Name:** me \n",
    "\n",
    "**Email:** me @purdue.edu"
   ]
  },
  {
   "cell_type": "code",
   "execution_count": null,
   "metadata": {},
   "outputs": [],
   "source": [
    "import numpy as np\n",
    "import matplotlib.pyplot as plt\n",
    "%matplotlib inline"
   ]
  },
  {
   "cell_type": "markdown",
   "metadata": {},
   "source": [
    "## <span style=\"color:orange;\"> 1. (Re)Introduction to Hardware </span>\n",
    "\n",
    "### Raspberry Pi Pico\n",
    "\n",
    "![img](pictures/pico.jpg)\n",
    "<div>\n",
    "<img src=\"pictures/pico.jpg\" width=\"200\"/>\n",
    "</div>\n",
    "\n",
    "We will be displaying color using LEDs and a microcontroller. A microcontroller is a very small general purpose computer good at communicating with electronic sensors. The specific microcontroller we will use is called the Raspberry Pi Pico. The Raspberry Pi Pico runs a different version of Python called Micropython. Micropython is designed specifically for microcontrollers. It does not have many of the modules you are used to, like numpy, since the Pico does not have enough memory or processing power to make good use of them. Instead, it has libraries for interfacing with hardware, like the machine library we will use to control the pins on the Pico. Also, the time library in Micropython supports millisecond and microsecond sleep functions, which can count out much more precise units of time than you can in normal Python.\n",
    "\n",
    "We will be using Thonny to run code on the Pico and manage files on the Pico itself. \n",
    "\n",
    "Inspect the [datasheet](https://github.com/TheDataScienceLabs/DataLab_Multivariate_Calculus/blob/main/book/labs/1_Color_Labs/1_Color_Vector/pictures/pico_datasheet.png) for the Pico.\n",
    "It may be helpful to save the image in the main folder you’re using since it’ll continue to be referenced throughout this course.\n",
    "The full datasheet for the Pico can be found [here](https://datasheets.raspberrypi.com/pico/pico-datasheet.pdf).\n",
    "\n",
    "<div>\n",
    "<img src=\"pictures/pico_datasheet.png\" width=\"800\"/>\n",
    "</div>\n",
    "\n",
    "### Breadboard\n",
    "\n",
    "<div>\n",
    "<img src=\"pictures/breadboard.jpg\" width=\"200\"/>\n",
    "</div>\n",
    "\n",
    "\n",
    "The name “breadboard” comes from the old days of electronics when people would prototype their projects by nailing them to a cutting board. With a modern breadboard, you don’t need nails. \n",
    "By inserting the entire Pico into your bread board, we can easily connect electrical wires to each of the pins of the Pico. \n",
    "Plug the Pico into the breadboard so that the USB plug is at the end of the breadboard."
   ]
  },
  {
   "cell_type": "markdown",
   "metadata": {},
   "source": [
    "### NeoPixels (WS2812)\n",
    "\n",
    "<div>\n",
    "<img src=\"pictures/led.jpg\" width=\"200\"/>\n",
    "</div>\n",
    "\n",
    "NeoPixels are a brand of individually addressable LEDs. From a single pin, you can individually control however many LEDs are connected on the strip whether it be a single LED, a few in a line, or more complex configurations. There are tons of projects out there people have built using NeoPixels, from lightsabers to music synchronized light shows. **From left to right the pins are DIN, VDD, GND, DOUT.** You will have to fan out the pins a bit so they fit firmly into the breadboard."
   ]
  },
  {
   "cell_type": "markdown",
   "metadata": {},
   "source": [
    "\n",
    "### Level Shifter\n",
    "<div>\n",
    "<img src=\"pictures/level_shifter.jpg\" width=\"200\"/>\n",
    "</div>\n",
    "\n",
    "The Raspberry Pi Pico runs all its circuits at 3.3 volts, while the NeoPixels runs at 5 volts. Luckily, we do have 5 volts available for it (the USB standard includes a 5 volt pin) so we can drive the LEDs as long as the Pico is connected to a computer. The level shifter is in charge of translating between the voltage levels, which is why it has a low voltage side connected to 3V3, and a high voltage side connected to VBUS (which refers to the USB cable). We only need to do level shifting to two pins, and it is good practice to connect pins you are not using to ground."
   ]
  },
  {
   "cell_type": "markdown",
   "metadata": {},
   "source": [
    "### Connecting Everything\n",
    "\n",
    "1. Make sure you have a bread board, Pico, LEDs, a level shifter, and some wires.\n",
    "1. **Do not connect your microcontroller to the computer while you are wiring things together**. If you are uncertain about your wiring, ask for an instructor to check it.\n",
    "1. Use the following tables to wire each component\n",
    "\n",
    "<br>   \n",
    "\n",
    "| Pico | Level shifter |\n",
    "|------|------|\n",
    "| GND | GND (low voltage side) |\n",
    "| GND | LV1 |\n",
    "| GND | LV2 |\n",
    "| GND | LV3 |\n",
    "| GND | LV4 |\n",
    "| 3V3(OUT) | LV |\n",
    "| VBUS | HV |\n",
    "\n",
    "<br>\n",
    "\n",
    "| Level shifter | NeoPixel |\n",
    "|------|------|\n",
    "| GND (high voltage side) | GND |\n",
    "| HV | VCC |\n",
    "\n",
    "<br>\n",
    "\n",
    "| Pico | NeoPixel 1 |\n",
    "|------|------|\n",
    "| GP0 | DIN |\n",
    "\n",
    "<br>\n",
    "\n",
    "| NeoPixel 1 | NeoPixel 2 |\n",
    "|------|------|\n",
    "| DOUT | DIN |\n",
    "\n",
    "<br>\n",
    "\n",
    "Data from the Pico goes into the DIN pin which we set as general purpose pin 0 (or GP0) but we could choose any other GP pin if desired.\n",
    "Power goes through VCC. GND is our common ground path between everything.\n",
    "DOUT moves data to the next pixel or is left floating if it's the last link in a chain.\n",
    "\n",
    "   \n",
    "Once you have it wired up correctly, connect your Pico to the computer with the USB cable. Download and save [neopixel.py](https://github.com/TheDataScienceLabs/DataLab_Multivariate_Calculus/blob/main/book/labs/1_Color_Labs/1_Color_Vector/neopixel.py) to your Pico using Thonny then open the file [neoexample.py](https://github.com/TheDataScienceLabs/DataLab_Multivariate_Calculus/blob/main/book/labs/1_Color_Labs/1_Color_Vector/neoexample.py) in Thonny. Click the green play button to run the script. In order to stop the script, you will need to hit the red *Stop* sign button."
   ]
  },
  {
   "cell_type": "markdown",
   "metadata": {},
   "source": [
    "### <span style=\"color:red\"> Warm Up </span>\n",
    "\n",
    "*Note: Warm Ups aren't graded but may be good practice for later exercises!*\n",
    "\n",
    "Modify the cell below to print the values in the list `[\"mango\", \"strawberry\", \"peach\"]` over and over again for 1 second. The line `time.sleep(0.1)` causes execution to stop for 0.1 seconds before continuing in the `while` loop. It is not necessary to use the `sleep()` function, but it reduces the length of the output. \n",
    "Your output should look like\n",
    "```python\n",
    "mango\n",
    "strawberry\n",
    "peach\n",
    "mango\n",
    "strawberry\n",
    "peach\n",
    "mango\n",
    "strawberry\n",
    "peach\n",
    "mango\n",
    "```\n",
    "<h3 style=\"background-color:lightblue\"> Write Answers for the Warm Up Below </h3>"
   ]
  },
  {
   "cell_type": "code",
   "execution_count": null,
   "metadata": {},
   "outputs": [],
   "source": [
    "import time\n",
    "\n",
    "list = [] #fill in with the 3 values\n",
    "i = 0\n",
    "start = time.time()\n",
    "\n",
    "while (time.time()-start) < 1:\n",
    "    print() # modify to print the values of list\n",
    "    i =  # fill in to index the list properly\n",
    "    time.sleep(0.1)"
   ]
  },
  {
   "cell_type": "markdown",
   "metadata": {},
   "source": [
    "### <span style=\"color:red\"> Exercise 1 </span>\n",
    "\n",
    "Create a file called `color_loop.py` that when run on the Pico makes all of the connected NeoPixels display a color of your choosing and then loops through a sequence of 3 different colors for 10 seconds. Make sure you save the python file in the same folder as this notebook. Once you have finished the task, run the cell below to print the contents of `color_loop.py`. \n",
    "\n",
    "*Hint:* Try the Warm Up activity and reference `neoexample.py` on how to show colors on the LED.\n",
    "\n",
    "<h3 style=\"background-color:lightblue\"> Write Answers for Exercise 1 Below </h3>"
   ]
  },
  {
   "cell_type": "code",
   "execution_count": null,
   "metadata": {},
   "outputs": [],
   "source": [
    "print(open('color_loop.py', 'r').read())"
   ]
  },
  {
   "cell_type": "markdown",
   "metadata": {
    "tags": []
   },
   "source": [
    "### <span style=\"color:red\"> Exercise 2 </span>\n",
    "\n",
    "In a few sentences describe how the color coordinates displayed here in a Jupyter notebook compare to the color coordinates of the NeoPixels. For example, does red look the same on the NeoPixel as it does in the Jupyter notebook.\n",
    "\n",
    "<h3 style=\"background-color:lightblue\"> Write Answers for Exercise 2 Below </h3>"
   ]
  },
  {
   "cell_type": "markdown",
   "metadata": {},
   "source": []
  },
  {
   "cell_type": "markdown",
   "metadata": {
    "tags": []
   },
   "source": [
    "### Duty Cycle \n",
    "\n",
    "So how do the NeoPixels work? The NeoPixels use something called pulse-width modulation to display different colors, which means that the LEDs within the NeoPixel are actually switching on and off at a very fast pace (about 400 times per second). Since these pulses of light alternate on and off so quickly, we only see a uniform brightness. The time between pulses determines the intensity of the color. For a half-strength red (127,0,0), the LEDs are still switching from off to full red (255,0,0), but the LED is on for an equal amount of time that it is off. \n",
    "\n",
    "![img](pictures/dutycycle.png)\n",
    "\n",
    "The length of a cycle in the NeoPixel is about 2.5 ms. To further interpret the graphs above (from [here](https://learn.adafruit.com/led-tricks-gamma-correction?view=all)), let's pretend that the length of a cycle is 1 second. We can simulate a 50% duty cycle by creating an animation with the library Matplotlib. It may pop up with an error message but if you give it some time to load, the interactive animation should appear. Once it pops up, play around with the buttons and watch what happens."
   ]
  },
  {
   "cell_type": "code",
   "execution_count": null,
   "metadata": {},
   "outputs": [],
   "source": [
    "%matplotlib notebook\n",
    "from matplotlib import animation\n",
    "\n",
    "# set up plotting parameters\n",
    "plt.rcParams['figure.dpi'] = 100\n",
    "plt.rcParams['savefig.dpi'] = 100\n",
    "plt.rcParams[\"animation.html\"] = \"jshtml\"\n",
    "fig, ax = plt.subplots(nrows=1, ncols=2, figsize=(8,4))\n",
    "\n",
    "fps = 30         # number of frames per second\n",
    "time = 5         # length of video in seconds\n",
    "percent_on = 25  # % of duty cycle\n",
    "fig.suptitle('{}% Duty Cycle'.format(percent_on))   \n",
    "\n",
    "# set up axis for color\n",
    "ax[0].axis('off')\n",
    "im = ax[0].imshow(np.zeros((1,1,3))) \n",
    "\n",
    "# set up axis for time plot\n",
    "ax[1].axis([0,time,0,1.5])\n",
    "ax[1].set_xlabel('Time (s)')\n",
    "ax[1].set_yticks([0,1,1.5],['off','on',''])\n",
    "dc, = ax[1].plot([],[])\n",
    "t = np.linspace(0,time, num=fps*time)\n",
    "x = []\n",
    "\n",
    "# define the frames of the animation\n",
    "# i is the frame number\n",
    "def animate(i):\n",
    "    # conditional statement to pick the color (on/off)\n",
    "    if (i%fps < (percent_on/100*fps)):\n",
    "        color = [0,0,255]\n",
    "    else:\n",
    "        color = [0,0,0]\n",
    "    # sets the image that will in the animation\n",
    "    im.set_array( [[color]] )\n",
    "    # defines the curve in the right plot                                   \n",
    "    x.append( (i%fps < int(percent_on/100*fps))*1 )\n",
    "    dc.set_data(t[:i], x[:i])\n",
    "    return [im]\n",
    "\n",
    "# create the animation\n",
    "ani = animation.FuncAnimation(fig, animate, frames=fps*time, interval=1000/fps)\n",
    "# show the animation\n",
    "ani"
   ]
  },
  {
   "cell_type": "markdown",
   "metadata": {},
   "source": [
    "### <span style=\"color:red\"> Exercise 3 </span>\n",
    "\n",
    "__Part 1:__ Write a script called `pico_flash.py` that flashes the Pico's onboard LED with a 30% duty cycle where a cycle is 1 second long. Run the cell below the print the code you wrote.\n",
    "\n",
    "<h3 style=\"background-color:lightblue\"> Write Answers for Exercise 3 Part 1 Below </h3>"
   ]
  },
  {
   "cell_type": "code",
   "execution_count": null,
   "metadata": {},
   "outputs": [],
   "source": [
    "print(open('pico_flash.py', 'r').read())"
   ]
  },
  {
   "cell_type": "markdown",
   "metadata": {},
   "source": [
    "__Part 2:__ Write a script called `green_flash.py` that flashes green on the NeoPixel with a 10% duty cycle where a cycle is 1 second long. Run the cell below the print the code you wrote.\n",
    "\n",
    "<h3 style=\"background-color:lightblue\"> Write Answers for Exercise 3 Part 2 Below </h3>"
   ]
  },
  {
   "cell_type": "code",
   "execution_count": null,
   "metadata": {},
   "outputs": [],
   "source": [
    "print(open('green_flash.py', 'r').read())"
   ]
  },
  {
   "cell_type": "markdown",
   "metadata": {},
   "source": [
    "You can also create a function to generate a random color and show it on Neopixel. The code is provided in the provided code folder call the [random_colors.py](https://github.com/TheDataScienceLabs/DataLab_Multivariate_Calculus/blob/main/book/labs/1_Color_Labs/1_Color_Vector/random_colors.py). Take a look at the code and feel free to try running it!"
   ]
  },
  {
   "cell_type": "markdown",
   "metadata": {},
   "source": [
    "## <span style=\"color:orange;\"> 2. Color Matching Exercises </span>\n",
    "\n",
    "Let's see the effects of changing the red, green, and blue channel values by creating a short animation. Let's fix the red and green channel values at 120 and we will vary the blue value from 0 to 255 stepping by 1."
   ]
  },
  {
   "cell_type": "code",
   "execution_count": null,
   "metadata": {},
   "outputs": [],
   "source": [
    "%matplotlib notebook\n",
    "from matplotlib import animation\n",
    "\n",
    "plt.rcParams['figure.figsize'] = (3,3)\n",
    "plt.rcParams['figure.dpi'] = 100\n",
    "plt.rcParams['savefig.dpi'] = 100\n",
    "plt.rcParams[\"animation.html\"] = \"jshtml\"\n",
    "\n",
    "fig, ax = plt.subplots()\n",
    "ax.axis('off')\n",
    "im = ax.imshow( np.zeros((1,1,3)) ) \n",
    "fps = 30                                                    # number of frames per second\n",
    "\n",
    "def animate(i):\n",
    "    color = np.array((120,120,i))                           # define the color as a function of i\n",
    "    im.set_array( [[color]] )                               # display the color\n",
    "    ax.set_title('RGB Values : {}'.format((color)))         # update the title with the RGB values\n",
    "    return [im]\n",
    "\n",
    "ani = animation.FuncAnimation(fig, animate, frames=255, interval=1000/fps)\n",
    "ani"
   ]
  },
  {
   "cell_type": "markdown",
   "metadata": {},
   "source": [
    "### <span style=\"color:red\"> Exercise 4</span>\n",
    "\n",
    "If we think about RGB values being in a 3D cube with R on the $x$-axis, G on the $y$-axis, and B on the $z$-axis, then the gradient animation follows what kind of path?\n",
    "\n",
    "<h3 style=\"background-color:lightblue\"> Write Answers for Exercise 4 Below </h3>"
   ]
  },
  {
   "cell_type": "markdown",
   "metadata": {},
   "source": []
  },
  {
   "cell_type": "markdown",
   "metadata": {},
   "source": [
    "<h3 style=\"color:green;\"><left> Sandbox </left></h3>\n",
    "\n",
    "<span style=\"color:green;\"><left> Make your own movie of colors. Fix different red, green, and blue values and see what happens.</left></span>"
   ]
  },
  {
   "cell_type": "code",
   "execution_count": null,
   "metadata": {},
   "outputs": [],
   "source": [
    "from matplotlib import animation\n",
    "\n",
    "plt.rcParams['figure.figsize'] = (3,3)\n",
    "plt.rcParams['figure.dpi'] = 100\n",
    "plt.rcParams['savefig.dpi'] = 100\n",
    "plt.rcParams[\"animation.html\"] = \"jshtml\"\n",
    "\n",
    "fig, ax = plt.subplots()\n",
    "ax.axis('off')\n",
    "im = ax.imshow(np.zeros((255,255,3))) \n",
    "fps = 30                                    # number of frames per second\n",
    "\n",
    "def animate(i):\n",
    "    color = []\n",
    "    for red in range(255):\n",
    "        row  = []\n",
    "        for green in range(255):\n",
    "            row.append((red,green,i))       # set the color of one pixel\n",
    "        color.append(row)                   # finishing setting color of one row of pixels \n",
    "\n",
    "    im.set_array( color )                   # display the color\n",
    "    return [im]\n",
    "\n",
    "ani = animation.FuncAnimation(fig, animate, frames=255, interval=1000/fps)\n",
    "ani"
   ]
  },
  {
   "cell_type": "markdown",
   "metadata": {},
   "source": [
    "### <span style=\"color:red\"> Exercise 5 </span>\n",
    "\n",
    "Write a script called `neopixel_gradient.py` to recreate the first gradient animation example from the beginning of Section 2 on the NeoPixels and run the cell below to print the code you wrote.\n",
    "\n",
    "<h3 style=\"background-color:lightblue\"> Write Answers for Exercise 5 Below </h3>"
   ]
  },
  {
   "cell_type": "code",
   "execution_count": null,
   "metadata": {},
   "outputs": [],
   "source": [
    "print(open('neopixel_gradient.py', 'r').read())"
   ]
  },
  {
   "cell_type": "markdown",
   "metadata": {},
   "source": [
    "### <span style=\"color:red\"> Exercise 6 </span>\n",
    "\n",
    "Find and download a colorful image online. Try to match a color in the image by adjusting the red, green, and blue channel values and display the matched color using the `plt.imshow()` function as in Lab 1. Don't choose black or white because that's no fun. In a markdown cell, type the command ```![img](my_image.jpg)``` to display your chosen image and specify which color you want to match in the image.\n",
    "\n",
    "<h3 style=\"background-color:lightblue\"> Write Answers for Exercise 6 Below </h3>"
   ]
  },
  {
   "cell_type": "code",
   "execution_count": null,
   "metadata": {},
   "outputs": [],
   "source": []
  },
  {
   "cell_type": "markdown",
   "metadata": {},
   "source": [
    "### Trichromatic Coefficients\n",
    "\n",
    "Some of the most influential color matching experiments were done in the 1920's by W.D. Wright and J. Guild, and their methodology was similar to the exercise you just completed\n",
    "[[ref1]](https://iopscience.iop.org/article/10.1088/1475-4878/30/4/301/meta?casa_token=zjfAyCvyOBcAAAAA:zajVm7GdwsTn1MwpnpXUvlOIAF6Xu1RWpnTgFbJcV846Eu0GDiHJPX44VwgA12tCVsZo-4I6u5oslN2b0JQ)\n",
    "[[ref2]](https://royalsocietypublishing.org/doi/abs/10.1098/rsta.1932.0005).\n",
    "In their experiments, participants tried to match a reference illuminant by adjusting the amounts of three different lights called primaries.\n",
    "The amounts of each light was scaled so that the sum of the three amounts was 1. \n",
    "Wright and Guild tested reference illuminants of pure wavelengths between $400-700$ nm. \n",
    "For a given wavelength, they measured how much of each primary was needed to match it.\n",
    "Naturally, this led to three functions - $r(\\lambda),g(\\lambda)$, and $b(\\lambda)$.\n",
    "\n",
    "Before running the following cell, download [color_matching.txt](https://github.com/TheDataScienceLabs/DataLab_Multivariate_Calculus/blob/main/book/labs/1_Color_Labs/1_Color_Vector/color_matching.txt)."
   ]
  },
  {
   "cell_type": "code",
   "execution_count": null,
   "metadata": {},
   "outputs": [],
   "source": [
    "%matplotlib inline\n",
    "\n",
    "lambdas, r, g, b = np.genfromtxt('color_matching.txt', unpack=True)\n",
    "plt.plot(lambdas, r, 'r', label='$r(\\lambda)$')\n",
    "plt.plot(lambdas, g, 'g', label='$g(\\lambda)$')\n",
    "plt.plot(lambdas, b, 'b', label='$b(\\lambda)$')\n",
    "plt.xlabel('Wavelength (nm)')\n",
    "plt.title('Trichromatic Coefficients')\n",
    "plt.legend()\n",
    "plt.show()"
   ]
  },
  {
   "cell_type": "markdown",
   "metadata": {},
   "source": [
    "There are a lot of different trichromatic coefficient functions depending on which primaries are chosen. For the graph above using data from [[ref]](https://philservice.typepad.com/Wright-Guild_and_CIE_RGB_and_XYZ.pages.pdf), the primaries are 630.7 nm, 528.6 nm , and 457.3 nm. From the table of values in the file *color_matching.txt*, we know that $r(665)=0.995, g(665)=.005$, and $b(665)=0$, so in order to match a light composed of only the wavelength 665 nm, we need of 99.5% of the 630.7 nm primary, 0.5% of the 528.6 nm primary, and none of the third primary in our mixture."
   ]
  },
  {
   "cell_type": "code",
   "execution_count": null,
   "metadata": {},
   "outputs": [],
   "source": [
    "index = 55\n",
    "print(lambdas[index])\n",
    "print(r[index])\n",
    "print(g[index])\n",
    "print(b[index])"
   ]
  },
  {
   "cell_type": "markdown",
   "metadata": {},
   "source": [
    "The trichromatic coefficents are the ratio of primaries needed to match a wavelength of light, so $r(\\lambda)+g(\\lambda)+b(\\lambda)=1$ for all $390 \\leq \\lambda \\leq 700$ nm. However, not every wavelength can be matched experimentally using these three primaries. In order for the participants to match the reference, sometimes it was necessary for them to add a primary amount to the reference itself. In these cases, the trichromatic coefficients can be negative. "
   ]
  },
  {
   "cell_type": "markdown",
   "metadata": {},
   "source": [
    "## Taking Apart Your Circuit\n",
    "\n",
    "1. In Thonny, remove any files stored on the Pico.\n",
    "2. Unplug the Pico from the computer.\n",
    "3. Carefully remove all wires and components."
   ]
  },
  {
   "cell_type": "markdown",
   "metadata": {},
   "source": [
    "## <span style=\"color:green;\"> Reflection </span>\n",
    "\n",
    "__1. What parts of the lab, if any, do you feel you did well? <br>\n",
    "2. What are some things you learned today? <br>\n",
    "3. Are there any topics that could use more clarification? <br>\n",
    "4. Do you have any suggestions on parts of the lab to improve?__\n",
    "\n",
    "<h3 style=\"background-color:lightblue\"> Write Answers for the Reflection Below </h3>"
   ]
  },
  {
   "cell_type": "markdown",
   "metadata": {},
   "source": []
  }
 ],
 "metadata": {
  "kernelspec": {
   "display_name": "Python 3.10.1 ('science')",
   "language": "python",
   "name": "python3"
  },
  "language_info": {
   "codemirror_mode": {
    "name": "ipython",
    "version": 3
   },
   "file_extension": ".py",
   "mimetype": "text/x-python",
   "name": "python",
   "nbconvert_exporter": "python",
   "pygments_lexer": "ipython3",
   "version": "3.10.1"
  },
  "vscode": {
   "interpreter": {
    "hash": "da117b0f748737a4c6fcef44061ed0c3cb917fd676b5a38719a9bfaa8e3d96cb"
   }
  }
 },
 "nbformat": 4,
 "nbformat_minor": 4
}
