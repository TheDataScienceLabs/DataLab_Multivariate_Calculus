{
 "cells": [
  {
   "cell_type": "markdown",
   "id": "50773a2e-d735-42c5-804d-afad2a5d039d",
   "metadata": {},
   "source": [
    "Section 1 + this lab renamed to lab01 and make neopixel stuff lab01_5"
   ]
  },
  {
   "cell_type": "markdown",
   "id": "958b8819-e5be-45a4-bb8b-277e6f6ce2c4",
   "metadata": {},
   "source": [
    "## <span style=\"color:orange;\"> 2. Loops Versus Vector Operations (comparing CPU times) </span>"
   ]
  },
  {
   "cell_type": "markdown",
   "id": "6faa7722-afd1-4515-ab05-a645fd47bac3",
   "metadata": {},
   "source": [
    "This is a good time to practice loops!"
   ]
  },
  {
   "cell_type": "markdown",
   "id": "8cf80c8d-6f60-4a0e-8bd7-4d6ba17759d4",
   "metadata": {},
   "source": [
    "### <span style=\"color:red\"> Exercise 3 </span>\n",
    "\n",
    "Use a loop to create a $1000\\times 1000$ image consisting of 100 three pixel wide yellow vertical lines on a blue background. \n",
    "\n",
    "<h3 style=\"background-color:lightblue\"> Write Answers for Exercise 1 Below </h3>"
   ]
  },
  {
   "cell_type": "code",
   "execution_count": 1,
   "id": "c563e90b-5f66-41dc-9285-1a3d5b20bd1f",
   "metadata": {},
   "outputs": [
    {
     "name": "stdout",
     "output_type": "stream",
     "text": [
      "63 ns ± 0.823 ns per loop (mean ± std. dev. of 7 runs, 10000000 loops each)\n"
     ]
    }
   ],
   "source": [
    "def myfunc():\n",
    "    pass\n",
    "\n",
    "%timeit myfunc()"
   ]
  },
  {
   "cell_type": "markdown",
   "id": "2adc54c7-bf03-4fc1-9865-a430d1245e69",
   "metadata": {},
   "source": [
    "When running computations, it is sometimes desirable to find out how much CPU time was taken for the computation to be performed. One way to do this is to COMPLETE THIS. An example is shown below."
   ]
  },
  {
   "cell_type": "markdown",
   "id": "0f1501c9-5c86-45e7-a45a-89720b08cb61",
   "metadata": {},
   "source": [
    "### <span style=\"color:red\"> Exercise 4 </span>\n",
    "\n",
    "Use two embedded loops to create a $1000\\times 1000$ image consisting of 100 orange squares of side-length equal to 5 pixels equally spread on a purple background. Compute the CPU time required for your computation. \n",
    "\n",
    "<h3 style=\"background-color:lightblue\"> Write Answers for Exercise 4 Below </h3>"
   ]
  },
  {
   "cell_type": "code",
   "execution_count": null,
   "id": "0284f83a-2c22-422f-8771-83a39ec3fc44",
   "metadata": {},
   "outputs": [],
   "source": []
  },
  {
   "cell_type": "markdown",
   "id": "7db0917b-9bed-490e-be98-7eb672f156fb",
   "metadata": {},
   "source": [
    "You may have noticed that your computation took a lot of time. There are better ways to "
   ]
  }
 ],
 "metadata": {
  "interpreter": {
   "hash": "5733b5ebf5ecec2b002a59c36710d44decb4334b28aff8074b4cca610e6649ad"
  },
  "kernelspec": {
   "display_name": "Python 3.8.5 ('base')",
   "language": "python",
   "name": "python3"
  },
  "language_info": {
   "codemirror_mode": {
    "name": "ipython",
    "version": 3
   },
   "file_extension": ".py",
   "mimetype": "text/x-python",
   "name": "python",
   "nbconvert_exporter": "python",
   "pygments_lexer": "ipython3",
   "version": "3.8.5"
  }
 },
 "nbformat": 4,
 "nbformat_minor": 5
}
