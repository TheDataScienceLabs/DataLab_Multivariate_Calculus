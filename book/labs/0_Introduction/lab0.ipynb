{
 "cells": [
  {
   "cell_type": "markdown",
   "id": "a86c853b-b82f-4883-bf03-15a2c05b87db",
   "metadata": {},
   "source": [
    "# Week 1: Introduction\n",
    "\n",
    "<font size=\"6\"> Laboratory 0 </font> <br>\n",
    "<font size=\"3\"> Last updated Jan 8, 2023 </font>"
   ]
  },
  {
   "cell_type": "markdown",
   "id": "e90879f5-f730-44da-ad7a-be77ee8b2eaa",
   "metadata": {},
   "source": [
    "## <span style=\"color:orange;\"> 00. Content </span>"
   ]
  },
  {
   "cell_type": "markdown",
   "id": "ba827722-0c2f-493b-a2d2-d7f0bda08882",
   "metadata": {},
   "source": [
    "<font size=\"5\"> Mathematics </font>\n",
    "- N/A\n",
    "     \n",
    "<font size=\"5\"> Programming Skills </font>\n",
    "- Latex\n",
    "- Importing Libraries\n",
    "- Functions\n",
    "\n",
    "    \n",
    "<font size=\"5\"> Embedded Systems </font>\n",
    "- N/A"
   ]
  },
  {
   "cell_type": "markdown",
   "id": "40ef17dd-1c68-43ed-9406-c2b55840c4b5",
   "metadata": {},
   "source": [
    "## <span style=\"color:orange;\"> 0. Required Hardware </span>"
   ]
  },
  {
   "cell_type": "markdown",
   "id": "ec4e4a28-936f-4676-8286-c69f06d2ac08",
   "metadata": {},
   "source": [
    "- N/A"
   ]
  },
  {
   "cell_type": "markdown",
   "id": "a9b4a375-00e6-40d3-bea2-dcc8a1492083",
   "metadata": {},
   "source": [
    "## <span style=\"color:orange;\"> 1. Before Starting </span>"
   ]
  },
  {
   "cell_type": "markdown",
   "id": "38663706-99db-4699-9cf3-4d78ae5131bc",
   "metadata": {},
   "source": [
    "Let us first set up a file for organizational purposes that will be used to store all files throughout this course. To do this, navigate to the *Home* directory and add a new folder by right-clicking. Name the folder something that will be easy to find, such as \"DSLab_Calc3.\" If you'd like to put it at the top of the list of folders and make it even easier to find, add a tilde (~) at the beginning of the name you chose.\n",
    "\n",
    "Save this and all other files going forward to this folder. It'll make everything much easier to find and will especially come in handy when submitting the labs at the end of each class. This includes files that are downloaded through links during labs. When you click on a file link, it'll send you to the GitHub page for that file. To download and save it to your folder, click on the button that says \"Raw\" on the top right of the file preview (unless it's a PDF, then just click \"Download\"). This will take you to a white page with the information in black text. To see the file in the proper environment, right-click the screen and click \"Save as...\" and once you open it after this, it should appear in the correct environment!\n",
    "\n",
    "## Laboratory ethics\n",
    "\n",
    "\"I pledge to behave ethically and with honesty in this course. I may discuss approaches for a solution with others, but my submitted lab report will be my own work, including all code. I will not make my finished reports available to other students, even after the semester is over. In particular, I will not post my labs on the Internet or make my files available to other people. I will not be a cheater.\""
   ]
  },
  {
   "cell_type": "markdown",
   "id": "d52455de-7954-4e59-98e5-a2613299102c",
   "metadata": {},
   "source": [
    "## <span style=\"color:orange;\"> 2. Toy Lab </span>"
   ]
  },
  {
   "cell_type": "markdown",
   "id": "60f85e09-35cc-47d9-b1d8-6e88b0fb6416",
   "metadata": {},
   "source": [
    "<h3 style=\"background-color:lightblue\"> Write your name and email below: </h3>\n",
    "\n",
    "**Name:** me \n",
    "\n",
    "**Email:** me @purdue.edu"
   ]
  },
  {
   "cell_type": "markdown",
   "id": "63496436-e594-40d6-8574-e7a94bad0382",
   "metadata": {},
   "source": [
    "## Skill Checks"
   ]
  },
  {
   "cell_type": "markdown",
   "id": "e9b7641c-fbce-4219-a66f-89492eeccfa5",
   "metadata": {},
   "source": [
    "### <span style=\"color:red\"> Exercise 1 </span>\n",
    "\n",
    "Write the (infinite) geometric series formula using $\\LaTeX$ code.\n",
    "\n",
    "*Hint: If you're feeling stuck, here's a [short refresher](https://thedatasciencelabs.github.io/DSLab_Calculus/labs/1_intro_to_notebooks/lab0.html#span-style-color-orange-3-a-very-brief-introduction-to-latex-span) on $\\LaTeX$ from the Data Science Labs on Differential and Integral Calculus*.\n",
    "\n",
    "<h3 style=\"background-color:lightblue\"> Write Answer for Exercise 1 Below </h3>"
   ]
  },
  {
   "cell_type": "code",
   "execution_count": null,
   "id": "417da0ae-62e6-481e-a4c7-bb747fe0dfa5",
   "metadata": {},
   "outputs": [],
   "source": []
  },
  {
   "cell_type": "markdown",
   "id": "7636de42-f083-40b1-8510-b5a0e6a57eeb",
   "metadata": {},
   "source": [
    "### <span style=\"color:red\"> Exercise 2 </span>\n",
    "\n",
    "Import the Numpy library and rename it as \"np\".\n",
    "\n",
    "<h3 style=\"background-color:lightblue\"> Write Answer for Exercise 2 Below </h3>"
   ]
  },
  {
   "cell_type": "code",
   "execution_count": null,
   "id": "1a2ae381-d4f2-49d5-84b6-4a458cf2f5e6",
   "metadata": {},
   "outputs": [],
   "source": []
  },
  {
   "cell_type": "markdown",
   "id": "9f6a2acb-61f9-4bf5-8aa6-03a7ba7ca104",
   "metadata": {},
   "source": [
    "### <span style=\"color:red\"> Exercise 3 </span>\n",
    "\n",
    "Write a function that returns a list of the first $n$ positive multiples of 4. Then, call your function to print a list of the first 10 positive multiples of 4.\n",
    "\n",
    "*Bonus: Can you modify your function to return the first $n$ positive multiples of a given positive integer $k$?*\n",
    "\n",
    "<h3 style=\"background-color:lightblue\"> Write Answer for Exercise 3 Below </h3>"
   ]
  },
  {
   "cell_type": "code",
   "execution_count": null,
   "id": "9e3798e4-9eab-43be-a774-913487caee36",
   "metadata": {},
   "outputs": [],
   "source": []
  },
  {
   "cell_type": "markdown",
   "id": "f3a9dff0-74d1-4d7e-af6b-033eaae31c0c",
   "metadata": {},
   "source": [
    "## <span style=\"color:orange;\"> 3. Submitting the Lab </span>"
   ]
  },
  {
   "cell_type": "markdown",
   "id": "6425a5b8-6ef6-4ce4-872e-e1bba659e1ae",
   "metadata": {},
   "source": [
    "Once you have finished the first lab, you will need to submit it. You will do this by saving it as a PDF and uploading the PDF to Gradescope. \n",
    "\n",
    "Before you submit, make sure that everything is completely filled out and saved (either by typing Ctrl+S or by clicking the floppy disk icon in the top left of this application). Once you've done this, \n",
    "\n",
    "1. Navigate to *File* in the top left of the screen and find *Save and Export Notebook As...\"*. Once the drop down comes up, click on *HTML*. \n",
    "1. Open the html file in the web browser by double-clicking on the file location in Downloads.\n",
    "1. In the browser, right-click to choose *Print...* or use Ctrl+P to bring up the print window.\n",
    "For Destination, select *Save as PDF* in the drop down menu and click Save.\n",
    "1. Turn in the PDF through Gradescope.\n",
    "\n",
    "Note that you are expected to submit the lab before the end of class every week. Once you've done this, you are done and are free to leave! "
   ]
  }
 ],
 "metadata": {
  "interpreter": {
   "hash": "5733b5ebf5ecec2b002a59c36710d44decb4334b28aff8074b4cca610e6649ad"
  },
  "kernelspec": {
   "display_name": "Python 3",
   "language": "python",
   "name": "python3"
  },
  "language_info": {
   "codemirror_mode": {
    "name": "ipython",
    "version": 3
   },
   "file_extension": ".py",
   "mimetype": "text/x-python",
   "name": "python",
   "nbconvert_exporter": "python",
   "pygments_lexer": "ipython3",
   "version": "3.8.8"
  }
 },
 "nbformat": 4,
 "nbformat_minor": 5
}
