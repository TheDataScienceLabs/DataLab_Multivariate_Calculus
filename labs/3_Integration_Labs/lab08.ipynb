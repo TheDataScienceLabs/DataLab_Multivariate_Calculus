{
 "cells": [
  {
   "cell_type": "markdown",
   "metadata": {},
   "source": [
    "# Week 9: Numerical Integration\n",
    "\n",
    "<font size=\"6\"> Laboratory 8 </font> <br>\n",
    "<font size=\"3\"> Last updated June 16, 2022 </font>"
   ]
  },
  {
   "cell_type": "markdown",
   "metadata": {},
   "source": [
    "## <span style=\"color:orange;\"> 00. Content </span>\n",
    "\n",
    "<font size=\"5\"> Mathematics </font>\n",
    "- Numerical integration\n",
    "- Error in numerical integration\n",
    "    \n",
    "<font size=\"5\"> Programming Skills </font>\n",
    "- Functions\n",
    "    \n",
    "<font size=\"5\"> Embedded Systems </font>\n",
    "- Thonny and MicroPython\n",
    "\n",
    "## <span style=\"color:orange;\"> 0. Required Hardware </span>\n",
    "- Microcontroller: Raspberry Pi Pico\n",
    "- Breadboard\n",
    "- USB connector\n",
    "- Accelerometer"
   ]
  },
  {
   "cell_type": "markdown",
   "metadata": {},
   "source": [
    "<h3 style=\"background-color:lightblue\"> Write your name and email below: </h3>\n",
    "\n",
    "**Name:** me \n",
    "\n",
    "**Email:** me @purdue.edu"
   ]
  },
  {
   "cell_type": "code",
   "execution_count": null,
   "metadata": {},
   "outputs": [],
   "source": [
    "import numpy as np\n",
    "import matplotlib.pyplot as plt"
   ]
  },
  {
   "cell_type": "markdown",
   "metadata": {},
   "source": [
    "## <span style=\"color:orange;\"> 1. About the LSM9DS0 </span>\n",
    "\n",
    "The LSM9DS0 accelerometers we've been using actually collect more data than we have been using. The chip has 3 sensors: an accelerometer to calculate linear acceleration in 3 directions, a gyroscope to measure angular velocity in 3 directions, and a magnetometer that measures the strength of magnetic fields in 3 direction.\n",
    "\n",
    "In theory, since the gyroscope measure angular velocity in degrees per second, we could integrate the velocity data over time to find out the angle in each of the three directions. In other words, the gyroscope measures how fast the angle is changing so we can figure out the current angle of the gyroscope by adding up how much the angle changes times how much time has elapsed. What we've described is an integral:\n",
    "\\begin{align*}\n",
    "    \\theta(t) = \\int_0^T \\omega(t) dt,\n",
    "\\end{align*}\n",
    "\n",
    "where $\\theta(t)$ is the angle and $\\omega(t)$ is the angular velocity at time $t$.\n",
    "\n",
    "In practice, we can't ignore the error in our data. At every time $t$, the gyroscope reading is the true value plus some error.\n",
    "\\begin{align*}\n",
    "    \\hat\\theta(t) = \\int_0^T (\\omega(t)+\\epsilon(t)) dt =  \\theta(t) + \\int_0^T \\epsilon(t)dt.\n",
    "\\end{align*}"
   ]
  },
  {
   "cell_type": "markdown",
   "metadata": {},
   "source": [
    "### <span style=\"color:red\"> Exercise 1 </span>\n",
    "\n",
    "Keep the gyroscope still for a few seconds and save the data to a `.txt` file. Plot the output of the 3 channel measurements with time as the independent variable and angular velocity in degrees/second as the dependent variable. \n",
    "\n",
    "<h3 style=\"background-color:lightblue\"> Write Answers for Exercise 1 Below </h3>"
   ]
  },
  {
   "cell_type": "code",
   "execution_count": null,
   "metadata": {},
   "outputs": [],
   "source": []
  },
  {
   "cell_type": "markdown",
   "metadata": {},
   "source": [
    "We aren't moving the gyroscope so all of our reading should be about zero right? Ideally, yes, but our digital gyroscope uses tiny internal springs to measure rotation which are sensitive to temperature. In order to get meaningful data, we need to account for this offset.\n",
    "\n",
    "### <span style=\"color:red\"> Exercise 2 </span>\n",
    "\n",
    "Using the data you just collected, compute the mean value in each channel. Take a new still measurement for a few seconds, read it in, and subtract the offset. Plot your results.\n",
    "\n",
    "<h3 style=\"background-color:lightblue\"> Write Answers for Exercise 2 Below </h3>"
   ]
  },
  {
   "cell_type": "code",
   "execution_count": null,
   "metadata": {},
   "outputs": [],
   "source": []
  },
  {
   "cell_type": "markdown",
   "metadata": {},
   "source": [
    "### <span style=\"color:red\"> Exercise 3 </span>\n",
    "\n",
    "Write 5 functions to compute the integral\n",
    "\\begin{align*}\n",
    "    \\hat\\theta(t) = \\int_0^T (\\omega(t)+\\epsilon(t)) dt\n",
    "\\end{align*}\n",
    "according to \n",
    "- Left Riemann sum\n",
    "- Right Riemann sum\n",
    "- Midpoint Rule\n",
    "- Trapezoid Rule\n",
    "- Simpson's Rule\n",
    "\n",
    "Plot all 5 curves on one graph, labeled clearly.\n",
    "\n",
    "<h3 style=\"background-color:lightblue\"> Write Answers for Exercise 3 Below </h3>"
   ]
  },
  {
   "cell_type": "code",
   "execution_count": null,
   "metadata": {},
   "outputs": [],
   "source": []
  },
  {
   "cell_type": "markdown",
   "metadata": {},
   "source": [
    "### <span style=\"color:red\"> Exercise 4 </span>\n",
    "\n",
    "Previously we used averaging to reduce measurement error in the accelerometer with the class `Averager`.\n",
    "Using different lengths to average across, report how it affects drift. Justify what range of values you chose and present your results with clear plots and short explanations.\n",
    "\n",
    "<h3 style=\"background-color:lightblue\"> Write Answers for Exercise 4 Below </h3>"
   ]
  },
  {
   "cell_type": "code",
   "execution_count": null,
   "metadata": {},
   "outputs": [],
   "source": []
  },
  {
   "cell_type": "markdown",
   "metadata": {},
   "source": [
    "## <span style=\"color:orange;\"> 2. Error </span>\n",
    "\n",
    "Suppose $\\theta(t)$ is continuous over $[0,T]$ and let \n",
    "\\begin{align*}\n",
    "    M_1 &= \\max_{t \\in (0,T)} |\\theta'(t)| \\\\\n",
    "    M_2 &= \\max_{t \\in (0,T)} |\\theta''(t)|\n",
    "\\end{align*}\n",
    "\n",
    "That is, $M_1$ is the maximum of the absolute value of the first derivative $\\theta'(t)$ over the interval $(0,T)$ and $M_2$ is the maximum of the absolute value of the second derivative $\\theta''(t)$ over the interval $(0,T)$. If we split the interval  $[0,T]$ into $n$ equal subintervals, then \n",
    "- the error in using either the left Riemann sum or right riemann sum is bounded by\n",
    "\\begin{align*}\n",
    "    \\text{Riemann Error} \\leq \\frac{M_1T^2}{2n}.\n",
    "\\end{align*}\n",
    "    \n",
    "- the error in using the midpoint rule is bounded by\n",
    "\\begin{align*}\n",
    "    \\text{Midpoint Error} \\leq \\frac{M_2T^3}{24n^2}.\n",
    "\\end{align*}\n",
    "\n",
    "- the error in using the trapezoid rule is bounded by\n",
    "\\begin{align*}\n",
    "    \\text{Trapezoid Error} \\leq \\frac{M_2T^3}{12n^2}.\n",
    "\\end{align*}\n",
    "\n",
    "- the error in using Simpson's rule is bounded by\n",
    "\\begin{align*}\n",
    "    \\text{Simpson's Error} \\leq \\frac{M_2T^5}{180n^4}.\n",
    "\\end{align*}"
   ]
  },
  {
   "cell_type": "markdown",
   "metadata": {},
   "source": [
    "### <span style=\"color:red\"> Exercise 5 </span>\n",
    "\n",
    "For each integration rule, use the error bound to determine a value for $n$ that ensures that the integration error is less than $0.1$. The value $n$ gives a better sampling frequency to use when collecting data. Implement the better sampling frequency and compare \n",
    "\n",
    "<h3 style=\"background-color:lightblue\"> Write Answers for Exercise 5 Below </h3>"
   ]
  },
  {
   "cell_type": "code",
   "execution_count": null,
   "metadata": {},
   "outputs": [],
   "source": []
  },
  {
   "cell_type": "markdown",
   "metadata": {},
   "source": [
    "### <span style=\"color:red\"> Exercise 6 </span>\n",
    "\n",
    "The value of $n$ gives a better sampling frequency to use when collecting data. Implement the better sampling frequency (keeping time the same) and compare your new results to your original result.\n",
    "\n",
    "<h3 style=\"background-color:lightblue\"> Write Answers for Exercise 6 Below </h3>"
   ]
  },
  {
   "cell_type": "code",
   "execution_count": null,
   "metadata": {},
   "outputs": [],
   "source": []
  },
  {
   "cell_type": "markdown",
   "metadata": {},
   "source": [
    "## <span style=\"color:orange;\"> 3. Can We Remove Drift? </span>\n",
    "\n",
    "If we are only using gyroscope data, then unfortunately the answer is no. We have shown that there are ways to reduce drift but in any case, the error from integration will always be a factor in calculating angles. In practice, gyroscope data is usually combined with accelerometer data and/or magnetometer data to correct the drift or recalibrate over long periods of time. "
   ]
  },
  {
   "cell_type": "markdown",
   "metadata": {},
   "source": [
    "## <span style=\"color:green\"> Reflection </span>\n",
    "\n",
    "__1. What parts of the lab, if any, do you feel you did well? <br>\n",
    "2. What are some things you learned today? <br>\n",
    "3. Are there any topics that could use more clarification? <br>\n",
    "4. Do you have any suggestions on parts of the lab to improve?__\n",
    "\n",
    "<h3 style=\"background-color:lightblue\"> Write Answers for the Reflection Below </h3>"
   ]
  },
  {
   "cell_type": "markdown",
   "metadata": {},
   "source": []
  }
 ],
 "metadata": {
  "interpreter": {
   "hash": "f50c01e64c69964172779a86ea4c7131ebc214404e389984b9c2b9b905851c43"
  },
  "kernelspec": {
   "display_name": "Python 3 (ipykernel)",
   "language": "python",
   "name": "python3"
  },
  "language_info": {
   "codemirror_mode": {
    "name": "ipython",
    "version": 3
   },
   "file_extension": ".py",
   "mimetype": "text/x-python",
   "name": "python",
   "nbconvert_exporter": "python",
   "pygments_lexer": "ipython3",
   "version": "3.10.4"
  }
 },
 "nbformat": 4,
 "nbformat_minor": 4
}
