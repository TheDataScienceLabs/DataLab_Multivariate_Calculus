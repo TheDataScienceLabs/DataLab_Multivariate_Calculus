{
 "cells": [
  {
   "cell_type": "markdown",
   "metadata": {},
   "source": [
    "# Week 2: Color as a Vector\n",
    "\n",
    "<font size=\"6\"> Laboratory 1 </font> <br>\n",
    "<font size=\"3\"> Last updated June 16, 2022 </font>"
   ]
  },
  {
   "cell_type": "markdown",
   "metadata": {},
   "source": [
    "## <span style=\"color:orange;\"> 00. Content </span>\n",
    "\n",
    "<font size=\"5\"> Mathematics </font>\n",
    "- 3 dimensional vectors\n",
    "- Curve parameterization\n",
    "\n",
    "<font size=\"5\"> Programming Skills </font>\n",
    "- Array indexing\n",
    "- Multi-dimensional array manipulation\n",
    "- While loops\n",
    "- Functions\n",
    "\n",
    "<font size=\"5\"> Embedded Systems </font>\n",
    "- Raspberry Pi pico\n",
    "- Neopixel\n",
    "- Numpy and Matplotlib\n",
    "- Thonny and MicroPython\n",
    "\n",
    "## <span style=\"color:orange;\"> 0. Required Hardware </span>\n",
    "- Microcontroller: Raspberry Pi Pico\n",
    "- Breadboard\n",
    "- USB connector\n",
    "- NeoPixels\n",
    "- Level shifter"
   ]
  },
  {
   "cell_type": "markdown",
   "metadata": {},
   "source": [
    "<h3 style=\"background-color:lightblue\"> Write your name and email below: </h3>\n",
    "\n",
    "**Name:** me \n",
    "\n",
    "**Email:** me @purdue.edu"
   ]
  },
  {
   "cell_type": "code",
   "execution_count": null,
   "metadata": {},
   "outputs": [],
   "source": [
    "import numpy as np\n",
    "import matplotlib.pyplot as plt\n",
    "%matplotlib inline"
   ]
  },
  {
   "cell_type": "markdown",
   "metadata": {},
   "source": [
    "## <span style=\"color:orange;\"> 1. RGB Values </span>\n",
    "\n",
    "Colors in Python can be specified by a red, green, and blue channel value. Each number is an integer between 0-255 and represents the intensity of red, blue, and green light that is mixed together to produce the resulting color. To display the color, we can use Matplotlib's `imshow()` function. The input to this function is a multi-dimensional array that contains information about the size of the image and the color of each pixel. Let's print just one red pixel. That means our image is size $1 \\times 1$ and the color we've chosen is the vector $[255,0,0]$. In the following code cell, the variable `img` has shape $(1,1,3)$; the first two dimensions give the number of rows and the number of columns of pixels. The third dimension is 3, which tells us that `img` is a $1 \\times 1$ array where each entry is a length 3 array."
   ]
  },
  {
   "cell_type": "code",
   "execution_count": null,
   "metadata": {},
   "outputs": [],
   "source": [
    "red = 255\n",
    "green = 0\n",
    "blue = 0\n",
    "color = np.array([red,green,blue])\n",
    "\n",
    "img = color.reshape((1,1,3))  # change array from shape (3,) to (1,1,3) which the right dimension required by plt.show()\n",
    "print(img.shape)\n",
    "\n",
    "plt.imshow(img)\n",
    "plt.axis('off')\n",
    "plt.show()"
   ]
  },
  {
   "cell_type": "markdown",
   "metadata": {},
   "source": [
    "The input of 'imshow' is a three dimensional $ M * N * 3 $ array. M is the number of rows and N decides how many pixels are in one row. For each pixel, we need to specify its color according to its RGB value, which is what the 3 is doing."
   ]
  },
  {
   "cell_type": "code",
   "execution_count": null,
   "metadata": {},
   "outputs": [],
   "source": [
    "# create a picture with two pixels on one row\n",
    "red = [255,0,0]    # RGB value for red\n",
    "green = [0,255,0]  # RGB value for green\n",
    "img = [[red,green]]   \n",
    "\n",
    "plt.imshow(img)\n",
    "plt.axis('off')\n",
    "plt.show()"
   ]
  },
  {
   "cell_type": "markdown",
   "metadata": {},
   "source": [
    "Similarly when we use a  $2 \\times 2 \\times 3$ array as the the input of `imshow()`, we can get 4 pixels of the colors we want."
   ]
  },
  {
   "cell_type": "code",
   "execution_count": null,
   "metadata": {},
   "outputs": [],
   "source": [
    "# create a picture with four pixels spread evenly among two row\n",
    "red     =    [255,0,0]      # RGB value for red\n",
    "green   =    [0,255,0]      # RGB value for green\n",
    "blue    =    [0,0,255]      # RGB value for blue\n",
    "white   =    [255,255,255]  # RGB value for white\n",
    "img = [[red,green],[blue,white]]\n",
    "#      [first row],[second row] \n",
    "\n",
    "plt.imshow(img)\n",
    "plt.axis('off')\n",
    "plt.show()"
   ]
  },
  {
   "cell_type": "markdown",
   "metadata": {},
   "source": [
    "We can use `np.random.randin` to help us generate a $M \\times N \\times 3$ matrix with a random value for each element."
   ]
  },
  {
   "cell_type": "code",
   "execution_count": null,
   "metadata": {},
   "outputs": [],
   "source": [
    "# generate a random 2 * 2 * 3 array with each value being between 0 and 256\n",
    "img_2_2 = np.random.randint(low = 0, high = 256, size = (2, 2, 3))\n",
    "print(\"Shape of the array: \",img_2_2.shape,\"\\n\")\n",
    "print(\"The array looks like: \",img_2_2)\n",
    "\n",
    "# use a 2 * 2 * 3 array to create a 2 * 2  image\n",
    "plt.imshow(img_2_2)\n",
    "plt.axis('off')\n",
    "plt.show()"
   ]
  },
  {
   "cell_type": "markdown",
   "metadata": {},
   "source": [
    "### <span style=\"color:red\"> Exercise 1 </span>\n",
    "\n",
    "What are the RGB values of the color in the lower left square of the random $2\\times 2$ image?\n",
    "\n",
    "<h3 style=\"background-color:lightblue\"> Write Answers for Exercise 1 Below </h3>"
   ]
  },
  {
   "cell_type": "markdown",
   "metadata": {},
   "source": []
  },
  {
   "cell_type": "markdown",
   "metadata": {},
   "source": [
    "### <span style=\"color:red\"> Exercise 2 </span>\n",
    "\n",
    "Display the following shapes:\n",
    "1. green square\n",
    "2. blue square\n",
    "3. yellow square\n",
    "4. Purdue Old Gold square (RGB = (206, 184, 136))\n",
    "5. square that is half red and half yellow\n",
    "\n",
    "<h3 style=\"background-color:lightblue\"> Write Answers for Exercise 2 Below </h3>"
   ]
  },
  {
   "cell_type": "code",
   "execution_count": null,
   "metadata": {},
   "outputs": [],
   "source": []
  },
  {
   "cell_type": "markdown",
   "metadata": {},
   "source": [
    "Let's display a larger image. We can create a $M \\times N \\times 3$ array where each pixel is a random color. Let's set M and N equal to 100."
   ]
  },
  {
   "cell_type": "code",
   "execution_count": null,
   "metadata": {},
   "outputs": [],
   "source": [
    "larger_img = np.random.randint(low = 0, high = 256, size = (100, 100, 3))\n",
    "\n",
    "plt.imshow(larger_img)\n",
    "plt.axis('off')\n",
    "plt.show()"
   ]
  },
  {
   "cell_type": "markdown",
   "metadata": {},
   "source": [
    "## <span style=\"color:orange;\"> 2. NeoPixels </span>\n",
    "\n",
    "NeoPixels are a brand of individually addressable LEDs. From a single pin, you can individually control however many LEDs are connected on the strip whether it be a single LED, a few in a line, or more complex configurations. There are tons of projects out there people have built using NeoPixels from lightsabers to music synchronized light shows. \n",
    "\n",
    "<img src=\"neopixeloff.jpg\" alt=\"neopixel\"  height = \"500\" width = \"250\"/>\n",
    "<img src=\"neopixelon.jpg\" alt=\"neopixel\"  height = \"500\" width = \"250\"/>\n",
    "<img src=\"neopixelonbright.jpg\" alt=\"neopixel\" height = \"500\" width = \"250\"/>"
   ]
  },
  {
   "cell_type": "markdown",
   "metadata": {},
   "source": [
    "### Connecting Everything\n",
    "Do not connect your microcontroller to the computer while you are wiring things together. If you are uncertain about your wiring, ask for an instructor to check it.\n",
    "\n",
    "<!-- | NeoPixel | Pico |\n",
    "|------|------|\n",
    "| GND  | GND  |\n",
    "| +5V  | VBUS |\n",
    "| DIN  | GP0 | -->\n",
    "\n",
    "\n",
    "<br>    \n",
    "\n",
    "\n",
    "| pico        | NeoPixel |\n",
    "|------|------|\n",
    "| GP0(Pin1)  | Din    |\n",
    "| GND        | -      |\n",
    "| VBUS(pin40)| +      |\n",
    "\n",
    "<br>\n",
    "\n",
    "<img src=\"neopixelwiring.jpg\" alt=\"broad connection\"  height = \"500\" width = \"250\"/>\n",
    "<img src=\"neopixel.jpg\" alt=\"neopixel pins\" height = \"500\" width = \"250\"/>\n",
    "\n",
    "Once you have it wired up, connect your Pico to the computer with the USB cable. Save the `neopixel.py` in your PICO using Thonny then open the file `neoexample.py` in Thonny. Click the green play button to run the script. In order to stop the script, you will need to hit the red *Stop* sign button."
   ]
  },
  {
   "cell_type": "markdown",
   "metadata": {},
   "source": [
    "### <span style=\"color:red\"> Warm Up </span>\n",
    "\n",
    "Modify the cell below to print the values in the list `[\"mango\", \"strawberry\", \"peach\"]` over and over again for 1 second. The line `time.sleep(0.1)` causes execution to stop for 0.1 seconds before continuing in the `while` loop. It is not necessary to use the `sleep()` function, but it reduces the length of the output. \n",
    "Your output should look like\n",
    "```python\n",
    "mango\n",
    "strawberry\n",
    "peach\n",
    "mango\n",
    "strawberry\n",
    "peach\n",
    "mango\n",
    "strawberry\n",
    "peach\n",
    "mango\n",
    "```\n",
    "<h3 style=\"background-color:lightblue\"> Write Answers for the Warm Up Below </h3>"
   ]
  },
  {
   "cell_type": "code",
   "execution_count": null,
   "metadata": {},
   "outputs": [],
   "source": [
    "import time\n",
    "\n",
    "list = [] #fill in with the 3 values\n",
    "i = 0\n",
    "start = time.time()\n",
    "\n",
    "while (time.time()-start) < 1:\n",
    "    print() # modify to print the values of list\n",
    "    i =  # fill in to index the list properly\n",
    "    time.sleep(0.1)"
   ]
  },
  {
   "cell_type": "markdown",
   "metadata": {},
   "source": [
    "### <span style=\"color:red\"> Exercise 3 </span>\n",
    "\n",
    "Create a file called `color_loop.py` that when run on the Pico makes the NeoPixels display a looping sequence of 3 different colors on all six pixels. Once you have finished the task, run the cell below to print the contents of `color_loop.py`. \n",
    "\n",
    "<h3 style=\"background-color:lightblue\"> Write Answers for Exercise 3 Below </h3>"
   ]
  },
  {
   "cell_type": "code",
   "execution_count": null,
   "metadata": {},
   "outputs": [],
   "source": [
    "print(open('color_loop.py', 'r').read())"
   ]
  },
  {
   "cell_type": "markdown",
   "metadata": {},
   "source": [
    "### <span style=\"color:red\"> Exercise 4 </span>\n",
    "\n",
    "In a few sentences describe how the color coordinates displayed here in a Jupyter notebook compare to the color coordinates of the NeoPixels. For example, does red look the same on the NeoPixel as it does in the Jupyter notebook.\n",
    "\n",
    "<h3 style=\"background-color:lightblue\"> Write Answers for Exercise 4 Below </h3>"
   ]
  },
  {
   "cell_type": "markdown",
   "metadata": {},
   "source": []
  },
  {
   "cell_type": "markdown",
   "metadata": {
    "tags": []
   },
   "source": [
    "### Duty Cycle \n",
    "\n",
    "So how do the NeoPixels work? The NeoPixels use something called pulse-width modulation to display different colors, which means that the LEDs within the NeoPixel are actually switching on and off at a very fast pace (about 400 times per second). Since these pulses of light alternate on and off so quickly, we only see a uniform brightness. The time between pulses determines the intensity of the color. For a half-strength red (127,0,0), the LEDs are still switching from off to full red (255,0,0), but the LED is on for an equal amount of time that it is off. \n",
    "\n",
    "<!-- <img src=\"dutycycle.png\"/> -->\n",
    "![img](dutycycle.png)\n",
    "\n",
    "The length of a cycle in the NeoPixel is about 2.5 ms. To further interpret the graphs above (from [here](https://learn.adafruit.com/led-tricks-gamma-correction?view=all)), let's pretend that the length of a cycle is 1 second. We can simulate a 50% duty cycle by creating an animation with the library Matplotlib. It may pop up with an error message but if you give it some time to load, the interactive animation should appear. Once it pops up, play around with the buttons and watch what happens."
   ]
  },
  {
   "cell_type": "code",
   "execution_count": null,
   "metadata": {},
   "outputs": [],
   "source": [
    "%matplotlib notebook\n",
    "from matplotlib import animation\n",
    "\n",
    "plt.rcParams['figure.dpi'] = 100\n",
    "plt.rcParams['savefig.dpi'] = 100\n",
    "plt.rcParams[\"animation.html\"] = \"jshtml\"\n",
    "\n",
    "fig, ax = plt.subplots(nrows=1, ncols=2, figsize=(8,4))\n",
    "\n",
    "fps = 30        # number of frames per second\n",
    "time = 5        # length of video\n",
    "percent_on = 15  \n",
    "fig.suptitle('{}% Duty Cycle'.format(percent_on))   \n",
    "\n",
    "# set up axis for color\n",
    "ax[0].axis('off')\n",
    "im = ax[0].imshow(np.zeros((1,1,3))) \n",
    "\n",
    "# set up axis for time plot\n",
    "ax[1].axis([0,time,0,1.5])\n",
    "ax[1].set_xlabel('Time')\n",
    "ax[1].set_yticks([0,1,1.5],['off','on',''])\n",
    "dc, = ax[1].plot([],[])\n",
    "t = np.linspace(0,time, num=fps*time)\n",
    "x = []\n",
    "\n",
    "def animate(i):\n",
    "    color = np.array([0,0,255*(i%fps < (percent_on/100*fps))])\n",
    "    im.set_array( [[color]] )                                   \n",
    "    x.append( (i%fps < int(percent_on/100*fps))*1 )\n",
    "    dc.set_data(t[:i], x[:i])\n",
    "    return [im]\n",
    "\n",
    "ani = animation.FuncAnimation(fig, animate, frames=fps*time, interval=1000/fps)\n",
    "ani"
   ]
  },
  {
   "cell_type": "markdown",
   "metadata": {},
   "source": [
    "### <span style=\"color:red\"> Exercise 5 </span>\n",
    "\n",
    "__Part 1:__ Write a script called `pico_flash.py` that flashes the Pico's onboard LED with a 30% duty cycle where a cycle is 1 second long. Run the cell below the print the code you wrote.\n",
    "\n",
    "<h3 style=\"background-color:lightblue\"> Write Answers for Exercise 5 Part 1 Below </h3>"
   ]
  },
  {
   "cell_type": "code",
   "execution_count": null,
   "metadata": {},
   "outputs": [],
   "source": [
    "print(open('pico_flash.py', 'r').read())"
   ]
  },
  {
   "cell_type": "markdown",
   "metadata": {},
   "source": [
    "__Part 2:__ Write a script called `green_flash.py` that flashes green on the NeoPixel with a 10% duty cycle where a cycle is 1 second long. Run the cell below the print the code you wrote.\n",
    "\n",
    "<h3 style=\"background-color:lightblue\"> Write Answers for Exercise 5 Part 2 Below </h3>"
   ]
  },
  {
   "cell_type": "code",
   "execution_count": null,
   "metadata": {},
   "outputs": [],
   "source": [
    "print(open('green_flash.py', 'r').read())"
   ]
  },
  {
   "cell_type": "markdown",
   "metadata": {},
   "source": [
    "You can also create a function to generate a random color and show it on Neopixel. The code is provided in the provided code folder call the `random_colors.py` Take a look at the code and feel free to try running it!"
   ]
  },
  {
   "cell_type": "markdown",
   "metadata": {},
   "source": [
    "### Dithering\n",
    "\n",
    "So far, when we choose a color to display we have 256 choices for the red channel value, 256 choices for the green channel and another 256 choices for blue.\n",
    "In total, that is $256 \\times 256 \\times 256 = 16,777,216$ colors available to us, but clearly there is an infinite number of colors. \n",
    "Dithering is the process of adding patterns in an image to create the visual effect of colors outside of a fixed color palette.\n",
    "\n",
    "Suppose that we can only use the colors red and yellow. We can create the illusion of orange by displaying red and yellow pixels in a large checkerboard pattern."
   ]
  },
  {
   "cell_type": "code",
   "execution_count": null,
   "metadata": {},
   "outputs": [],
   "source": [
    "%matplotlib inline\n",
    "palette = np.array([[255,   0,   0], # index 0: red\n",
    "                    [  0, 255,   0], # index 1: green\n",
    "                    [  0,   0, 255], # index 2: blue\n",
    "                    [255, 255, 255], # index 3: white\n",
    "                    [  0,   0,   0], # index 4: black\n",
    "                    [255, 255,   0]  # index 5: yellow\n",
    "                    ])\n",
    "\n",
    "pattern = np.array([     # make the pattern using the index of the color           \n",
    "    [0,5],               # 0=red, 5=yellow\n",
    "    [5,0]   ])\n",
    "\n",
    "print(palette.shape)\n",
    "print(pattern.shape)\n",
    "print(palette[pattern])\n",
    "fig, ax = plt.subplots(nrows=1, ncols=3, figsize=(12, 4))  # figsize represents the size of figure in inches\n",
    "ax[0].imshow(palette[pattern])\n",
    "ax[0].axis('off')            \n",
    "ax[1].imshow(palette[np.tile(pattern, (2,2))])\n",
    "ax[1].axis('off')\n",
    "ax[2].imshow(palette[np.tile(pattern, (50,50))])\n",
    "ax[2].axis('off')\n",
    "plt.show()"
   ]
  },
  {
   "cell_type": "markdown",
   "metadata": {},
   "source": [
    "Dithering is applied within the NeoPixels to display a wide range of colors, but the color palette is much larger than simply bright red and yellow. We have red, green, and blue in varying intensities."
   ]
  },
  {
   "cell_type": "code",
   "execution_count": null,
   "metadata": {},
   "outputs": [],
   "source": [
    "palette = np.array([[150,   0,   0], # index 0: dimmer red\n",
    "                    [  0, 100,   0], # index 1: dimmer green\n",
    "                    [  0,   0, 255]  # index 2: blue\n",
    "                    ])\n",
    "\n",
    "pattern = np.array([     # make the pattern using the index of the color       \n",
    "    [0,1,2],              \n",
    "    [1,2,0],\n",
    "    [2,0,1]   ])\n",
    "\n",
    "fig, ax = plt.subplots(nrows=1, ncols=3, figsize=(12, 4))\n",
    "ax[0].imshow(palette[pattern])\n",
    "ax[0].axis('off')            \n",
    "ax[1].imshow(palette[np.tile(pattern, (2,2))])\n",
    "ax[1].axis('off')\n",
    "ax[2].imshow(palette[np.tile(pattern, (50,50))])\n",
    "ax[2].axis('off')\n",
    "plt.show()"
   ]
  },
  {
   "cell_type": "markdown",
   "metadata": {},
   "source": [
    "<h3 style=\"color:green;\"><left> Sandbox </left></h3>\n",
    "\n",
    "<span style=\"color:green;\"><left> Try out some other patterns with different colors.  </left></span>"
   ]
  },
  {
   "cell_type": "code",
   "execution_count": null,
   "metadata": {},
   "outputs": [],
   "source": []
  },
  {
   "cell_type": "markdown",
   "metadata": {},
   "source": [
    "## <span style=\"color:orange;\"> 3. Color Matching Exercises </span>\n",
    "\n",
    "Let's see the effects of changing the red, green, and blue channel values by creating a short animation. Let's fix the red and green channel values at 120 and we will vary the blue value from 0 to 255 stepping by 1."
   ]
  },
  {
   "cell_type": "code",
   "execution_count": null,
   "metadata": {},
   "outputs": [],
   "source": [
    "%matplotlib notebook\n",
    "from matplotlib import animation\n",
    "\n",
    "plt.rcParams['figure.figsize'] = (3,3)\n",
    "plt.rcParams['figure.dpi'] = 100\n",
    "plt.rcParams['savefig.dpi'] = 100\n",
    "plt.rcParams[\"animation.html\"] = \"jshtml\"\n",
    "\n",
    "fig, ax = plt.subplots()\n",
    "ax.axis('off')\n",
    "im = ax.imshow( np.zeros((1,1,3)) ) \n",
    "fps = 30                                                    # number of frames per second\n",
    "\n",
    "def animate(i):\n",
    "    color = np.array((120,120,i))                           # define the color as a function of i\n",
    "    im.set_array( [[color]] )                               # display the color\n",
    "    ax.set_title('RGB Values : {}'.format((color)))         # update the title with the RGB values\n",
    "    return [im]\n",
    "\n",
    "ani = animation.FuncAnimation(fig, animate, frames=255, interval=1000/fps)\n",
    "ani"
   ]
  },
  {
   "cell_type": "markdown",
   "metadata": {},
   "source": [
    "### <span style=\"color:red\"> Exercise 6 </span>\n",
    "\n",
    "If we think about RGB values being in a 3D cube with R on the $x$-axis, G on the $y$-axis, and B on the $z$-axis, then the gradient animation follows what kind of path?\n",
    "\n",
    "<h3 style=\"background-color:lightblue\"> Write Answers for Exercise 6 Below </h3>"
   ]
  },
  {
   "cell_type": "markdown",
   "metadata": {},
   "source": []
  },
  {
   "cell_type": "markdown",
   "metadata": {},
   "source": [
    "<h3 style=\"color:green;\"><left> Sandbox </left></h3>\n",
    "\n",
    "<span style=\"color:green;\"><left> Make your own movie of colors. Fix difference red, green, and blue values and see what happens.</left></span>"
   ]
  },
  {
   "cell_type": "code",
   "execution_count": null,
   "metadata": {},
   "outputs": [],
   "source": []
  },
  {
   "cell_type": "markdown",
   "metadata": {},
   "source": [
    "### <span style=\"color:red\"> Exercise 7 </span>\n",
    "\n",
    "Write a script to recreate the gradient animation example on the NeoPixels and run the cell below to print the code you wrote.\n",
    "\n",
    "<h3 style=\"background-color:lightblue\"> Write Answers for Exercise 7 Below </h3>"
   ]
  },
  {
   "cell_type": "code",
   "execution_count": null,
   "metadata": {},
   "outputs": [],
   "source": [
    "print(open('neopixel_gradient.py', 'r').read())"
   ]
  },
  {
   "cell_type": "markdown",
   "metadata": {},
   "source": [
    "### <span style=\"color:red\"> Exercise 8 </span>\n",
    "\n",
    "Find a colorful object around you or image online. Try to match the color of the object or a color in the image by adjusting the red, green, and blue channel values and display the matched color.\n",
    "\n",
    "<h3 style=\"background-color:lightblue\"> Write Answers for Exercise 8 Below </h3>"
   ]
  },
  {
   "cell_type": "code",
   "execution_count": null,
   "metadata": {},
   "outputs": [],
   "source": [
    "from matplotlib import animation\n",
    "\n",
    "plt.rcParams['figure.figsize'] = (3,3)\n",
    "plt.rcParams['figure.dpi'] = 100\n",
    "plt.rcParams['savefig.dpi'] = 100\n",
    "plt.rcParams[\"animation.html\"] = \"jshtml\"\n",
    "\n",
    "fig, ax = plt.subplots()\n",
    "ax.axis('off')\n",
    "im = ax.imshow(np.zeros((255,255,3))) \n",
    "fps = 30                                    # number of frames per second\n",
    "\n",
    "def animate(i):\n",
    "    color = []\n",
    "    for red in range(255):\n",
    "        row  = []\n",
    "        for green in range(255):\n",
    "            row.append((red,green,i))       # set the color of one pixel\n",
    "        color.append(row)                   # finishing setting color of one row of pixels \n",
    "\n",
    "    im.set_array( color )                   # display the color\n",
    "    return [im]\n",
    "\n",
    "ani = animation.FuncAnimation(fig, animate, frames=255, interval=1000/fps)\n",
    "ani"
   ]
  },
  {
   "cell_type": "markdown",
   "metadata": {},
   "source": [
    "### Trichromatic Coefficients\n",
    "\n",
    "Some of the most influential color matching experiments were done in the 1920's by W.D. Wright and J. Guild, and their methodology was similar to the exercise you just completed\n",
    "[[ref1]](https://iopscience.iop.org/article/10.1088/1475-4878/30/4/301/meta?casa_token=zjfAyCvyOBcAAAAA:zajVm7GdwsTn1MwpnpXUvlOIAF6Xu1RWpnTgFbJcV846Eu0GDiHJPX44VwgA12tCVsZo-4I6u5oslN2b0JQ)\n",
    "[[ref2]](https://royalsocietypublishing.org/doi/abs/10.1098/rsta.1932.0005).\n",
    "In their experiments, participants tried to match a reference illuminant by adjusting the amounts of three different lights called primaries.\n",
    "The amounts of each light was scaled so that the sum of the three amounts was 1. \n",
    "Wright and Guild tested reference illuminants of pure wavelengths between $400-700$ nm. \n",
    "For a given wavelength, they measured how much of each primary was needed to match it.\n",
    "Naturally, this led to three functions - $r(\\lambda),g(\\lambda)$, and $b(\\lambda)$."
   ]
  },
  {
   "cell_type": "code",
   "execution_count": null,
   "metadata": {},
   "outputs": [],
   "source": [
    "%matplotlib inline\n",
    "\n",
    "lambdas, r, g, b = np.genfromtxt('color_matching.txt', unpack=True)\n",
    "plt.plot(lambdas, r, 'r', label='$r(\\lambda)$')\n",
    "plt.plot(lambdas, g, 'g', label='$g(\\lambda)$')\n",
    "plt.plot(lambdas, b, 'b', label='$b(\\lambda)$')\n",
    "plt.xlabel('Wavelength (nm)')\n",
    "plt.title('Trichromatic Coefficients')\n",
    "plt.legend()\n",
    "plt.show()"
   ]
  },
  {
   "cell_type": "markdown",
   "metadata": {},
   "source": [
    "There are a lot of different trichromatic coefficient functions depending on which primaries are chosen. For the graph above using data from [[ref]](https://philservice.typepad.com/Wright-Guild_and_CIE_RGB_and_XYZ.pages.pdf), the primaries are 630.7 nm, 528.6 nm , and 457.3 nm. From the table of values in the file *color_matching.txt*, we know that $r(665)=0.995, g(665)=.005$, and $b(665)=0$, so in order to match a light composed of only the wavelength 665 nm, we need of 99.5% of the 630.7 nm primary, 0.5% of the 528.6 nm primary, and none of the third primary in our mixture."
   ]
  },
  {
   "cell_type": "code",
   "execution_count": null,
   "metadata": {},
   "outputs": [],
   "source": [
    "index = 55\n",
    "print(lambdas[index])\n",
    "print(r[index])\n",
    "print(g[index])\n",
    "print(b[index])"
   ]
  },
  {
   "cell_type": "markdown",
   "metadata": {},
   "source": [
    "The trichromatic coefficents are the ratio of primaries needed to match a wavelength of light, so $r(\\lambda)+g(\\lambda)+b(\\lambda)=1$ for all $390 \\leq \\lambda \\leq 700$ nm. However, not every wavelength can be matched experimentally using these three primaries. In order for the participants to match the reference, sometimes it was necessary for them to add a primary amount to the reference itself. In these cases, the trichromatic coefficients can be negative. "
   ]
  },
  {
   "cell_type": "markdown",
   "metadata": {},
   "source": [
    "## <span style=\"color:green;\"> Reflection </span>\n",
    "\n",
    "__1. What parts of the lab, if any, do you feel you did well? <br>\n",
    "2. What are some things you learned today? <br>\n",
    "3. Are there any topics that could use more clarification? <br>\n",
    "4. Do you have any suggestions on parts of the lab to improve?__\n",
    "\n",
    "<h3 style=\"background-color:lightblue\"> Write Answers for the Reflection Below </h3>"
   ]
  },
  {
   "cell_type": "markdown",
   "metadata": {},
   "source": []
  }
 ],
 "metadata": {
  "kernelspec": {
   "display_name": "Python 3 (ipykernel)",
   "language": "python",
   "name": "python3"
  },
  "language_info": {
   "codemirror_mode": {
    "name": "ipython",
    "version": 3
   },
   "file_extension": ".py",
   "mimetype": "text/x-python",
   "name": "python",
   "nbconvert_exporter": "python",
   "pygments_lexer": "ipython3",
   "version": "3.10.4"
  },
  "vscode": {
   "interpreter": {
    "hash": "1e50b8cbafc0c2ddeea0b261b330ded4c07fcb971b53272b79f259415b027d80"
   }
  }
 },
 "nbformat": 4,
 "nbformat_minor": 4
}
