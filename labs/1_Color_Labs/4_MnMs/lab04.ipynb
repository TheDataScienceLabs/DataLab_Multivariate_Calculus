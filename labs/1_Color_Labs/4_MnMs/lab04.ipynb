{
 "cells": [
  {
   "cell_type": "markdown",
   "metadata": {},
   "source": [
    "# Week 5: Detect the Color of M&Ms\n",
    "\n",
    "<font size=\"6\"> Laboratory 4 </font> <br>\n",
    "<font size=\"3\"> Last updated June 16, 2022 </font>"
   ]
  },
  {
   "cell_type": "markdown",
   "metadata": {},
   "source": [
    "## <span style=\"color:orange;\"> 00. Content </span>\n",
    "\n",
    "<font size=\"5\"> Mathematics </font>\n",
    "- 3 dimensional vectors\n",
    "- Distance\n",
    "\n",
    "<font size=\"5\"> Programming Skills </font>\n",
    "- Modules\n",
    "\n",
    "<font size=\"5\"> Embedded Systems </font>\n",
    "- Thonny and MicroPython\n",
    "\n",
    "## <span style=\"color:orange;\"> 0. Required Hardware </span>\n",
    "- Raspberry Pi Pico\n",
    "- RGB color sensor (TCS3472)\n",
    "- OLED display"
   ]
  },
  {
   "cell_type": "markdown",
   "metadata": {},
   "source": [
    "<h3 style=\"background-color:lightblue\"> Write your name and email below: </h3>\n",
    "\n",
    "**Name:** me \n",
    "\n",
    "**Email:** me @purdue.edu"
   ]
  },
  {
   "cell_type": "markdown",
   "metadata": {},
   "source": [
    "## RGB Color Sensors\n",
    "\n",
    "We've done a lot of theoretical work about color from learning about tristiulus vectors and metamers, but now let's investigate a use for the RGB color space. The TCS3472 sensor we will be using can detect color and returns an RGB value. The sensor contains an infrared (IR) blocking filter for increased accuracy. IR light is light that has wavelengths of 800-1000 nm; it is invisible to us since humans only percieve wavelengths in the 400-700 nm range. "
   ]
  },
  {
   "cell_type": "markdown",
   "metadata": {},
   "source": [
    "## Wiring Instructions\n",
    "\n",
    "Please make sure your microcontroller is not plugged to the computer while you are wiring things together. Ask the instructor if you are unsure about your wiring. \n",
    "\n",
    "| OLED | Pico |\n",
    "|------|------|\n",
    "| GND  | GND  |\n",
    "| VCC  | 3V3(OUT) |\n",
    "| SCL  | I2C0 SCL  or I2C1 SCL |\n",
    "| SDA  | I2C0 SDA  or I2C1 SDA |\n",
    " \n",
    "<br>\n",
    "\n",
    "| TCS34725 | Pico |\n",
    "|------|------|\n",
    "| GND  | GND  |\n",
    "| VIN  | 3V3(OUT) |\n",
    "| SDA  | GP8 |\n",
    "| SCL  | GP9 |\n",
    "| LED  | GP15 | <\\span>\n",
    "\n",
    "<img src=\"oled.jpg\" alt=\"oled\"  height = \"500\" width = \"250\"/>\n",
    "<img src=\"colorsensor.jpg\" alt=\"color sensor\"  height = \"500\" width = \"250\"/>\n",
    "<img src=\"oledcolorwiring.jpg\" alt=\"circuit\" height = \"500\" width = \"250\"/>"
   ]
  },
  {
   "cell_type": "markdown",
   "metadata": {},
   "source": [
    "### <span style=\"color:red\"> Exercise 1 </span>\n",
    "\n",
    "It's long been debated whether different color M&Ms taste different [[1]](https://www.mashed.com/748770/the-absolute-best-desserts-in-the-us/). Let's say you have a friend who is color blind who wants to test this theory themselves, but it's a challenge to sort red from green from brown M&Ms. To solve this critial problem, your goal is to create an M&M sorter using your Pico and the TCS3472 color sensor. Connect the color sensor and an OLED display to your Pico. When you hold up an M&M to the sensor, the screen should display the name of the color of the M&M. To display the name of the color, you will have to play around with the color detection a bit to see what values generally are detected for each color. As a suggestion, it'll be easier to read and manipulate your code if you write the color name display code in a function aside from main.\n",
    "\n",
    "*Hint 1:* See example.py in the folder called color_sensor for how to use the sensor. Make sure tcs34725.py is stored on the Pico before you run the example file.\n",
    "\n",
    "*Hint 2:* It may be helpful to use the distance between the RGB vector output and \"target\" colors to detect red, blue, etc. \n",
    "\n",
    "\n",
    "**Part 1**\n",
    "\n",
    "Describe in a few sentences how well your M&M sorter works. \n",
    "\n",
    "<h3 style=\"background-color:lightblue\"> Write Answers for Exercise 1 Part 1 Below </h3>"
   ]
  },
  {
   "cell_type": "markdown",
   "metadata": {
    "vscode": {
     "languageId": "plaintext"
    }
   },
   "source": []
  },
  {
   "cell_type": "markdown",
   "metadata": {},
   "source": [
    "**Part 2**\n",
    "\n",
    "Display all code you wrote either by copying and pasting or reading in and printing Python file contents. \n",
    "\n",
    "<h3 style=\"background-color:lightblue\"> Write Answers for Exercise 1 Part 2 Below </h3>"
   ]
  },
  {
   "cell_type": "code",
   "execution_count": null,
   "metadata": {},
   "outputs": [],
   "source": []
  },
  {
   "cell_type": "markdown",
   "metadata": {},
   "source": [
    "### <span style=\"color:red\"> Exercise 2 </span>\n",
    "\n",
    "While displaying the color name helps, it may be easier to understand what the color sensor is seeing if we showed the actual color. This time using the Thonny terminal instead of the OLED, print a block of color based on the values that the color sensor is picking up. You may also want to change the time between each print to be a bit longer if the terminal gets too cluttered too quickly.\n",
    "\n",
    "*Hint:* You learned how to print blocks of colors in Lab 1 so referencing that lab may be beneficial.\n",
    "\n",
    "**Part 1**\n",
    "\n",
    "Describe in a couple sentences how well your code works.\n",
    "\n",
    "<h3 style=\"background-color:lightblue\"> Write Answers for Exercise 2 Part 1 Below </h3>"
   ]
  },
  {
   "cell_type": "markdown",
   "metadata": {},
   "source": []
  },
  {
   "cell_type": "markdown",
   "metadata": {},
   "source": [
    "**Part 2**\n",
    "\n",
    "Display all code you wrote either by copying and pasting or reading in and printing Python file contents.\n",
    "\n",
    "<h3 style=\"background-color:lightblue\"> Write Answers for Exercise 2 Part 2 Below </h3>"
   ]
  },
  {
   "cell_type": "code",
   "execution_count": null,
   "metadata": {},
   "outputs": [],
   "source": []
  },
  {
   "cell_type": "markdown",
   "metadata": {},
   "source": [
    "## <span style=\"color:green\"> Reflection </span>\n",
    "\n",
    "__1. What parts of the lab, if any, do you feel you did well? <br>\n",
    "2. What are some things you learned today? <br>\n",
    "3. Are there any topics that could use more clarification? <br>\n",
    "4. Do you have any suggestions on parts of the lab to improve?__\n",
    "\n",
    "<h3 style=\"background-color:lightblue\"> Write Answers for the Reflection Below </h3>"
   ]
  },
  {
   "cell_type": "markdown",
   "metadata": {},
   "source": []
  }
 ],
 "metadata": {
  "kernelspec": {
   "display_name": "Python 3 (ipykernel)",
   "language": "python",
   "name": "python3"
  },
  "language_info": {
   "codemirror_mode": {
    "name": "ipython",
    "version": 3
   },
   "file_extension": ".py",
   "mimetype": "text/x-python",
   "name": "python",
   "nbconvert_exporter": "python",
   "pygments_lexer": "ipython3",
   "version": "3.10.4"
  }
 },
 "nbformat": 4,
 "nbformat_minor": 4
}
