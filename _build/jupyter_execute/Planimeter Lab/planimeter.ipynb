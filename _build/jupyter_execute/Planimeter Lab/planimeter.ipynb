{
 "cells": [
  {
   "cell_type": "markdown",
   "metadata": {},
   "source": [
    "<div style=\"background-color:lightblue\">\n",
    "<h1><center>\n",
    "    The Data Science Labs on <br/>\n",
    "     Multivariable Calculus  <br/>\n",
    "   <small>by Kindyl King and Mireille Boutin</small>\n",
    "</center></h1>\n",
    "    </div>"
   ]
  },
  {
   "cell_type": "markdown",
   "metadata": {},
   "source": [
    "<h1><center>\n",
    "    Laboratory on<br/>\n",
    "    Green's Theorem<br/>\n",
    "    <p style=\"font-size: 16px\"> Last Updated on May 1, 2022</p>\n",
    "</center></h1>"
   ]
  },
  {
   "cell_type": "markdown",
   "metadata": {},
   "source": [
    "<h2 style=\"color:orange;\"><left>00. Content </left></h2>\n",
    "\n",
    "### Mathematics ###\n",
    "- Fundamental Theorem of Calculus\n",
    "- Fundamental Theorem for Line Integrals\n",
    "- Green's Theorem\n",
    "- Partial Derivatives\n",
    "- Vector Fields\n",
    "- Path Integrals\n",
    "- Double Integration\n",
    "    \n",
    "### Programming Skills ###\n",
    "- \n",
    "    \n",
    "### Embedded Systems ###\n",
    "- Thonny and MicroPython\n",
    "\n",
    "<h2 style=\"color:orange;\"><left>0. Required Hardware </left></h2> \n",
    "\n",
    "- microcontroller: Raspberry Pi Pico\n",
    "- breadboard\n",
    "- USB connector\n",
    "- rotary encoder\n",
    "- rolling platform\n",
    "- fixed or adjustable arm\n",
    "- tracer (like a pencil or pen)\n"
   ]
  },
  {
   "cell_type": "markdown",
   "metadata": {},
   "source": [
    "### <span style=\"background-color:lightblue\"> Fill in information below: </span>\n",
    "__Name:__ me\n",
    "\n",
    "__Email:__ me @ purdue.edu"
   ]
  },
  {
   "cell_type": "markdown",
   "metadata": {},
   "source": [
    "## Green's Theorem\n",
    "\n",
    "Recall the Fundamental Theorem of Calculus. If the function $f(x)$ is continuous on the closed interval $[a,b]$ and $F'(x)=f(x)$, i.e., $F$ is an antiderivative of $f$, then\n",
    "$$ \\int_a^b f(x)dx = F(b)-F(a). $$\n",
    "\n",
    "We also have seen the Fundamental Theorem for Line Integrals. Suppose the smooth curve $C$ is parameterized by $\\mathbf{r}(t), a \\leq t \\leq b$ and $f$ is differentiable with gradient $\\nabla f$. Then,\n",
    "$$ \\int_C \\nabla f(\\mathbf{r}) \\cdot d\\mathbf{r} = \\int_a^b \\nabla f(\\mathbf{r}(t)) \\cdot \\mathbf{r}'(t) dt = f(\\mathbf{r}(b)) - f(\\mathbf{r}(a)). $$\n",
    "\n",
    "Green's Theorem is an extension of the Fundamental Theorem of Calculus to two dimensions. In a general sense, the theorem relates line integrals to double integrals, and more specifically, Green's theorem tells us that we can calculate a double integral over a region using only information on the boundary of that region. Suppose the region $D$ is bounded by a simple, smooth, closed curve $C$ which is parameterized in a counter-clockwise direction. If the two-dimensional vector field $\\mathbf{F}(x,y)=\\langle P(x,y),Q(x,y)\\rangle$ is such that $P$ and $Q$ have continous partial derivatives on $D$, then\n",
    "$$\\oint_C \\mathbf{F} \\cdot dr = \\oint_C Pdx+Qdy = \\iint_D (Q_x-P_y)dA, $$\n",
    "where $Q_x = \\frac{\\partial Q}{\\partial x}$ and $P_y = \\frac{\\partial P}{\\partial y}$."
   ]
  },
  {
   "cell_type": "markdown",
   "metadata": {},
   "source": [
    "## Planimeters\n",
    "\n",
    "One really neat application of Green's Theorem is that we can calculate the area of a region simply by measuring the boundary. A planimeter is an instrument that does exactly this! The first planimeters were invented as early as 1814 due to a need to calculate land area. In the late 19th century, planimeters became more popular, different internal mechanisms were developed, and even specialty planimeters emerged to calculate things like engine horse-power. More modern uses include finding leaf area in botany and measuring the area of cross-sectional regions from MRI images. All planimeters have a tracer point, a pivot point, and a measuring wheel or mechanism that measures rotation. Here are some examples.\n",
    "<p align=\"center\">\n",
    "    <img src=\"polar_planimeter.jpg\">\n",
    "    <img src=\"rolling_planimeter.jpg\">\n",
    "    <img src=\"modern_planimeter.jpg\">\n",
    "</p>\n",
    "\n",
    "The left image is of a polar planimeter. It has two arms and is fixed at one end while the arm with the tracer point is able to move in a circular region around the fixed point. The center image is of a rolling planimeter. This kind of planimeter is able to move freely on a linear path. The right image is of a modern rolling planimeter that is still being produced. \n",
    "\n",
    "Watch this 18 second [animation](https://www.youtube.com/watch?v=qThV6gTaYMI) of a rolling planimeter. Notice that the gray roller only moves forward and backward on a fixed path, and the yellow arm pivots at the point $B$. As the arm pivots, the marked wheel at the back rotates and skids as the tracer point at $A$ follows the red curve. As the tracer follows the curve the marked wheel will rotate some amount. We will prove that the area of the region is length of the tracer arm (the length from $A$ to $B$) multiplied by the total rolling distance of the wheel after the tracer completely follows the curve counter-clockwise."
   ]
  },
  {
   "cell_type": "markdown",
   "metadata": {},
   "source": [
    "## Why Do Rolling Planimeters Work?\n",
    "\n",
    "Later in the lab, we are going to build a rolling planimeter, so let's first understand why these instruments work. To calculate area in two dimensions \n",
    "$$ \\text{area of region $D$} = \\iint_D 1 \\,dA.$$\n",
    "\n",
    "Remember in Green's Theorem, $\\mathbf{F}(x,y)=\\langle P(x,y),Q(x,y)\\rangle$ and\n",
    "$$\\oint_C \\mathbf{F} \\cdot dr = \\oint_C Pdx+Qdy = \\iint_D (Q_x-P_y)dA. $$\n",
    "\n",
    "So to calculate area, we need a function $\\mathbf{F}(x,y)$ such that $Q_x-P_y = 1$. \n",
    "\n",
    "If $\\mathbf{F}(x,y)=\\langle 0,x \\rangle$, then \n",
    "$$ Q_x-P_y = \\frac{\\partial}{\\partial x}(x) - \\frac{\\partial}{\\partial y}(0) = 1-0 = 1.$$\n",
    "This leads us to an important result:\n",
    "$$ \\text{area of region $D$} = \\iint_D 1 \\,dA = \\oint_C Pdx+Qdy = \\oint_C xdy.$$"
   ]
  },
  {
   "cell_type": "markdown",
   "metadata": {},
   "source": [
    "### <span style=\"color:red\">Exercise</span>\n",
    "In the our proof, we specifically chose $P(x,y)=0$ and $Q(x,y)=x$, but there are infintely many pairs of $P(x,y)$ and $Q(x,y)$ with the property that $Q_x-P_y = 1$.\n",
    "Edit this cell to fill in three different pairs of functions $P$ and $Q$ such that $Q_x-P_y = 1$.\n",
    "\n",
    "### <span style=\"background-color:lightblue\">Answer</span>\n",
    "1. $P(x,y) = $, $Q(x,y) = $\n",
    "2. $P(x,y) = $, $Q(x,y) = $\n",
    "3. $P(x,y) = $, $Q(x,y) = $\n",
    "\n",
    "\n"
   ]
  },
  {
   "cell_type": "markdown",
   "metadata": {},
   "source": [
    "We write points on the curve $C$ as ordered pairs $(x,y)$. In the diagram below (from [here](https://openstax.org/books/calculus-volume-3/pages/6-4-greens-theorem)),\n",
    "the pivot point is at $(0,Y)$ so the roller moves up and down the $y$-axis. The tracer arm is length $L$ and the distance from the wheel to the pivot is $l$.\n",
    "<p align=\"center\">\n",
    "    <img height=400 src=\"derivation.jpg\">\n",
    "</p>"
   ]
  },
  {
   "cell_type": "markdown",
   "metadata": {},
   "source": [
    "Say we move a very small distance counter-clockwise along the curve $C$ from the point $(x,y)$ to $(x+dx,y+dy)$. Then, the pivot point will move from $(0,Y)$ to $(0,Y+dY)$. We want to know how much the measuring wheel turns as a result of this small motion. If we first move the roller forward without moving the tracer arm, then the tracer moves from $(x,y)$ to $(x,y+dY)$. Next, we move the tracer arm by $d \\theta$ without moving the roller. Now we are at the point $(x+dx,y+dy).$ The wheel only rolls with motion that is perpendicular to the tracer arm. The distance the wheel rolls is \n",
    "$\\begin{align*}\n",
    "    \\text{total wheel roll} &= \\text{wheel roll from translation} + \\text{wheel roll from rotation}\\\\\n",
    "    &= \\text{distance between the parallel lines} + \\frac{d\\theta}{2\\pi}\\cdot 2l\\pi \\\\\n",
    "    &= \\sin(\\phi)dY + ld\\theta \\\\\n",
    "    &= \\frac{x}{L}dY + ld\\theta.\n",
    "\\end{align*}$\n",
    "\n",
    "If we integrate over $C$ the total wheel roll, then\n",
    "$$ \\oint_C \\frac{x}{L}dY + \\oint_C l\\,d\\theta = \\frac{1}{L} \\oint_C x\\,dY + l\\oint_C d\\theta = \\frac{1}{L} \\oint_C x\\,dY. $$"
   ]
  },
  {
   "cell_type": "markdown",
   "metadata": {},
   "source": [
    "### <span style=\"color:red\">Exercise</span>\n",
    "Explain why $$\\oint_C d\\theta = 0.$$\n",
    "### <span style=\"background-color:lightblue\">Answer</span>"
   ]
  },
  {
   "cell_type": "markdown",
   "metadata": {},
   "source": [
    "*student answer here*"
   ]
  },
  {
   "cell_type": "markdown",
   "metadata": {},
   "source": [
    "We are almost there. We only need to relate $\\frac{1}{L} \\oint_C x\\,dY$ to the area of $D$, which we found to be $\\oint_C xdy$.\n",
    "From the diagram, imagine the right triangle formed by the vertices $(0,Y),(x,y)$, and $(0,y)$.\n",
    "By the Pythagorean theorem, $$ x^2 + (y-Y)^2 = L^2. $$\n",
    "From the mechanical design of a rolling planimeter, the tracer arm never passes behind the roller, so $y \\geq Y$ for every point $(x,y)$ on $C$.\n",
    "That is, $Y$ is unique given $(x,y)$.\n",
    "Differentiating both sides of $x^2 + (y-Y)^2 = L^2$, we get\n",
    "$\\begin{align*}\n",
    "    2x dx + 2(y-Y)(dy-dY) &= 0 \\\\\n",
    "    x dx + (y-Y)(dy-dY) &= 0 \\\\\n",
    "    dy-dY &= -\\frac{x}{y-Y}dx \\\\\n",
    "    dY &= dy + \\frac{x}{y-Y}dx \\\\\n",
    "    dY &= dy + \\frac{x}{\\sqrt{L^2-x^2}}dx\n",
    "\\end{align*}$\n",
    "\n",
    "Now, the total amount the wheel rolls is \n",
    "$$ \\frac{1}{L} \\oint_C x\\,dY = \\frac{1}{L} \\oint_C x\\,dy + \\frac{1}{L} \\oint_C \\frac{x^2}{\\sqrt{L^2-x^2}}dx. $$"
   ]
  },
  {
   "cell_type": "markdown",
   "metadata": {},
   "source": [
    "### <span style=\"color:red\">Exercise</span>\n",
    "Explain why $$ \\oint_C \\frac{x^2}{\\sqrt{L^2-x^2}}dx = 0.$$ (Hint: use Green's Theorem)\n",
    "### <span style=\"background-color:lightblue\">Answer</span>"
   ]
  },
  {
   "cell_type": "markdown",
   "metadata": {},
   "source": [
    "*student answer here*"
   ]
  },
  {
   "cell_type": "markdown",
   "metadata": {},
   "source": [
    "### <span style=\"color:red\">Exercise</span>\n",
    "Show that the area of $D$ is $L$ times the total wheel roll after tracing the curve $C$ counter-clockwise.\n",
    "### <span style=\"background-color:lightblue\">Answer</span>"
   ]
  },
  {
   "cell_type": "markdown",
   "metadata": {},
   "source": [
    "*student answer here*"
   ]
  },
  {
   "cell_type": "markdown",
   "metadata": {},
   "source": [
    "Great job! One pretty remarkable fact is that at the end, the wheel placement - the length $l$ - didn't matter at all! Now we know exactly how a rolling planimeter works. The derivation for how polar planimeters calculate area is very similar. The big difference is that the integration is done in polar coordinates instead of Cartesian coordinates."
   ]
  },
  {
   "cell_type": "markdown",
   "metadata": {},
   "source": [
    "## Building a Planimeter"
   ]
  },
  {
   "cell_type": "markdown",
   "metadata": {},
   "source": [
    "- find some sort of rolling platform to put the breadboard on\n",
    "- 2 types of rotary encoders in the lab"
   ]
  },
  {
   "cell_type": "markdown",
   "metadata": {},
   "source": [
    "### <span style=\"color:red\">Exercise</span>\n",
    "To test out your planimeter, measure some well known shapes like circles, rectangles, etc.\n",
    "Describe how close your estimates are to the exact area. \n",
    "### <span style=\"background-color:lightblue\">Answer</span>"
   ]
  },
  {
   "cell_type": "markdown",
   "metadata": {},
   "source": [
    "*student answer here*"
   ]
  },
  {
   "cell_type": "markdown",
   "metadata": {},
   "source": [
    "\n",
    "### <span style=\"color:red\">Exercise</span>\n",
    "Print out a map to calculate area of Indiana or some other state/country with a well known land area. Use your planimeter to measure the area. How close are your calculations? Keep in mind the scale of the map you print. \n",
    "\n",
    "### <span style=\"background-color:lightblue\">Answer</span>"
   ]
  },
  {
   "cell_type": "markdown",
   "metadata": {},
   "source": []
  },
  {
   "cell_type": "markdown",
   "metadata": {},
   "source": [
    "## <span style=\"color:green\">Reflection</span>\n",
    "\n",
    "__1. What parts of the lab, if any, do you feel you did well? <br>\n",
    "2. What are some things you learned today? <br>\n",
    "3. Are there any topics that could use more clarification? <br>\n",
    "4. Do you have any suggestions on parts of the lab to improve?__\n",
    "\n",
    "### <span style=\"background-color:lightblue\">Answer</span>"
   ]
  },
  {
   "cell_type": "markdown",
   "metadata": {},
   "source": [
    "*student answer here*"
   ]
  }
 ],
 "metadata": {
  "interpreter": {
   "hash": "f50c01e64c69964172779a86ea4c7131ebc214404e389984b9c2b9b905851c43"
  },
  "kernelspec": {
   "display_name": "Python 3.10.1 ('science')",
   "language": "python",
   "name": "python3"
  },
  "language_info": {
   "codemirror_mode": {
    "name": "ipython",
    "version": 3
   },
   "file_extension": ".py",
   "mimetype": "text/x-python",
   "name": "python",
   "nbconvert_exporter": "python",
   "pygments_lexer": "ipython3",
   "version": "3.10.1"
  }
 },
 "nbformat": 4,
 "nbformat_minor": 2
}