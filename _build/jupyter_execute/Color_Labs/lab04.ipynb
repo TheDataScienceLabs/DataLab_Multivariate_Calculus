{
 "cells": [
  {
   "cell_type": "markdown",
   "metadata": {},
   "source": [
    "<div style=\"background-color:lightblue\">\n",
    "<h1><center>\n",
    "    The Data Science Labs on <br/>\n",
    "     Multivariable Calculus  <br/>\n",
    "   <small>by Kindyl King and Mireille Boutin</small>\n",
    "</center></h1>\n",
    "    </div>"
   ]
  },
  {
   "cell_type": "markdown",
   "metadata": {},
   "source": [
    "<h1><center>\n",
    "    Laboratory 4:<br/>\n",
    "    Using an RGB Color Sensor <br/>\n",
    "    <p style=\"font-size: 16px\"> Last Updated on May 10, 2022</p>\n",
    "</center></h1>"
   ]
  },
  {
   "cell_type": "markdown",
   "metadata": {},
   "source": [
    "<h2 style=\"color:orange;\"><left> Content </left></h2>\n",
    "\n",
    "#### Mathematics ###\n",
    "- 3 dimensional vectors\n",
    "- distance\n",
    "\n",
    "### Programming Skills ###\n",
    "- modules\n",
    "\n",
    "### Embedded Systems ###\n",
    "- Thonny and MicroPython\n",
    "\n",
    "<h2 style=\"color:orange;\"><left> Required Hardware </left></h2> \n",
    "\n",
    "- Raspberry Pi Pico\n",
    "- RGB color sensor (TCS3472)\n",
    "- OLED display\n"
   ]
  },
  {
   "cell_type": "markdown",
   "metadata": {},
   "source": [
    "### <span style=\"background-color:lightblue\"> Fill in information below: </span>\n",
    "__Name:__ me\n",
    "\n",
    "__Email:__ me @ purdue.edu"
   ]
  },
  {
   "cell_type": "markdown",
   "metadata": {},
   "source": [
    "## RGB Color Sensors\n",
    "\n",
    "We've done a lot of theoretical work about color from learning about tristiulus vectors and metamers, but now let's investigate a use for the RGB color space. The TCS3472 sensor we will be using can detect color and returns an RGB value. The sensor contains an infrared (IR) blocking filter for increased accuracy. IR light is light that has wavelengths of 800-1000 nm; it is invisible to us since humans only percieve wavelengths in the 400-700 nm range. "
   ]
  },
  {
   "cell_type": "markdown",
   "metadata": {},
   "source": [
    "## Wiring Instructions\n",
    "\n",
    "Please make sure your microcontroller is not plugged to the computer while you are wiring things together. Ask the instructor if you are unsure about your wiring. \n",
    "\n",
    "| OLED | Pico |\n",
    "|------|------|\n",
    "| GND  | GND  |\n",
    "| VCC  | 3V3(OUT) |\n",
    "| SCL  | I2C0 SCL  or I2C1 SCL |\n",
    "| SDA  | I2C0 SDA  or I2C1 SDA |\n",
    " \n",
    "<br>\n",
    "\n",
    "| TCS34725 | Pico |\n",
    "|------|------|\n",
    "| GND  | GND  |\n",
    "| VIN  | 3V3(OUT) |\n",
    "| SDA  | GP8 |\n",
    "| SCL  | GP9 |\n",
    "| LED  | GP15 | <\\span>"
   ]
  },
  {
   "cell_type": "markdown",
   "metadata": {},
   "source": [
    "### <span style=\"color:red\">Exercise</span>\n",
    "\n",
    "It's long been debated whether different color M&Ms taste different [[1]](https://www.mashed.com/748770/the-absolute-best-desserts-in-the-us/). Let's say you have a friend who is color blind who wants to test this theory themselves, but it's a challenge to sort red from green from brown M&Ms. To solve this critial problem, your goal is to create an M&M sorter using your Pico and the TCS3472 color sensor. Connect the color sensor and an OLED display to your Pico. When you hold up an M&M to the sensor, the screen should display the name of the color of the M&M.\n",
    "\n",
    "\n",
    "__*Hint 1:*__ See example.py in the folder called color_sensor for how to use the sensor. Make sure tcs34725.py is stored on the Pico before you run the example file.\n",
    "\n",
    "__*Hint 2:*__ It may be helpful to use the distance between the RGB vector output and \"target\" colors to detect red, blue, etc. \n",
    "\n",
    "Describe in a few sentences how well your M&M sorter works. Display all code you wrote either by copying and pasting or reading in and printing python file contents. \n",
    "\n",
    "### <span style=\"background-color:lightblue\">Answer</span>"
   ]
  },
  {
   "cell_type": "code",
   "execution_count": 1,
   "metadata": {
    "vscode": {
     "languageId": "plaintext"
    }
   },
   "outputs": [],
   "source": [
    "# add code"
   ]
  },
  {
   "cell_type": "markdown",
   "metadata": {},
   "source": [
    "__"
   ]
  },
  {
   "cell_type": "markdown",
   "metadata": {},
   "source": [
    "## <span style=\"color:green\">Reflection</span>\n",
    "\n",
    "__1. What parts of the lab, if any, do you feel you did well? <br>\n",
    "2. What are some things you learned today? <br>\n",
    "3. Are there any topics that could use more clarification? <br>\n",
    "4. Do you have any suggestions on parts of the lab to improve?__\n",
    "\n",
    "### <span style=\"background-color:lightblue\">Answer</span>"
   ]
  }
 ],
 "metadata": {
  "language_info": {
   "codemirror_mode": {
    "name": "ipython",
    "version": 3
   },
   "file_extension": ".py",
   "mimetype": "text/x-python",
   "name": "python",
   "nbconvert_exporter": "python",
   "pygments_lexer": "ipython3",
   "version": "3.6.13"
  }
 },
 "nbformat": 4,
 "nbformat_minor": 2
}