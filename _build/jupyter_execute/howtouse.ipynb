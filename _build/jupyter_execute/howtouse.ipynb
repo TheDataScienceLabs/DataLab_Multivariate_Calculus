{
 "cells": [
  {
   "cell_type": "markdown",
   "metadata": {},
   "source": [
    "# Instructions\n",
    "\n",
    "You are reading an interactive textbook. Throughout the text, you will see exercises and will be able to write your answers directly in this book. To add a new code or text cell, hover your cursor at the bottom of the cell or look in the top menu bar for a \"+ Code\" button and a \"+ Markdown\" or \"+ Text\" button.\n",
    "\n",
    "There will be grayed out boxes with Python code in them. Like the one below. If you are reading this using JupyterLab, then in order to run the code cell, all you need to do is hold the \"shift\" key while pressing the \"enter\" key `(shift-enter)` on the keyboard.\n",
    "\n",
    "If you are reading the HTML version of this book, then click on the rocket ship symbol in the top right of the screen and go to Colab. You'll need a Google account to run code with Colab. You can use the same `(shift-enter)` command to run cells in Colab. "
   ]
  },
  {
   "cell_type": "code",
   "execution_count": null,
   "metadata": {},
   "outputs": [],
   "source": [
    "2 + 6"
   ]
  },
  {
   "cell_type": "markdown",
   "metadata": {},
   "source": [
    "# Laboratory Ethics\n",
    "\n",
    "\"I pledge to behave ethically and with honesty in this course. I may discuss approaches for a solution with others, but my submitted lab report will be my own work, including all\n",
    "code. I will not make my finished reports available to other students, even after the semester is over. In particular, I will not post my labs on the Internet or make my files available to other people. I will not be a cheater.\""
   ]
  }
 ],
 "metadata": {
  "interpreter": {
   "hash": "fa0fefcd120d62982ee3395b5ca919d92e465bf93e00c0004556a2b36edd7838"
  },
  "kernelspec": {
   "display_name": "Python 3.6.13 ('py36')",
   "language": "python",
   "name": "python3"
  },
  "language_info": {
   "name": "python",
   "version": "3.6.13"
  }
 },
 "nbformat": 4,
 "nbformat_minor": 2
}