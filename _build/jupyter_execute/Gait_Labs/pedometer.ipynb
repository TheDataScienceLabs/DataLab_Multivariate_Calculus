{
 "cells": [
  {
   "cell_type": "markdown",
   "metadata": {},
   "source": [
    "<div style=\"background-color:lightblue\">\n",
    "<h1><center>\n",
    "    The Data Science Labs on <br/>\n",
    "     Multivariable Calculus  <br/>\n",
    "   <small>by Kindyl King and Mireille Boutin</small>\n",
    "</center></h1>\n",
    "    </div>"
   ]
  },
  {
   "cell_type": "markdown",
   "metadata": {},
   "source": [
    "<h1><center>\n",
    "    Laboratory on<br/>\n",
    "    Gait Detection<br/>\n",
    "    <p style=\"font-size: 16px\"> Last Updated on May , 2022</p>\n",
    "</center></h1>"
   ]
  },
  {
   "cell_type": "markdown",
   "metadata": {},
   "source": [
    "<h2 style=\"color:orange;\"><left> Content </left></h2>\n",
    "\n",
    "### Mathematics ###\n",
    "- 3 dimensional vectors\n",
    "    \n",
    "### Programming Skills ###\n",
    "- modules\n",
    "    \n",
    "### Embedded Systems ###\n",
    "- Thonny and MicroPython\n",
    "\n",
    "<h2 style=\"color:orange;\"><left> Required Hardware </left></h2> \n",
    "\n",
    "- microcontroller: Raspberry Pi Pico\n",
    "- breadboard\n",
    "- USB connector\n",
    "- LSM9DS0 accelerometer\n",
    "- OLED display\n",
    "- TL1105 tactile switch\n",
    "- 9-volt battery\n",
    "- 7805 voltage regulator\n"
   ]
  },
  {
   "cell_type": "markdown",
   "metadata": {},
   "source": [
    "### <span style=\"background-color:lightblue\"> Fill in information below: </span>\n",
    "__Name:__ me\n",
    "\n",
    "__Email:__ me @ purdue.edu"
   ]
  },
  {
   "cell_type": "markdown",
   "metadata": {},
   "source": [
    "## Storing Data\n",
    "\n",
    "The Pico has 2MB onboard memory or flash storage, so we can save some small files of sensor data directly on the Pico. \n",
    "\n",
    "Take a look at the file `temperature.py`, which records the Pico's internal temperature in degrees Celcius and writes these temperature values to the file `temp.txt`.  Using Thonny, run `temperature.py` on your Pico. After the script is done running, move the `temp.txt` file that is stored on the Pico into the folder you are currently working in, delete `temp.txt` from the Pico's storage, and then execute the following cell."
   ]
  },
  {
   "cell_type": "code",
   "execution_count": null,
   "metadata": {},
   "outputs": [],
   "source": [
    "import numpy as np\n",
    "import matplotlib.pyplot as plt\n",
    "\n",
    "t = np.loadtxt('temp.txt')\n",
    "plt.plot(t)\n",
    "plt.show()"
   ]
  },
  {
   "cell_type": "markdown",
   "metadata": {},
   "source": [
    "### <span style=\"color:red\">Exercise</span>\n",
    "Plot the values from `temp.txt` so that the x-axis is the time of each measurement and the y-axis is degrees Fahrenheit. Include appropriate x-axis and y-axis labels. \n",
    "### <span style=\"background-color:lightblue\">Answer</span>"
   ]
  },
  {
   "cell_type": "code",
   "execution_count": null,
   "metadata": {},
   "outputs": [],
   "source": [
    "# answer here"
   ]
  },
  {
   "cell_type": "markdown",
   "metadata": {},
   "source": [
    "## The Components\n",
    "\n",
    "- the button\n",
    "- the screen\n",
    "- the accelerometer\n",
    "- the battery & voltage regulator\n",
    "\n",
    "__TODO:__ add instructions from calc 2 labs on how to connect everything"
   ]
  },
  {
   "cell_type": "markdown",
   "metadata": {},
   "source": [
    "## Gait Detection\n",
    "\n",
    "Gait is a person's pattern of walking. Most wearable activity monitors like the FitBit or Apple Watch contain an internal accelerometer to track movement and estimate the user's number of steps. In today's lab, our goal is to build a pedometer in a similar way.\n",
    "\n",
    "### <span style=\"color:red\">Exercise</span>\n",
    "For this exercise you will only need the accelerometer hooked up to the Pico connected to your computer with the USB connector.\n",
    "1) Take 10 'fake' steps while holding the breadboard with everything secured in your hand, swinging your arms as naturally as possible.\n",
    "1) Store the $x,y,$ and $z$ components of acceleration to a .txt file named `teststeps.txt`.\n",
    "1) Plot the $x,y,$ and $z$ components of acceleration with detailed titles and axis labels.\n",
    "\n",
    "### <span style=\"background-color:lightblue\">Answer</span>"
   ]
  },
  {
   "cell_type": "code",
   "execution_count": null,
   "metadata": {},
   "outputs": [],
   "source": [
    "# answer here"
   ]
  },
  {
   "cell_type": "code",
   "execution_count": null,
   "metadata": {},
   "outputs": [],
   "source": [
    "# solution\n",
    "data = np.loadtxt('teststeps.txt', skiprows=50 )\n",
    "\n",
    "plt.plot(data[:,0], label='ax(t)')\n",
    "plt.plot(data[:,1], label='ay(t)')\n",
    "plt.plot(data[:,2], label='az(t)')\n",
    "plt.legend()\n",
    "plt.show()\n",
    "\n",
    "plt.plot(data)\n",
    "plt.legend(['ax(t)','ay(t)','az(t)'])\n",
    "plt.show()"
   ]
  },
  {
   "cell_type": "markdown",
   "metadata": {},
   "source": [
    "In order to detect when a step has occured, we will look at the magnitude of the acceleration vector $\\langle a_x,a_y,a_z \\rangle$, where $a_x,a_y,$ and $a_z$ are the $x,y$ and $z$ components of acceleration respectively.\n",
    "\n",
    "### <span style=\"color:red\">Exercise</span>\n",
    "Using the data you collected in `teststeps.txt`, plot the magnitute of the acceleration vector vs time. Make sure your graph has appropriate labels.\n",
    "### <span style=\"background-color:lightblue\">Answer</span>"
   ]
  },
  {
   "cell_type": "code",
   "execution_count": null,
   "metadata": {},
   "outputs": [],
   "source": [
    "# student answer here"
   ]
  },
  {
   "cell_type": "code",
   "execution_count": null,
   "metadata": {},
   "outputs": [],
   "source": [
    "# solution\n",
    "plt.plot(np.linalg.norm(data, axis=1))\n",
    "plt.show()"
   ]
  },
  {
   "cell_type": "markdown",
   "metadata": {},
   "source": [
    "### <span style=\"color:red\">Exercise</span>\n",
    "The class `Averager` allows us to reduce error by averaging across multiple acceleration measurements.\n",
    "How does the length of the averager affect the graph of the magnitude of the acceleration vectors?\n",
    "### <span style=\"background-color:lightblue\">Answer</span>"
   ]
  },
  {
   "cell_type": "markdown",
   "metadata": {},
   "source": [
    "*student answer here*"
   ]
  },
  {
   "cell_type": "markdown",
   "metadata": {},
   "source": [
    "## Make a Pedometer\n",
    "\n",
    "### <span style=\"color:red\">Exercise</span>\n",
    "\n",
    "Let's combine all the components into a useful tool. Make a pedometer with the following features:\n",
    "\n",
    "- display the number of steps taken\n",
    "- have a \"reset\" button which starts the step counting back at 0 on the display\n",
    "- it should run on battery power alone\n",
    "\n",
    "Include a description of your pedometer.\n",
    "\n",
    "### <span style=\"background-color:lightblue\">Answer</span>"
   ]
  },
  {
   "cell_type": "markdown",
   "metadata": {},
   "source": [
    "*student answer here*"
   ]
  },
  {
   "cell_type": "markdown",
   "metadata": {},
   "source": [
    "```python\n",
    "# copy and paste your code here\n",
    "```"
   ]
  },
  {
   "cell_type": "markdown",
   "metadata": {},
   "source": [
    "## <span style=\"color:green\">Reflection</span>\n",
    "\n",
    "__1. What parts of the lab, if any, do you feel you did well? <br>\n",
    "2. What are some things you learned today? <br>\n",
    "3. Are there any topics that could use more clarification? <br>\n",
    "4. Do you have any suggestions on parts of the lab to improve?__\n",
    "\n",
    "### <span style=\"background-color:lightblue\">Answer</span>"
   ]
  },
  {
   "cell_type": "markdown",
   "metadata": {},
   "source": [
    "*student answer here*"
   ]
  }
 ],
 "metadata": {
  "interpreter": {
   "hash": "f50c01e64c69964172779a86ea4c7131ebc214404e389984b9c2b9b905851c43"
  },
  "kernelspec": {
   "display_name": "Python 3.10.1 ('science')",
   "language": "python",
   "name": "python3"
  },
  "language_info": {
   "codemirror_mode": {
    "name": "ipython",
    "version": 3
   },
   "file_extension": ".py",
   "mimetype": "text/x-python",
   "name": "python",
   "nbconvert_exporter": "python",
   "pygments_lexer": "ipython3",
   "version": "3.8.5"
  }
 },
 "nbformat": 4,
 "nbformat_minor": 2
}