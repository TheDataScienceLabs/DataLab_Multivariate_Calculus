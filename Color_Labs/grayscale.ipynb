{
 "cells": [
  {
   "cell_type": "markdown",
   "id": "2362e2a6-9ccf-47ec-a509-04e01755a432",
   "metadata": {},
   "source": [
    "## <span style=\"color:orange;\"> Grayscale/Desaturation </span>"
   ]
  },
  {
   "cell_type": "markdown",
   "id": "61889109-407d-45cc-8565-7a04f40493d4",
   "metadata": {},
   "source": [
    "\"Grayscaling\" an image, also called desaturation, is when all the color in the image is transformed to appear as a shade of gray without apparent color. Specifically, these shades represent the intensity information of the light. This can be done for a variety of reasons, from taking up less storage space to aesthetics.\n",
    "\n",
    "When coding this transformation, there are a multitude of different methods that can be used, many of which involve calculus principles. However, some of the mathematics that may be assumed to work, do not produce accurate results."
   ]
  },
  {
   "cell_type": "code",
   "execution_count": 6,
   "id": "6bf74314-da14-4f8e-aec4-3806c540c1f7",
   "metadata": {},
   "outputs": [],
   "source": [
    "# Import necessary libraries \n",
    "import numpy as np\n",
    "import matplotlib.pyplot as plt\n",
    "from PIL import Image\n",
    "%matplotlib inline"
   ]
  },
  {
   "cell_type": "markdown",
   "id": "dd86738b-db1b-4595-8026-2a1bc4c6481e",
   "metadata": {},
   "source": [
    "### <span style=\"color:red\"> Exercise </span>\n",
    "\n",
    "As an example, take the magnitude of (R, G, B) of an image and see what the result is.\n",
    "\n",
    "<h3 style=\"background-color:lightblue\"> Write Answers for Exercise  Below </h3>"
   ]
  },
  {
   "cell_type": "code",
   "execution_count": 11,
   "id": "966371f7-0281-4108-9e56-b08fb51d9793",
   "metadata": {},
   "outputs": [
    {
     "ename": "ValueError",
     "evalue": "shapes (750,1000,3) and (750,1000,3) not aligned: 3 (dim 2) != 1000 (dim 1)",
     "output_type": "error",
     "traceback": [
      "\u001b[0;31m---------------------------------------------------------------------------\u001b[0m",
      "\u001b[0;31mValueError\u001b[0m                                Traceback (most recent call last)",
      "Input \u001b[0;32mIn [11]\u001b[0m, in \u001b[0;36m<cell line: 7>\u001b[0;34m()\u001b[0m\n\u001b[1;32m      4\u001b[0m     \u001b[38;5;28;01mreturn\u001b[39;00m np\u001b[38;5;241m.\u001b[39mdot(img, np\u001b[38;5;241m.\u001b[39msqrt(img))\n\u001b[1;32m      6\u001b[0m img \u001b[38;5;241m=\u001b[39m Image\u001b[38;5;241m.\u001b[39mopen(\u001b[38;5;124m'\u001b[39m\u001b[38;5;124mtest.jpeg\u001b[39m\u001b[38;5;124m'\u001b[39m)\n\u001b[0;32m----> 7\u001b[0m new \u001b[38;5;241m=\u001b[39m \u001b[43mmagnitudemethod\u001b[49m\u001b[43m(\u001b[49m\u001b[43mimg\u001b[49m\u001b[43m)\u001b[49m\n\u001b[1;32m      9\u001b[0m fig, ax \u001b[38;5;241m=\u001b[39m plt\u001b[38;5;241m.\u001b[39msubplots(nrows\u001b[38;5;241m=\u001b[39m\u001b[38;5;241m1\u001b[39m, ncols\u001b[38;5;241m=\u001b[39m\u001b[38;5;241m2\u001b[39m, figsize\u001b[38;5;241m=\u001b[39m(\u001b[38;5;241m12\u001b[39m, \u001b[38;5;241m6\u001b[39m))\n\u001b[1;32m     10\u001b[0m ax[\u001b[38;5;241m0\u001b[39m]\u001b[38;5;241m.\u001b[39mimshow(np\u001b[38;5;241m.\u001b[39marray(img))\n",
      "Input \u001b[0;32mIn [11]\u001b[0m, in \u001b[0;36mmagnitudemethod\u001b[0;34m(img)\u001b[0m\n\u001b[1;32m      2\u001b[0m img \u001b[38;5;241m=\u001b[39m np\u001b[38;5;241m.\u001b[39marray(img)\n\u001b[1;32m      3\u001b[0m mag \u001b[38;5;241m=\u001b[39m np\u001b[38;5;241m.\u001b[39msqrt(img)\n\u001b[0;32m----> 4\u001b[0m \u001b[38;5;28;01mreturn\u001b[39;00m \u001b[43mnp\u001b[49m\u001b[38;5;241;43m.\u001b[39;49m\u001b[43mdot\u001b[49m\u001b[43m(\u001b[49m\u001b[43mimg\u001b[49m\u001b[43m,\u001b[49m\u001b[43m \u001b[49m\u001b[43mnp\u001b[49m\u001b[38;5;241;43m.\u001b[39;49m\u001b[43msqrt\u001b[49m\u001b[43m(\u001b[49m\u001b[43mimg\u001b[49m\u001b[43m)\u001b[49m\u001b[43m)\u001b[49m\n",
      "File \u001b[0;32m<__array_function__ internals>:180\u001b[0m, in \u001b[0;36mdot\u001b[0;34m(*args, **kwargs)\u001b[0m\n",
      "\u001b[0;31mValueError\u001b[0m: shapes (750,1000,3) and (750,1000,3) not aligned: 3 (dim 2) != 1000 (dim 1)"
     ]
    }
   ],
   "source": [
    "def magnitudemethod(img):\n",
    "    img = np.array(img)\n",
    "    mag = np.sqrt(img)\n",
    "    return np.dot(img, np.sqrt(img))\n",
    "\n",
    "img = Image.open('test.jpeg')\n",
    "new = magnitudemethod(img)\n",
    "\n",
    "fig, ax = plt.subplots(nrows=1, ncols=2, figsize=(12, 6))\n",
    "ax[0].imshow(np.array(img))\n",
    "ax[0].axis('off')   \n",
    "ax[1].imshow(np.array(new))\n",
    "ax[1].axis('off')            \n",
    "plt.show()"
   ]
  },
  {
   "cell_type": "code",
   "execution_count": null,
   "id": "7dcc1920-d5ce-41a8-a6e9-eb93e01c923c",
   "metadata": {},
   "outputs": [],
   "source": [
    "def rgb2gray(img):\n",
    "    img = np.array(img)\n",
    "    return np.dot(img, [0.2989, 0.5870, 0.1140])\n",
    "\n",
    "img = Image.open('test.jpeg')\n",
    "new = rgb2gray(img)\n",
    "\n",
    "fig, ax = plt.subplots(nrows=1, ncols=2, figsize=(12, 6))\n",
    "ax[0].imshow(np.array(img))\n",
    "ax[0].axis('off')   \n",
    "ax[1].imshow(np.array(new))\n",
    "ax[1].axis('off')            \n",
    "plt.show()"
   ]
  },
  {
   "cell_type": "code",
   "execution_count": null,
   "id": "bc0e668e-19db-4a98-948e-415ee4ebf2a2",
   "metadata": {},
   "outputs": [],
   "source": []
  }
 ],
 "metadata": {
  "kernelspec": {
   "display_name": "Python 3 (ipykernel)",
   "language": "python",
   "name": "python3"
  },
  "language_info": {
   "codemirror_mode": {
    "name": "ipython",
    "version": 3
   },
   "file_extension": ".py",
   "mimetype": "text/x-python",
   "name": "python",
   "nbconvert_exporter": "python",
   "pygments_lexer": "ipython3",
   "version": "3.10.4"
  }
 },
 "nbformat": 4,
 "nbformat_minor": 5
}
