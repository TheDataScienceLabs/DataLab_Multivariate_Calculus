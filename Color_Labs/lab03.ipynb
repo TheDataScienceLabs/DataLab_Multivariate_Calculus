{
 "cells": [
  {
   "cell_type": "markdown",
   "metadata": {},
   "source": [
    "# Week 4: Color Quantization\n",
    "\n",
    "<font size=\"6\"> Laboratory 3 </font> <br>\n",
    "<font size=\"3\"> Last updated June 16, 2022 </font>"
   ]
  },
  {
   "cell_type": "markdown",
   "metadata": {},
   "source": [
    "## <span style=\"color:orange;\"> 00. Content </span>\n",
    "\n",
    "<font size=\"5\"> Mathematics </font>\n",
    "- 3 dimensional vectors\n",
    "- Norm of vectors\n",
    "- 1D quantization\n",
    "- Euclidean distance\n",
    "- 3D transforms\n",
    "- Differential equations\n",
    "\n",
    "<font size=\"5\"> Programming Skills </font>\n",
    "- Multi-dimensional array manipulation\n",
    "- Functions\n",
    "\n",
    "<font size=\"5\"> Embedded Systems </font>\n",
    "- Thonny and MicroPython\n",
    "\n",
    "## <span style=\"color:orange;\"> 0. Required Hardware </span>\n",
    "- Microcontroller: Raspberry Pi Pico\n",
    "- Breadboard\n",
    "- USB connector\n",
    "- NeoPixels\n",
    "- Level shifter"
   ]
  },
  {
   "cell_type": "markdown",
   "metadata": {},
   "source": [
    "<h3 style=\"background-color:lightblue\"> Write your name and email below: </h3>\n",
    "\n",
    "**Name:** me \n",
    "\n",
    "**Email:** me @purdue.edu"
   ]
  },
  {
   "cell_type": "code",
   "execution_count": null,
   "metadata": {},
   "outputs": [],
   "source": [
    "import numpy as np\n",
    "import matplotlib.pyplot as plt"
   ]
  },
  {
   "cell_type": "markdown",
   "metadata": {},
   "source": [
    "## <span style=\"color:orange;\"> 1. Quantization </span>\n",
    "\n",
    "We mentioned before that we have $256 \\times 256 \\times 256 = 16,777,216$ colors to work with since there are 256 integers to choose from for a red, green, and blue channel value. This is one form of color quantization since there are infinitely many colors and we've reduced that down to about 16.7 million. In many applications, further quantization is necessary. Quantization is used for image compression by reducing the information of an image so that it requires less storage, and some devices like phones or printers only support a certain palette of colors. \n",
    "\n",
    "Let's start with converting an image to a grayscale image. A formula to convert an RGB vector to a grayscale value is $\n",
    "    0.2989 R + 0.5870 G + 0.1140 B $\n",
    "where $R$ is the red channel value, $G$ is the green channel value, and $B$ is the blue channel value."
   ]
  },
  {
   "cell_type": "code",
   "execution_count": null,
   "metadata": {},
   "outputs": [],
   "source": [
    "from PIL import Image\n",
    "%matplotlib inline\n",
    "\n",
    "img = Image.open('pictures/italy.jpg')\n",
    "gray_img = Image.open('pictures/gray_italy.jpg')\n",
    "\n",
    "fig, ax = plt.subplots(nrows=1, ncols=2, figsize=(12, 6))\n",
    "ax[0].imshow(np.array(img))\n",
    "ax[0].axis('off')            \n",
    "ax[1].imshow(np.array(gray_img), cmap='gray')\n",
    "ax[1].axis('off')\n",
    "plt.show()"
   ]
  },
  {
   "cell_type": "markdown",
   "metadata": {},
   "source": [
    "### <span style=\"color:red\"> Exercise </span>\n",
    "\n",
    "Write a function that returns the grayscale of an image.\n",
    "\n",
    "<h3 style=\"background-color:lightblue\"> Write Answers for Exercise  Below </h3>"
   ]
  },
  {
   "cell_type": "code",
   "execution_count": null,
   "metadata": {},
   "outputs": [],
   "source": []
  },
  {
   "cell_type": "markdown",
   "metadata": {},
   "source": [
    "### <span style=\"color:red\"> Exercise </span>\n",
    "\n",
    "What happens if we replace the RGB vector with the scaled norm of the vector? That means we need to calculate the norm of the vector $(R,G,B)$ and then divide by the maximum value the norm can be. Write a function that finds this new kind of 'grayscale' image. Display the result.\n",
    "\n",
    "<h3 style=\"background-color:lightblue\"> Write Answers for Exercise Below </h3>"
   ]
  },
  {
   "cell_type": "code",
   "execution_count": null,
   "metadata": {},
   "outputs": [],
   "source": []
  },
  {
   "cell_type": "markdown",
   "metadata": {},
   "source": [
    "Now, suppose we are only able to use 10 gray values instead of the usual 256. We can do this with a quantization algorithm.\n",
    "Uniform quantization is a simple type of quantization where the quantization levels are equally spaced. Here's how the uniform quantization function looks.\n"
   ]
  },
  {
   "cell_type": "code",
   "execution_count": null,
   "metadata": {},
   "outputs": [],
   "source": [
    "num_levels=10\n",
    "x = np.linspace(0,255,num_levels+1)\n",
    "y = np.linspace(0,255,num_levels)\n",
    "  \n",
    "plt.step(x, np.append(y,y[-1]), where='post')\n",
    "plt.xlabel('Grayscale Value')\n",
    "plt.ylabel('Quantized Value')\n",
    "plt.title('Uniform Quantization in 1D')\n",
    "plt.show()"
   ]
  },
  {
   "cell_type": "markdown",
   "metadata": {},
   "source": [
    "### <span style=\"color:red\"> Exercise </span>\n",
    "\n",
    "In your own words, explain how to read the graph above as if you were talking to a friend who has never learned about color science. \n",
    "\n",
    "<h3 style=\"background-color:lightblue\"> Write Answers for Exercise Below </h3>"
   ]
  },
  {
   "cell_type": "markdown",
   "metadata": {},
   "source": []
  },
  {
   "cell_type": "markdown",
   "metadata": {},
   "source": [
    "### <span style=\"color:red\"> Exercise </span>\n",
    "\n",
    "Write a function that converts an image to grayscale and then uniformly quantizes the gray image with $k$ levels. Show your results when $k=2,10,24,$ and $100$.\n",
    "\n",
    "<h3 style=\"background-color:lightblue\"> Write Answers for Exercise Below </h3>"
   ]
  },
  {
   "cell_type": "code",
   "execution_count": null,
   "metadata": {},
   "outputs": [],
   "source": []
  },
  {
   "cell_type": "markdown",
   "metadata": {},
   "source": [
    "We can also quantize color images. Let's define our own palette of colors and map each to pixel to 1 of 4 options based on Euclidean distance.\n",
    "The distance between the two colors $(R_1,G_1,B_1)$ and $(R_2,G_2,B_2)$ is $\n",
    "    d = \\sqrt{ (R_1-R_2)^2 + (G_1-G_2)^2 + (B_1-B_2)^2 }.$ \n",
    "    \n",
    "### <span style=\"color:red\"> Exercise </span>\n",
    "\n",
    "**Part 1** \n",
    "\n",
    "Choose your own palette of at least 4 colors and write a function that quantizes a color image to your palette based on the shortest Euclidean distance among the chosen colors.\n",
    "\n",
    "<h3 style=\"background-color:lightblue\"> Write Answers for Exercise Part 1 Below </h3>"
   ]
  },
  {
   "cell_type": "code",
   "execution_count": null,
   "metadata": {},
   "outputs": [],
   "source": []
  },
  {
   "cell_type": "markdown",
   "metadata": {},
   "source": [
    "**Part 2** \n",
    "\n",
    "Quantize your image again but this time based on the shortest Euclidean distance in a different color space, namely the CIE L\\*a\\*b\\* space. That is, transform the RGB vectors to L\\*a\\*b\\* vectors and then compute the distance between the two L\\*a\\*b\\* vectors. See the example below on how to convert from RGB to CIE L\\*a\\*b\\*.\n",
    "\n",
    "<h3 style=\"background-color:lightblue\"> Write Answers for Exercise Part 2 Below </h3>"
   ]
  },
  {
   "cell_type": "code",
   "execution_count": null,
   "metadata": {},
   "outputs": [],
   "source": []
  },
  {
   "cell_type": "markdown",
   "metadata": {},
   "source": [
    "**Part 3** \n",
    "\n",
    "Do you notice any differences in the two quantization methods? What if you add more or less colors to your palette?\n",
    "\n",
    "<h3 style=\"background-color:lightblue\"> Write Answers for Exercise Part 3 Below </h3>"
   ]
  },
  {
   "cell_type": "code",
   "execution_count": null,
   "metadata": {},
   "outputs": [],
   "source": []
  },
  {
   "cell_type": "markdown",
   "metadata": {},
   "source": [
    "There are methods for adaptive color quantization. Based on the image, the palette of colors changes. We won't explore them for now, but here's an example where the 'best' 15 colors are chosen"
   ]
  },
  {
   "cell_type": "code",
   "execution_count": null,
   "metadata": {},
   "outputs": [],
   "source": [
    "img = Image.open('pictures/italy.jpg')\n",
    "quant_img = img.quantize(colors=15)\n",
    "\n",
    "fig, ax = plt.subplots(nrows=1, ncols=2, figsize=(12, 6))\n",
    "ax[0].imshow(img)\n",
    "ax[0].axis('off')            \n",
    "ax[1].imshow(quant_img)\n",
    "ax[1].axis('off')\n",
    "plt.show()"
   ]
  },
  {
   "cell_type": "markdown",
   "metadata": {},
   "source": [
    "## <span style=\"color:orange;\"> 2. Gamma Correction </span>\n",
    "\n",
    "Consider the game of \"guess how many jellybeans (or other small objects) are in the jar\". This game would be very uninteresting if there were only 4 jellybeans in the jar. We would have a much harder time visually distinguishing between 140 and 141 jellybeans, but there is some threshold where, say, 180 jellybeans looks noticeably different from 140 jellybeans. If you've been in a psychology class, you may have heard of [Weber's Law](https://en.wikipedia.org/wiki/Weber%E2%80%93Fechner_law), which quantifies human perception in response to a stimulus like an increase in jellybeans. Weber's Law suggests that this threshold is proportional to the relative stimulus increment. In other words, if $dV$ is a just perceivable difference in the amount of jellybeans $J$, then for a constant $\\alpha$, $\n",
    "    dV = \\alpha \\frac{dJ}{J}.$\n",
    "Integrating both sides, we get $\n",
    "    V = \\alpha \\ln(J).$\n",
    "Weber's Law also applies to how we perceive light and color. The relationship we just derived suggests that we should quantize color levels logarithmically instead of uniformly so the levels are farther apart as the value increases. "
   ]
  },
  {
   "cell_type": "markdown",
   "metadata": {},
   "source": [
    "### <span style=\"color:red\"> Exercise </span>\n",
    "\n",
    "**Part 1**\n",
    "\n",
    "Write a script that displays Purdue Old Gold on the NeoPixels. Reference the first lab on color for how to wire up the NeoPixels.\n",
    "\n",
    "It doesn't look quite right. That's because according to Weber's Law we need to adjust the brightness levels for the NeoPixel to be logarithmic. This process is called *gamma correction*. The new gamma corrected RGB values are $\n",
    "    R_{new} = 255(R/255)^\\gamma, \\quad G_{new} = 255(G/255)^\\gamma, \\quad B_{new} = 255(B/255)^\\gamma.$\n",
    "Typically, $\\gamma=2.2$ for cameras and scanners. "
   ]
  },
  {
   "cell_type": "code",
   "execution_count": null,
   "metadata": {},
   "outputs": [],
   "source": [
    "# run this to display you answer for part 1\n",
    "print(open('part1_answer.py', 'r').read()) "
   ]
  },
  {
   "cell_type": "markdown",
   "metadata": {},
   "source": [
    "**Part 2**\n",
    "\n",
    "Write a function that gamma corrects an input of RGB values. What does Purdue gold look like now? Try different values for $1 \\leq \\gamma \\leq 10$. Report your findings. \n",
    "\n",
    "<h3 style=\"background-color:lightblue\"> Write Answers for Exercise Part 2 Below </h3>"
   ]
  },
  {
   "cell_type": "code",
   "execution_count": null,
   "metadata": {},
   "outputs": [],
   "source": []
  },
  {
   "cell_type": "markdown",
   "metadata": {},
   "source": [
    "## <span style=\"color:green\"> Reflection </span>\n",
    "\n",
    "__1. What parts of the lab, if any, do you feel you did well? <br>\n",
    "2. What are some things you learned today? <br>\n",
    "3. Are there any topics that could use more clarification? <br>\n",
    "4. Do you have any suggestions on parts of the lab to improve?__\n",
    "\n",
    "<h3 style=\"background-color:lightblue\"> Write Answers for the Reflection Below </h3>"
   ]
  },
  {
   "cell_type": "markdown",
   "metadata": {},
   "source": []
  }
 ],
 "metadata": {
  "kernelspec": {
   "display_name": "Python 3 (ipykernel)",
   "language": "python",
   "name": "python3"
  },
  "language_info": {
   "codemirror_mode": {
    "name": "ipython",
    "version": 3
   },
   "file_extension": ".py",
   "mimetype": "text/x-python",
   "name": "python",
   "nbconvert_exporter": "python",
   "pygments_lexer": "ipython3",
   "version": "3.10.4"
  },
  "vscode": {
   "interpreter": {
    "hash": "1e50b8cbafc0c2ddeea0b261b330ded4c07fcb971b53272b79f259415b027d80"
   }
  }
 },
 "nbformat": 4,
 "nbformat_minor": 4
}
