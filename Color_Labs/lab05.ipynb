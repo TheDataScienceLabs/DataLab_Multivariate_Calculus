{
 "cells": [
  {
   "cell_type": "markdown",
   "metadata": {},
   "source": [
    "# Week 6: Edge Detection in Images\n",
    "\n",
    "<font size=\"6\"> Laboratory 5 </font> <br>\n",
    "<font size=\"3\"> Last updated June 16, 2022 </font>"
   ]
  },
  {
   "cell_type": "markdown",
   "metadata": {},
   "source": [
    "## <span style=\"color:orange;\"> 00. Content </span>\n",
    "\n",
    "<font size=\"5\"> Mathematics </font>\n",
    "- 3 dimensional vectors\n",
    "- Taylor series\n",
    "- Partial derivatives\n",
    "- Second partial derivative test\n",
    "- Convolution\n",
    "\n",
    "<font size=\"5\"> Programming Skills </font>\n",
    "- Multi-dimensional array manipulation\n",
    "- Functions\n",
    "\n",
    "<font size=\"5\"> Embedded Systems </font>\n",
    "- N/A\n",
    "\n",
    "## <span style=\"color:orange;\"> 0. Required Hardware </span>\n",
    "- N/A"
   ]
  },
  {
   "cell_type": "markdown",
   "metadata": {},
   "source": [
    "<h3 style=\"background-color:lightblue\"> Write your name and email below: </h3>\n",
    "\n",
    "**Name:** me \n",
    "\n",
    "**Email:** me @purdue.edu"
   ]
  },
  {
   "cell_type": "code",
   "execution_count": null,
   "metadata": {},
   "outputs": [],
   "source": [
    "import numpy as np\n",
    "import matplotlib.pyplot as plt\n",
    "from PIL import Image"
   ]
  },
  {
   "cell_type": "markdown",
   "metadata": {},
   "source": [
    "## <span style=\"color:orange;\"> 1. Edge Detection </span>\n",
    "\n",
    "Suppose we have a grayscale image and we want to outline all of the objects in the image. We can start by looking for all of the vertical edges in the image. An edge occurs when there is a significant change in intensity. Let's look a very small piece of the grayscale Italy image show in red."
   ]
  },
  {
   "cell_type": "code",
   "execution_count": null,
   "metadata": {},
   "outputs": [],
   "source": [
    "import matplotlib.patches as patches\n",
    "\n",
    "gray_img = np.array(Image.open('pictures/gray_italy.jpg'))[:300,:500]\n",
    "\n",
    "fig, ax = plt.subplots(figsize=(12,6))\n",
    "ax.imshow(gray_img, cmap='gray')\n",
    "rect = patches.Rectangle((0, 280), 300, 1, linewidth=0.5, edgecolor='r', facecolor='none')\n",
    "ax.add_patch(rect)\n",
    "ax.axis('off')\n",
    "plt.show()"
   ]
  },
  {
   "cell_type": "markdown",
   "metadata": {},
   "source": [
    "By plotting the grayscale values as a 1D function, we can see how the grayscale values change moving down the row from left to right. This function is a bit noisy, but we have seen previously how to smooth it out by taking a rolling average.\n"
   ]
  },
  {
   "cell_type": "code",
   "execution_count": null,
   "metadata": {},
   "outputs": [],
   "source": [
    "def rolling_centered_average(x, n):\n",
    "    out = np.full_like(x, np.nan)\n",
    "    out[(n - 1) // 2 : -(n // 2)] = np.convolve(x, np.ones(n), mode=\"valid\") / n\n",
    "    return out\n",
    "\n",
    "gray_img = np.array(Image.open('pictures/gray_italy.jpg'))\n",
    "slice = gray_img[280:281,:300]\n",
    "\n",
    "x = gray_img[280,:300]\n",
    "smoothed = rolling_centered_average(gray_img[280,:300],3)\n",
    "first_deriv = np.convolve(smoothed[1:-1], np.array([-1,1]), mode=\"valid\")\n",
    "\n",
    "fig, ax = plt.subplots(nrows=3, ncols=1, figsize=(24, 8),gridspec_kw={'hspace': 0.5})\n",
    "ax[0].imshow(np.tile(slice,(20,1)), cmap='gray')\n",
    "ax[0].axis('off')     \n",
    "ax[0].set_title('Piece of Italy Image Stretched Vertically')  \n",
    "\n",
    "ax[1].plot(np.arange(0,300),x)\n",
    "ax[1].plot(np.arange(1,299), smoothed[1:-1])\n",
    "ax[1].set_xlabel('Column')\n",
    "ax[1].set_xlim(0,300)\n",
    "ax[1].set_title('Grayscale Values in Row 280')\n",
    "\n",
    "ax[2].plot(np.arange(2,299),first_deriv)\n",
    "ax[2].set_xlabel('Column')\n",
    "ax[2].set_xlim(0,300)\n",
    "ax[2].set_title('First Derivative')\n",
    "plt.show()"
   ]
  },
  {
   "cell_type": "markdown",
   "metadata": {},
   "source": [
    "We can see large spikes and dips in the graph of the first derivative where there are abrupt changes in the grayscale values of the row in the image. We can find edges by detecting the local minima and maxima of the first derivative! Since images have two dimensions, a row and column coordinate for each pixel, the example we just went through is a partial derivative.\n",
    "\n",
    "Let $f(x,y)$ be a continuous grayscale image mapping $\\mathbb{R}^2$ to $\\mathbb{R}$.\n",
    "When we read in an image in Python we are observing a sampling of points of $f(x,y)$ which we will call $f_d(n,m)$.\n",
    "So, $f_d(n,m) = f(n\\Delta x, m \\Delta y)$.\n",
    "where $\\Delta x$ and $\\Delta y$ are the sampling distances along the x and y-axis, respectively.\n",
    "Taking partial derivatives of $f$ can be approximated by the forward difference formulas, $\n",
    "    \\begin{align*}\n",
    "        \\frac{df}{dx}(n\\Delta x,m \\Delta y) &\\approx \\frac{f(n\\Delta x+\\Delta x,m \\Delta y)-f(n\\Delta x,m \\Delta y)}{\\Delta x}\n",
    "                                                = \\frac{f_d(n+1,m)-f_d(n,m)}{\\Delta x} \\\\\n",
    "        \\frac{df}{dy}(n\\Delta x,m \\Delta y) &\\approx \\frac{f(n\\Delta x,m \\Delta y+\\Delta y)-f(n\\Delta x,m \\Delta y)}{\\Delta y}\n",
    "                                                = \\frac{f_d(n,m+1)-f_d(n,m)}{\\Delta y}\n",
    "    \\end{align*}$\n",
    "\n",
    "\n",
    "The gradient of $f$ is $\n",
    "    \\nabla f = \\begin{pmatrix}  \\frac{df}{dx} \\\\  \\\\ \\frac{df}{dy}\\end{pmatrix}$\n",
    "with magnitude $\n",
    "    |\\nabla f| = \\sqrt{\\left(\\frac{df}{dx}\\right)^2 + \\left(\\frac{df}{dy}\\right)^2}$\n",
    "and direction $\n",
    "    \\theta = \\arctan \\left(\\left(\\frac{df}{dy}\\right) / \\left(\\frac{df}{dx}\\right)\\right).$"
   ]
  },
  {
   "cell_type": "markdown",
   "metadata": {},
   "source": [
    "### <span style=\"color:red\"> Exercise </span>\n",
    "\n",
    "**Part 1**\n",
    "\n",
    "What are the physical interpretations for $|\\nabla f|$ and $\\theta$?\n",
    "\n",
    "<h3 style=\"background-color:lightblue\"> Write Answers for Exercise Part 1 Below </h3>"
   ]
  },
  {
   "cell_type": "markdown",
   "metadata": {},
   "source": []
  },
  {
   "cell_type": "markdown",
   "metadata": {},
   "source": [
    "**Part 2**\n",
    "\n",
    "Plot the magnitute of the gradient of an image.\n",
    "\n",
    "**Part 3**\n",
    "\n",
    "Pick a threshold for how large the gradient needs to be in order to detect an edge. Justify your choice. \n",
    "\n",
    "**Part 4**\n",
    "\n",
    "Plot the edge image so that edge pixels are white and non-edge pixels are black. \n",
    "\n",
    "<h3 style=\"background-color:lightblue\"> Write Answers for Exercise Parts 2-4 Below </h3>"
   ]
  },
  {
   "cell_type": "code",
   "execution_count": null,
   "metadata": {},
   "outputs": [],
   "source": [
    "from scipy import signal\n",
    "\n",
    "# fill in"
   ]
  },
  {
   "cell_type": "markdown",
   "metadata": {},
   "source": [
    "**Part 5**\n",
    "\n",
    "Repeat Parts 2-4 using the symmetric difference formulas for partial derivatives.$\n",
    "    \\begin{align*}\n",
    "        \\frac{df}{dx}(n\\Delta x,m \\Delta y) &\\approx \\frac{f_d(n+1,m)-f_d(n-1,m)}{2\\Delta x} \\\\\n",
    "        \\frac{df}{dy}(n\\Delta x,m \\Delta y) &\\approx \\frac{f_d(n,m+1)-f_d(n,m-1)}{2\\Delta y}\n",
    "    \\end{align*}$ \n",
    "\n",
    "<h3 style=\"background-color:lightblue\"> Write Answers for Exercise Part 5 Below </h3>"
   ]
  },
  {
   "cell_type": "code",
   "execution_count": null,
   "metadata": {},
   "outputs": [],
   "source": []
  },
  {
   "cell_type": "markdown",
   "metadata": {},
   "source": [
    "**Part 6**\n",
    "\n",
    "Describe the differences, if any, between the two edge detectors. \n",
    "\n",
    "<h3 style=\"background-color:lightblue\"> Write Answers for Exercise Part 6 Below </h3>"
   ]
  },
  {
   "cell_type": "markdown",
   "metadata": {},
   "source": []
  },
  {
   "cell_type": "markdown",
   "metadata": {},
   "source": [
    "## <span style=\"color:orange;\"> 2. Derivatives </span>\n",
    "\n",
    "The previous exercise has you detect edges based on the first derivative. Another approach is to build an edge detector based on the second derivative because when the second derivative is zero, there is a local minimum or maximum in the first derivative. The strategy is to approximate $\\frac{d^2f}{dx^2}, \\frac{d^2f}{dxdy}$ and $\\frac{d^2f}{dy^2}$ using the information we have available, that is $f_d(n,m)$, and then check where the second derivative changes from positive to negative or vice versa.\n",
    "\n",
    "Let's simplify for a moment and see how to approach this in 1 dimension. Suppose $g(x)$ is a continuous function and is infinitely differentiable at the point $a$. The Taylor series of $g(x)$ at $a$ is $\n",
    "    g(x) = g(a) + \\frac{g'(a)}{1}(x-a) + \\frac{g''(a)}{1\\cdot 2}(x-a)^2 + \\frac{g'''(a)}{1\\cdot 2\\cdot 3}(x-a)^3 + \\cdots  $\n",
    "This sum goes on forever, but if we truncate after a few terms we can get a good estimation of the function $g(x)$ near $a$.\n",
    "Say we want to approximate $g'(a)$.\n",
    "By evaluating $g(x)$ at $x=a+h$ and $x=a-h$ where $h>0$ is a small positive number and only keeping the first two terms in the Taylor series, $\n",
    "    \\begin{align*}\n",
    "        g(a+h) &\\approx g(a) + \\frac{g'(a)}{1}((a+h)-a) = g(a) + g'(a)h\\\\ \n",
    "        g(a-h) &\\approx g(a) + \\frac{g'(a)}{1}((a-h)-a) = g(a) - g'(a)h\\\\ \n",
    "    \\end{align*}$.\n",
    "Now, subtract $g(a+h)$ and $g(a-h)$ to get $\n",
    "    g(a+h) - g(a-h) \\approx 2g'(a)h \\quad \\Rightarrow \\quad g'(a) \\approx \\frac{g(a+h)-g(a-h)}{2h},$\n",
    "which is the same symmetric difference formula you've seen before.\n",
    "To approximate the second derivative $g''(a)$, use the estimations $\n",
    "    \\begin{align*}\n",
    "        g(a+h) &\\approx g(a) + \\frac{g'(a)}{1}((a+h)-a) + \\frac{g''(a)}{1\\cdot 2}((a+h)-a)^2 = g(a) + g'(a)h + g''(a)h^2 \\\\ \n",
    "        g(a-h) &\\approx g(a) + \\frac{g'(a)}{1}((a-h)-a) + \\frac{g''(a)}{1\\cdot 2}((a-h)-a)^2 = g(a) - g'(a)h + g''(a)h^2 \\\\ \n",
    "    \\end{align*}$.\n",
    "    \n",
    "<br>"
   ]
  },
  {
   "cell_type": "markdown",
   "metadata": {},
   "source": [
    "### <span style=\"color:red\"> Exercise </span>\n",
    "\n",
    "Finish the derivation of the estimation of $g''(a)$. Your estimation should only depend on function values of $g$.\n",
    "\n",
    "<h3 style=\"background-color:lightblue\"> Write Answers for Exercise Below </h3>"
   ]
  },
  {
   "cell_type": "markdown",
   "metadata": {},
   "source": []
  },
  {
   "cell_type": "markdown",
   "metadata": {},
   "source": [
    "Going back to the 2-dimensional case, the Taylor series of the funtion $f(x,y)$ at the point $(a,b)$ is $\n",
    "    f(x,y) = f(a,b) + (x-a)\\frac{df}{dx}(a,b) + (y-b)\\frac{df}{dy}(a,b) + \n",
    "        \\frac{(x-a)^2\\frac{d^2f}{dx^2}(a,b) + 2(x-a)(y-b)\\frac{d^2f}{dxdy}(a,b) + (y-b)^2\\frac{d^2f}{dy^2}(a,b)}{1 \\cdot 2} + \\cdots$ \n",
    "\n",
    "The second partial derivative test states that $f(x,y)$ has a local minimum, local maximum, or saddle point at the point $(a,b)$ if $\n",
    "    \\left[\\frac{d^2f}{dx^2}(a,b) \\right] \\left[\\frac{d^2f}{dy^2}(a,b) \\right] - \\left[\\frac{d^2f}{dxdy}(a,b) \\right]^2 = 0.$\n",
    "\n",
    "Similar to the 1-dimensional case, we can use Taylor series to derive approximations for $\\frac{d^2f}{dx^2},\\frac{d^2f}{dy^2}$ and $\\frac{d^2f}{dxdy}$.\n",
    "\n",
    "For $\\frac{d^2f}{dx^2}$, evaluate $f$ at $(x,y)=(a+h,b)$ and $(x,y)=(a-h,b)$ where $h>0$ is a small positive number.\n",
    "\n",
    "$\\begin{align*}\n",
    "    f(a+h,b) &\\approx f(a,b) + h\\frac{df}{dx}(a,b) + \\frac{h^2\\frac{d^2f}{dx^2}(a,b)}{2} \\\\ \n",
    "    f(a-h,b) &\\approx f(a,b) - h\\frac{df}{dx}(a,b) + \\frac{h^2\\frac{d^2f}{dx^2}(a,b)}{2} \\\\ \n",
    "    \\Rightarrow f(a+h,b)+f(a-h,b) &\\approx 2f(a,b) + h^2\\frac{d^2f}{dx^2}(a,b) \\\\ \n",
    "    \\Rightarrow \\frac{d^2f}{dx^2}(a,b) &\\approx \\frac{f(a+h,b)+f(a-h,b)-2f(a,b)}{h^2}\n",
    "\\end{align*}$"
   ]
  },
  {
   "cell_type": "markdown",
   "metadata": {},
   "source": [
    "### <span style=\"color:red\"> Exercise </span>\n",
    "\n",
    "Derive the estimations of $\\frac{d^2f}{dy^2}$ and $\\frac{d^2f}{dxdy}$. Your estimations should only depend on function values of $f$.\n",
    "\n",
    "<h3 style=\"background-color:lightblue\"> Write Answers for Exercise Below </h3>"
   ]
  },
  {
   "cell_type": "markdown",
   "metadata": {},
   "source": []
  },
  {
   "cell_type": "markdown",
   "metadata": {},
   "source": [
    "### <span style=\"color:red\"> Exercise </span>\n",
    "\n",
    "Take a photo with your phone or find an image online. Use the second order method to detect edges in the image. Compare the result to the other first-order edge detectors you implemented in a previous exercise.\n",
    "\n",
    "<h3 style=\"background-color:lightblue\"> Write Answers for Exercise Below </h3>"
   ]
  },
  {
   "cell_type": "code",
   "execution_count": null,
   "metadata": {},
   "outputs": [],
   "source": []
  },
  {
   "cell_type": "markdown",
   "metadata": {},
   "source": [
    "## <span style=\"color:green\"> Reflection </span>\n",
    "\n",
    "__1. What parts of the lab, if any, do you feel you did well? <br>\n",
    "2. What are some things you learned today? <br>\n",
    "3. Are there any topics that could use more clarification? <br>\n",
    "4. Do you have any suggestions on parts of the lab to improve?__\n",
    "\n",
    "<h3 style=\"background-color:lightblue\"> Write Answers for the Reflection Below </h3>"
   ]
  },
  {
   "cell_type": "markdown",
   "metadata": {},
   "source": []
  }
 ],
 "metadata": {
  "interpreter": {
   "hash": "27dde21eeb9023b13d210a8bca55e17ac3ebd17095dd1e12ee8d25fa440eb59b"
  },
  "kernelspec": {
   "display_name": "Python 3 (ipykernel)",
   "language": "python",
   "name": "python3"
  },
  "language_info": {
   "codemirror_mode": {
    "name": "ipython",
    "version": 3
   },
   "file_extension": ".py",
   "mimetype": "text/x-python",
   "name": "python",
   "nbconvert_exporter": "python",
   "pygments_lexer": "ipython3",
   "version": "3.10.4"
  }
 },
 "nbformat": 4,
 "nbformat_minor": 4
}
