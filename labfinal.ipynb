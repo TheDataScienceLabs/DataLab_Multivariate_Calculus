{
 "cells": [
  {
   "cell_type": "markdown",
   "id": "7a25e6f4-d328-4741-8705-016357c5250a",
   "metadata": {
    "tags": []
   },
   "source": [
    "# Weeks 14-15: Final Project\n",
    "<font size=\"6\"> Self-Directed Project Expanding on Any of the Previous Labs </font> <br>\n",
    "<font size=\"3\"> Last updated July 01, 2022 </font>"
   ]
  },
  {
   "cell_type": "markdown",
   "id": "fa3739fc-f2a0-421b-aa9a-38736fb9a8b4",
   "metadata": {},
   "source": [
    "## <span style=\"color:orange;\"> 00. Content </span>"
   ]
  },
  {
   "cell_type": "markdown",
   "id": "e4a0d47a-9e3b-4ac4-be33-ec8b8b34b327",
   "metadata": {},
   "source": [
    "<font size=\"5\"> Mathematics </font>\n",
    "- You decide!\n",
    "     \n",
    "<font size=\"5\"> Programming Skills </font>\n",
    "- You decide!\n",
    "    \n",
    "<font size=\"5\"> Embedded Systems </font>\n",
    "- You decide!"
   ]
  },
  {
   "cell_type": "markdown",
   "id": "b5463351-4316-410f-9b5b-393c5ae697df",
   "metadata": {},
   "source": [
    "## <span style=\"color:orange;\"> 0. Required Hardware </span>"
   ]
  },
  {
   "cell_type": "markdown",
   "id": "9f2868ce-26c2-448e-93f1-fbd03b35fbbb",
   "metadata": {},
   "source": [
    "- You decide!"
   ]
  },
  {
   "cell_type": "markdown",
   "id": "3808f19f-f6f9-40d4-9cbb-98bc1235652b",
   "metadata": {},
   "source": [
    "<h3 style=\"background-color:lightblue\"> Write your name and email below: </h3>\n",
    "\n",
    "**Name:** me \n",
    "\n",
    "**Email:** me @purdue.edu"
   ]
  },
  {
   "cell_type": "markdown",
   "id": "86906c98-83c0-4ef1-b8ab-ffff9e2bfbd3",
   "metadata": {},
   "source": [
    "## <span style=\"color:orange;\"> 1. Make a Plan </span> "
   ]
  },
  {
   "cell_type": "markdown",
   "id": "15f8d300-a669-4c22-b90c-09e7343e8402",
   "metadata": {},
   "source": [
    "You have learned a lot of new strategies and tools this semester. This assignment is your chance to show off some of your skills. This can be done individually or in groups. You are free to design your own project, or adapt one of the suggestions below. There are just a few hard rules:\n",
    "\n",
    "1. Your project must be original: it can't be something which you have already done, or following an existing tutorial. Your project should not do the same thing another group is doing.\n",
    "2. Your project must use at least one of the mathematical concepts introduced this semester.\n",
    "3. Your project must involve some kind of data measurement and data analysis.\n",
    "4. Your project must use code, either on the computer or the microcontroller.\n",
    "\n",
    "So long as your project meets the above requirements, it is suitable for this assignment. Here are a few suggestions you can use if you wish; you don't have to do one of these, and you are welcome to change any of these as well.\n",
    "\n",
    "1. Build a slouch detector, a wearable device which will notify you if your posture changes over time.\n",
    "\n",
    "**FILL IN OTHER EXAMPLES**\n",
    "\n",
    "### <span style=\"color:red\"> Exercise 1 </span> (20 pts)\n",
    "Answer the following questions. Before moving on with the assignment, confirm with your instructor that your plan meets the requirements of the assignment.\n",
    "\n",
    "1. Describe your project. What is your goal? If you find you don't have enough time to complete the project, how will you limit its scope?\n",
    "2. What mathematical concepts or strategies will you need to complete this project?\n",
    "3. What is the data involved in your project? How will you analyze it? What sources of error will influence your data?\n",
    "4. What programming techniques will you apply to manage your code? What strategies will you use?\n",
    "5. Who are the members of your group? How will you divide the work? What parts will each group member be responsible for?\n",
    "\n",
    "<h3 style=\"background-color:lightblue\"> Write Answers for Exercise 1 Below </h3>"
   ]
  },
  {
   "cell_type": "markdown",
   "id": "9a635629-91fe-4ee6-8d3a-b8a6b464e712",
   "metadata": {},
   "source": []
  },
  {
   "cell_type": "markdown",
   "id": "bb97532b-9dff-4c60-9650-70b9c214b2f2",
   "metadata": {},
   "source": [
    "## <span style=\"color:orange;\"> 2. The Rubric </span> "
   ]
  },
  {
   "cell_type": "markdown",
   "id": "1b45b724-3e41-4b63-9f28-228cb30fb69f",
   "metadata": {},
   "source": [
    "### <span style=\"color:red\"> Exercise 2 </span> (70 pts)\n",
    "\n",
    "You will be graded on the following rubric. Include everything you produced as part of your project below so that it can be graded. Make sure code is correctly formatted and each document is described.\n",
    "\n",
    "Category | Meets all expectations | Meets most expectations | Does not meet expectations\n",
    "---------|------------------------|-------------------------|---------------------------\n",
    "Documentation (25 points) | (25) From the documentation is is clear how your project can be used, how it was made, and how it can be modified. | (10) Some parts of the documentation are unclear, but all the most important parts of the project have a clear description. | (0) There are large parts which are unexplained, or which have an incorrect explanation.\n",
    "Mathematical sophistication (15 points) | (15) There is at least one part of the project which relies on a mathematical concept introduced this semester, and it is applied and described correctly. | (5) There is a mathematical technique used, but there is a significant error in how it is described or applied. | (0) No mathematical techniques were applied, or the techniques were applied in an inappropriate way.\n",
    "Data management (15 points) | (15) Data are collected and described accurately. Data support the conclusions made in the project. Errors are accounted for and addressed. | (5) Errors in data are not considered, or data are described inaccurately, or data are interpreted inaccurately. | (0) No data are involved in the project, or there are serious errors in how the data are used.\n",
    "Coding practices (15 points) | (15) Code is well-organized using functions, classes, and modules when appropriate. The choices made in designing the code were justified in writing. There are comments and docstrings provided which make the code easier to read. | (5) The code is hard to read in some places, but it is still clear that some careful thought was put into the code structure. There are a couple places where a comment or docstring would be appropriate, but were not provided. There may be some edge cases which are not handled correctly. | (0) Code is hard to read, or does not behave as intended.\n",
    "\n",
    "<h3 style=\"background-color:lightblue\"> Write Answers for Exercise 2 Below </h3>"
   ]
  },
  {
   "cell_type": "markdown",
   "id": "748231bb-a401-414e-8347-1f63b9996adc",
   "metadata": {},
   "source": [
    "## <span style=\"color:orange;\"> 3. Reflection </span> "
   ]
  },
  {
   "cell_type": "markdown",
   "id": "508a4b6e-aa74-432d-98f3-d565d369d1f0",
   "metadata": {},
   "source": [
    "### <span style=\"color:red\"> Exercise 3 </span> (10 pts)\n",
    "\n",
    "Write a three-paragraph reflection on the assignment. What parts went well? What could be improved if you had more time to work on it? What difficulties arose which you did not expect? What advice would you have for someone who is beginning a project like yours?\n",
    "\n",
    "<h3 style=\"background-color:lightblue\"> Write Answers for Exercise 3 Below </h3>"
   ]
  },
  {
   "cell_type": "markdown",
   "id": "cfb556b7-344a-40a7-974d-bbe505772a2f",
   "metadata": {},
   "source": []
  }
 ],
 "metadata": {
  "kernelspec": {
   "display_name": "Python 3 (ipykernel)",
   "language": "python",
   "name": "python3"
  },
  "language_info": {
   "codemirror_mode": {
    "name": "ipython",
    "version": 3
   },
   "file_extension": ".py",
   "mimetype": "text/x-python",
   "name": "python",
   "nbconvert_exporter": "python",
   "pygments_lexer": "ipython3",
   "version": "3.10.4"
  },
  "toc-showmarkdowntxt": false
 },
 "nbformat": 4,
 "nbformat_minor": 5
}
