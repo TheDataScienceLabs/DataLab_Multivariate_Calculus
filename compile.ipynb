{
 "cells": [
  {
   "cell_type": "markdown",
   "id": "aed88a21-a17a-4d3b-92d6-4df9baf612c8",
   "metadata": {},
   "source": [
    "You can run the cell below to build the HTML book locally, to preview what will happen after you upload to Github. Or you could just run the command `jupyter-book build .` in a terminal."
   ]
  },
  {
   "cell_type": "code",
   "execution_count": null,
   "id": "84d5341a-a540-49bc-aaca-99a2bfb3114b",
   "metadata": {},
   "outputs": [],
   "source": [
    "!{'jupyter-book build book'}"
   ]
  },
  {
   "cell_type": "code",
   "execution_count": null,
   "id": "237c0c7c-d819-4e06-b394-94db77fde0bb",
   "metadata": {},
   "outputs": [],
   "source": []
  }
 ],
 "metadata": {
  "kernelspec": {
   "display_name": "Python 3 (ipykernel)",
   "language": "python",
   "name": "python3"
  },
  "language_info": {
   "codemirror_mode": {
    "name": "ipython",
    "version": 3
   },
   "file_extension": ".py",
   "mimetype": "text/x-python",
   "name": "python",
   "nbconvert_exporter": "python",
   "pygments_lexer": "ipython3",
   "version": "3.10.4"
  }
 },
 "nbformat": 4,
 "nbformat_minor": 5
}
