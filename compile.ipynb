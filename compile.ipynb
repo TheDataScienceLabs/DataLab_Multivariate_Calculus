{
 "cells": [
  {
   "cell_type": "markdown",
   "id": "aed88a21-a17a-4d3b-92d6-4df9baf612c8",
   "metadata": {},
   "source": [
    "You can run the cell below to build the HTML book locally, to preview what will happen after you upload to Github. Or you could just run the command `jupyter-book build .` in a terminal."
   ]
  },
  {
   "cell_type": "code",
   "execution_count": 1,
   "id": "84d5341a-a540-49bc-aaca-99a2bfb3114b",
   "metadata": {},
   "outputs": [
    {
     "name": "stdout",
     "output_type": "stream",
     "text": [
      "\u001b[32m\u001b[1mRunning Jupyter-Book v0.12.3\u001b[0m\n",
      "\u001b[34m\u001b[1mSource Folder: \u001b[0m/home/shay/a/long389/Desktop/DataLab_Multivariate_Calculus\n",
      "\u001b[34m\u001b[1mConfig Path: \u001b[0m/home/shay/a/long389/Desktop/DataLab_Multivariate_Calculus/_config.yml\n",
      "\u001b[34m\u001b[1mOutput Path: \u001b[0m/home/shay/a/long389/Desktop/DataLab_Multivariate_Calculus/_build/html\n",
      "\u001b[01mRunning Sphinx v4.5.0\u001b[39;49;00m\n",
      "\u001b[01mmaking output directory... \u001b[39;49;00mdone\n",
      "[etoc] Changing master_doc to 'intro'\n",
      "checking bibtex cache... out of date\n",
      "parsing bibtex file /home/shay/a/long389/Desktop/DataLab_Multivariate_Calculus/references.bib... parsed 5 entries\n",
      "\u001b[01mmyst v0.15.2:\u001b[39;49;00m MdParserConfig(renderer='sphinx', commonmark_only=False, enable_extensions=['amsmath', 'colon_fence', 'dollarmath', 'linkify', 'substitution', 'tasklist'], dmath_allow_labels=True, dmath_allow_space=True, dmath_allow_digits=True, dmath_double_inline=False, update_mathjax=True, mathjax_classes='tex2jax_process|mathjax_process|math|output_area', disable_syntax=[], url_schemes=['mailto', 'http', 'https'], heading_anchors=None, heading_slug_func=None, html_meta=[], footnote_transition=True, substitutions=[], sub_delimiters=['{', '}'], words_per_minute=200)\n",
      "\u001b[01mbuilding [mo]: \u001b[39;49;00mtargets for 0 po files that are out of date\n",
      "\u001b[01mbuilding [html]: \u001b[39;49;00mtargets for 18 source files that are out of date\n",
      "\u001b[01mupdating environment: \u001b[39;49;00m[new config] 18 added, 0 changed, 0 removed\n",
      "\u001b[01mreading sources... \u001b[39;49;00m[100%] \u001b[35mnotebooks\u001b[39;49;00m                                             \n",
      "\u001b[91m/home/shay/a/long389/Desktop/DataLab_Multivariate_Calculus/Color_Labs/color.ipynb:30004: WARNING: Non-consecutive header level increase; 0 to 3 [myst.header]\u001b[39;49;00m\n",
      "\u001b[91m/home/shay/a/long389/Desktop/DataLab_Multivariate_Calculus/Color_Labs/color.ipynb:30013: WARNING: Non-consecutive header level increase; 0 to 3 [myst.header]\u001b[39;49;00m\n",
      "\u001b[91m/home/shay/a/long389/Desktop/DataLab_Multivariate_Calculus/Color_Labs/color.ipynb:30017: WARNING: Non-consecutive header level increase; 0 to 3 [myst.header]\u001b[39;49;00m\n",
      "\u001b[91m/home/shay/a/long389/Desktop/DataLab_Multivariate_Calculus/Color_Labs/color.ipynb:50002: WARNING: Non-consecutive header level increase; 0 to 2 [myst.header]\u001b[39;49;00m\n",
      "\u001b[91m/home/shay/a/long389/Desktop/DataLab_Multivariate_Calculus/Color_Labs/color.ipynb:130002: WARNING: Non-consecutive header level increase; 0 to 2 [myst.header]\u001b[39;49;00m\n",
      "\u001b[91m/home/shay/a/long389/Desktop/DataLab_Multivariate_Calculus/Color_Labs/color.ipynb:170002: WARNING: Non-consecutive header level increase; 0 to 2 [myst.header]\u001b[39;49;00m\n",
      "\u001b[91m/home/shay/a/long389/Desktop/DataLab_Multivariate_Calculus/Color_Labs/color.ipynb:230002: WARNING: Non-consecutive header level increase; 0 to 2 [myst.header]\u001b[39;49;00m\n",
      "\u001b[91m/home/shay/a/long389/Desktop/DataLab_Multivariate_Calculus/Color_Labs/color.ipynb:340002: WARNING: Non-consecutive header level increase; 0 to 2 [myst.header]\u001b[39;49;00m\n",
      "\u001b[91m/home/shay/a/long389/Desktop/DataLab_Multivariate_Calculus/Color_Labs/color.ipynb:380002: WARNING: Non-consecutive header level increase; 0 to 2 [myst.header]\u001b[39;49;00m\n",
      "\u001b[91m/home/shay/a/long389/Desktop/DataLab_Multivariate_Calculus/Color_Labs/color.ipynb:410002: WARNING: Non-consecutive header level increase; 0 to 2 [myst.header]\u001b[39;49;00m\n",
      "\u001b[91m/home/shay/a/long389/Desktop/DataLab_Multivariate_Calculus/Color_Labs/color.ipynb:450002: WARNING: Non-consecutive header level increase; 0 to 2 [myst.header]\u001b[39;49;00m\n",
      "\u001b[91m/home/shay/a/long389/Desktop/DataLab_Multivariate_Calculus/Color_Labs/color.ipynb:480002: WARNING: Non-consecutive header level increase; 0 to 2 [myst.header]\u001b[39;49;00m\n",
      "\u001b[91m/home/shay/a/long389/Desktop/DataLab_Multivariate_Calculus/Color_Labs/color.ipynb:510002: WARNING: Non-consecutive header level increase; 0 to 2 [myst.header]\u001b[39;49;00m\n",
      "\u001b[91m/home/shay/a/long389/Desktop/DataLab_Multivariate_Calculus/Color_Labs/color.ipynb:680002: WARNING: Non-consecutive header level increase; 0 to 2 [myst.header]\u001b[39;49;00m\n",
      "\u001b[91m/home/shay/a/long389/Desktop/DataLab_Multivariate_Calculus/Color_Labs/color.ipynb:720002: WARNING: Non-consecutive header level increase; 0 to 2 [myst.header]\u001b[39;49;00m\n",
      "\u001b[91m/home/shay/a/long389/Desktop/DataLab_Multivariate_Calculus/intro.md:: WARNING: toctree contains reference to nonexisting document 'MOtion_Tracking_Lab/motion' [etoc.ref]\u001b[39;49;00m\n",
      "\u001b[01mlooking for now-outdated files... \u001b[39;49;00mnone found\n",
      "\u001b[01mpickling environment... \u001b[39;49;00mdone\n",
      "\u001b[01mchecking consistency... \u001b[39;49;00m\u001b[91m/home/shay/a/long389/Desktop/DataLab_Multivariate_Calculus/Color_Labs/color.ipynb: WARNING: document isn't included in any toctree\u001b[39;49;00m\n",
      "\u001b[91m/home/shay/a/long389/Desktop/DataLab_Multivariate_Calculus/Color_Labs/lab01_info.md: WARNING: document isn't included in any toctree\u001b[39;49;00m\n",
      "\u001b[91m/home/shay/a/long389/Desktop/DataLab_Multivariate_Calculus/Motion_Tracking_Lab/motion.ipynb: WARNING: document isn't included in any toctree\u001b[39;49;00m\n",
      "\u001b[91m/home/shay/a/long389/Desktop/DataLab_Multivariate_Calculus/README.md: WARNING: document isn't included in any toctree\u001b[39;49;00m\n",
      "\u001b[91m/home/shay/a/long389/Desktop/DataLab_Multivariate_Calculus/compile.ipynb: WARNING: document isn't included in any toctree\u001b[39;49;00m\n",
      "\u001b[91m/home/shay/a/long389/Desktop/DataLab_Multivariate_Calculus/markdown.md: WARNING: document isn't included in any toctree\u001b[39;49;00m\n",
      "\u001b[91m/home/shay/a/long389/Desktop/DataLab_Multivariate_Calculus/notebooks.ipynb: WARNING: document isn't included in any toctree\u001b[39;49;00m\n",
      "done\n",
      "\u001b[01mpreparing documents... \u001b[39;49;00mdone\n",
      "\u001b[01mwriting output... \u001b[39;49;00m[100%] \u001b[32mnotebooks\u001b[39;49;00m                                              \n",
      "\u001b[01mgenerating indices... \u001b[39;49;00mgenindex done\n",
      "\u001b[01mwriting additional pages... \u001b[39;49;00msearch done\n",
      "\u001b[01mcopying images... \u001b[39;49;00m[100%] \u001b[33m_build/jupyter_execute/Motion_Tracking_Lab/motion_19_0.png\u001b[39;49;00mm\n",
      "\u001b[01mcopying static files... \u001b[39;49;00mdone\n",
      "\u001b[01mcopying extra files... \u001b[39;49;00mdone\n",
      "\u001b[01mdumping search index in English (code: en)... \u001b[39;49;00mdone\n",
      "\u001b[01mdumping object inventory... \u001b[39;49;00mdone\n",
      "\u001b[01mbuild succeeded, 23 warnings.\u001b[39;49;00m\n",
      "\n",
      "The HTML pages are in _build/html.\n",
      "[etoc] missing index.html written as redirect to 'intro.html'\n",
      "\n",
      "\u001b[92m===============================================================================\u001b[0m\n",
      "\n",
      "Finished generating HTML for book.\n",
      "Your book's HTML pages are here:\n",
      "    _build/html/\n",
      "You can look at your book by opening this file in a browser:\n",
      "    _build/html/index.html\n",
      "Or paste this line directly into your browser bar:\n",
      "    file:///home/shay/a/long389/Desktop/DataLab_Multivariate_Calculus/_build/html/index.html            \n",
      "\n",
      "\u001b[92m===============================================================================\u001b[0m\n",
      "\n"
     ]
    }
   ],
   "source": [
    "!{'jupyter-book build .'}"
   ]
  },
  {
   "cell_type": "code",
   "execution_count": null,
   "id": "a29e4bfc-43d4-4864-be8c-e2b6dc8251c8",
   "metadata": {},
   "outputs": [],
   "source": []
  }
 ],
 "metadata": {
  "kernelspec": {
   "display_name": "Python 3 (ipykernel)",
   "language": "python",
   "name": "python3"
  },
  "language_info": {
   "codemirror_mode": {
    "name": "ipython",
    "version": 3
   },
   "file_extension": ".py",
   "mimetype": "text/x-python",
   "name": "python",
   "nbconvert_exporter": "python",
   "pygments_lexer": "ipython3",
   "version": "3.10.4"
  }
 },
 "nbformat": 4,
 "nbformat_minor": 5
}
